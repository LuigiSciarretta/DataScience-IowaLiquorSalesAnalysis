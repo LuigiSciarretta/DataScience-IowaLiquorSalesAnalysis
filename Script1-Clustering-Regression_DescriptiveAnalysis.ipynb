{
 "cells": [
  {
   "cell_type": "markdown",
   "metadata": {},
   "source": [
    "# Script 1 - Iowa Liquor Sales"
   ]
  },
  {
   "cell_type": "markdown",
   "metadata": {},
   "source": [
    "In questo primo script si è analizzato in ottica descrittiva il dataset, Iowa Liquor Sales. Esso contiene informazioni riguardo l'attività di vendita di alcolici negli Stati Uniti ed in paricoalre nello stato dell' Iowa. Sono state effettuate dettagliate analisi descrittve, e come ulteriore obiettivo ci siamo prefissati di predire in quali codici postali sarebbe interessante aprire un negozio per massimizzare le vendite.  "
   ]
  },
  {
   "cell_type": "markdown",
   "metadata": {},
   "source": [
    "# Import delle librerie"
   ]
  },
  {
   "cell_type": "code",
   "execution_count": 1,
   "metadata": {},
   "outputs": [],
   "source": [
    "import pandas as pd\n",
    "import numpy as np\n",
    "import matplotlib.pyplot as plt\n",
    "import seaborn as sns\n",
    "from scipy import stats\n",
    "from sklearn import datasets, linear_model\n",
    "from sklearn.model_selection import train_test_split\n",
    "import statsmodels.api as sm"
   ]
  },
  {
   "cell_type": "markdown",
   "metadata": {},
   "source": [
    "# Read Data and ETL "
   ]
  },
  {
   "cell_type": "code",
   "execution_count": 2,
   "metadata": {},
   "outputs": [],
   "source": [
    "df = pd.read_csv(\"C:/Users/gigio/Downloads/Iowa_Liquor_Sales.csv\", low_memory=False)\n"
   ]
  },
  {
   "cell_type": "code",
   "execution_count": 3,
   "metadata": {},
   "outputs": [
    {
     "data": {
      "text/plain": [
       "Invoice/Item Number            0\n",
       "Date                           0\n",
       "Store Number                   0\n",
       "Store Name                     0\n",
       "Address                    79927\n",
       "City                       79926\n",
       "Zip Code                   79971\n",
       "Store Location           1927332\n",
       "County Number             156731\n",
       "County                    156729\n",
       "Category                   16974\n",
       "Category Name              25040\n",
       "Vendor Number                  5\n",
       "Vendor Name                    3\n",
       "Item Number                    0\n",
       "Item Description               0\n",
       "Pack                           0\n",
       "Bottle Volume (ml)             0\n",
       "State Bottle Cost             10\n",
       "State Bottle Retail           10\n",
       "Bottles Sold                   0\n",
       "Sale (Dollars)                10\n",
       "Volume Sold (Liters)           0\n",
       "Volume Sold (Gallons)          0\n",
       "dtype: int64"
      ]
     },
     "execution_count": 3,
     "metadata": {},
     "output_type": "execute_result"
    }
   ],
   "source": [
    "# df.head()\n",
    "# df.describe()\n",
    "# df.info()\n",
    "df.isnull().sum() #vedo quanti valori NaN ci sono nel dataset"
   ]
  },
  {
   "cell_type": "code",
   "execution_count": 3,
   "metadata": {},
   "outputs": [
    {
     "data": {
      "text/plain": [
       "Invoice/Item Number      0\n",
       "Date                     0\n",
       "Store Number             0\n",
       "Store Name               0\n",
       "Address                  0\n",
       "City                     0\n",
       "Zip Code                 0\n",
       "Store Location           0\n",
       "County Number            0\n",
       "County                   0\n",
       "Category                 0\n",
       "Category Name            0\n",
       "Vendor Number            0\n",
       "Vendor Name              0\n",
       "Item Number              0\n",
       "Item Description         0\n",
       "Pack                     0\n",
       "Bottle Volume (ml)       0\n",
       "State Bottle Cost        0\n",
       "State Bottle Retail      0\n",
       "Bottles Sold             0\n",
       "Sale (Dollars)           0\n",
       "Volume Sold (Liters)     0\n",
       "Volume Sold (Gallons)    0\n",
       "dtype: int64"
      ]
     },
     "execution_count": 3,
     "metadata": {},
     "output_type": "execute_result"
    }
   ],
   "source": [
    "#ETL per eliminare i valori nulli ed i duplicati\n",
    "df.dropna(inplace=True)\n",
    "df.drop_duplicates(inplace = True)\n",
    "# df.shape\n",
    "df.isnull().sum() #verifica che sono stati eliminati i valori nulli"
   ]
  },
  {
   "cell_type": "code",
   "execution_count": 4,
   "metadata": {},
   "outputs": [],
   "source": [
    "#ETL sulla data, divido nel formato desiderato e creo due colonne: mese ed anno\n",
    "df.Date = pd.to_datetime(df[\"Date\"], format = \"%m/%d/%Y\")\n",
    "df['month'] = df.Date.dt.month\n",
    "df['year'] = df.Date.dt.year"
   ]
  },
  {
   "cell_type": "code",
   "execution_count": 5,
   "metadata": {},
   "outputs": [],
   "source": [
    "# Trasformo Item number in int64 \n",
    "df[(\"Item Number\")] = pd.to_numeric(df[(\"Item Number\")], errors='coerce')\n",
    "df[(\"Item Number\")] = pd.to_numeric(df[(\"Item Number\")], errors='coerce').fillna(0).astype(np.int64)"
   ]
  },
  {
   "cell_type": "code",
   "execution_count": 6,
   "metadata": {},
   "outputs": [],
   "source": [
    "#IMPORTANTE PER ETL category name e Vendor name presentano il problema dei duplciati tra minuscolo e maiuscolo,\n",
    "#che non si risolve con il semplice drop_duplicates, ma risolvo così:\n",
    "df[\"Category Name\"]=df[\"Category Name\"].str.upper()\n",
    "df['Vendor Name']=df['Vendor Name'].str.upper()"
   ]
  },
  {
   "cell_type": "code",
   "execution_count": 7,
   "metadata": {},
   "outputs": [],
   "source": [
    "popolazione=pd.read_excel(\"C:/Users/gigio/Desktop/PROVE BACKUP/popolazione_fips.xlsx\")"
   ]
  },
  {
   "cell_type": "code",
   "execution_count": 8,
   "metadata": {},
   "outputs": [
    {
     "data": {
      "text/html": [
       "<div>\n",
       "<style scoped>\n",
       "    .dataframe tbody tr th:only-of-type {\n",
       "        vertical-align: middle;\n",
       "    }\n",
       "\n",
       "    .dataframe tbody tr th {\n",
       "        vertical-align: top;\n",
       "    }\n",
       "\n",
       "    .dataframe thead th {\n",
       "        text-align: right;\n",
       "    }\n",
       "</style>\n",
       "<table border=\"1\" class=\"dataframe\">\n",
       "  <thead>\n",
       "    <tr style=\"text-align: right;\">\n",
       "      <th></th>\n",
       "      <th>State</th>\n",
       "      <th>Area_Name</th>\n",
       "      <th>year 2010</th>\n",
       "      <th>year 2011</th>\n",
       "      <th>year 2012</th>\n",
       "      <th>year 2013</th>\n",
       "      <th>year 2014</th>\n",
       "      <th>year 2015</th>\n",
       "      <th>year 2016</th>\n",
       "      <th>year 2017</th>\n",
       "      <th>year 2018</th>\n",
       "      <th>year 2019</th>\n",
       "      <th>FIPStxt</th>\n",
       "    </tr>\n",
       "  </thead>\n",
       "  <tbody>\n",
       "    <tr>\n",
       "      <th>0</th>\n",
       "      <td>US</td>\n",
       "      <td>United States</td>\n",
       "      <td>309321666</td>\n",
       "      <td>311556874</td>\n",
       "      <td>313830990</td>\n",
       "      <td>315993715</td>\n",
       "      <td>318301008</td>\n",
       "      <td>320635163</td>\n",
       "      <td>322941311</td>\n",
       "      <td>324985539</td>\n",
       "      <td>326687501</td>\n",
       "      <td>328239523</td>\n",
       "      <td>0</td>\n",
       "    </tr>\n",
       "    <tr>\n",
       "      <th>1</th>\n",
       "      <td>AL</td>\n",
       "      <td>Alabama</td>\n",
       "      <td>4785437</td>\n",
       "      <td>4799069</td>\n",
       "      <td>4815588</td>\n",
       "      <td>4830081</td>\n",
       "      <td>4841799</td>\n",
       "      <td>4852347</td>\n",
       "      <td>4863525</td>\n",
       "      <td>4874486</td>\n",
       "      <td>4887681</td>\n",
       "      <td>4903185</td>\n",
       "      <td>1000</td>\n",
       "    </tr>\n",
       "    <tr>\n",
       "      <th>2</th>\n",
       "      <td>AL</td>\n",
       "      <td>Autauga County</td>\n",
       "      <td>54773</td>\n",
       "      <td>55227</td>\n",
       "      <td>54954</td>\n",
       "      <td>54727</td>\n",
       "      <td>54893</td>\n",
       "      <td>54864</td>\n",
       "      <td>55243</td>\n",
       "      <td>55390</td>\n",
       "      <td>55533</td>\n",
       "      <td>55869</td>\n",
       "      <td>1001</td>\n",
       "    </tr>\n",
       "    <tr>\n",
       "      <th>3</th>\n",
       "      <td>AL</td>\n",
       "      <td>Baldwin County</td>\n",
       "      <td>183112</td>\n",
       "      <td>186558</td>\n",
       "      <td>190145</td>\n",
       "      <td>194885</td>\n",
       "      <td>199183</td>\n",
       "      <td>202939</td>\n",
       "      <td>207601</td>\n",
       "      <td>212521</td>\n",
       "      <td>217855</td>\n",
       "      <td>223234</td>\n",
       "      <td>1003</td>\n",
       "    </tr>\n",
       "    <tr>\n",
       "      <th>4</th>\n",
       "      <td>AL</td>\n",
       "      <td>Barbour County</td>\n",
       "      <td>27327</td>\n",
       "      <td>27341</td>\n",
       "      <td>27169</td>\n",
       "      <td>26937</td>\n",
       "      <td>26755</td>\n",
       "      <td>26283</td>\n",
       "      <td>25806</td>\n",
       "      <td>25157</td>\n",
       "      <td>24872</td>\n",
       "      <td>24686</td>\n",
       "      <td>1005</td>\n",
       "    </tr>\n",
       "  </tbody>\n",
       "</table>\n",
       "</div>"
      ],
      "text/plain": [
       "  State       Area_Name  year 2010  year 2011  year 2012  year 2013  \\\n",
       "0    US   United States  309321666  311556874  313830990  315993715   \n",
       "1    AL         Alabama    4785437    4799069    4815588    4830081   \n",
       "2    AL  Autauga County      54773      55227      54954      54727   \n",
       "3    AL  Baldwin County     183112     186558     190145     194885   \n",
       "4    AL  Barbour County      27327      27341      27169      26937   \n",
       "\n",
       "   year 2014  year 2015  year 2016  year 2017  year 2018  year 2019  FIPStxt  \n",
       "0  318301008  320635163  322941311  324985539  326687501  328239523        0  \n",
       "1    4841799    4852347    4863525    4874486    4887681    4903185     1000  \n",
       "2      54893      54864      55243      55390      55533      55869     1001  \n",
       "3     199183     202939     207601     212521     217855     223234     1003  \n",
       "4      26755      26283      25806      25157      24872      24686     1005  "
      ]
     },
     "execution_count": 8,
     "metadata": {},
     "output_type": "execute_result"
    }
   ],
   "source": [
    "popolazione.head()"
   ]
  },
  {
   "cell_type": "code",
   "execution_count": 9,
   "metadata": {},
   "outputs": [],
   "source": [
    "popolazione_IA=popolazione[popolazione['State']=='IA']"
   ]
  },
  {
   "cell_type": "code",
   "execution_count": 10,
   "metadata": {},
   "outputs": [
    {
     "name": "stderr",
     "output_type": "stream",
     "text": [
      "C:\\Users\\gigio\\anaconda3\\lib\\site-packages\\pandas\\core\\frame.py:3997: SettingWithCopyWarning: \n",
      "A value is trying to be set on a copy of a slice from a DataFrame\n",
      "\n",
      "See the caveats in the documentation: https://pandas.pydata.org/pandas-docs/stable/user_guide/indexing.html#returning-a-view-versus-a-copy\n",
      "  errors=errors,\n"
     ]
    },
    {
     "data": {
      "text/html": [
       "<div>\n",
       "<style scoped>\n",
       "    .dataframe tbody tr th:only-of-type {\n",
       "        vertical-align: middle;\n",
       "    }\n",
       "\n",
       "    .dataframe tbody tr th {\n",
       "        vertical-align: top;\n",
       "    }\n",
       "\n",
       "    .dataframe thead th {\n",
       "        text-align: right;\n",
       "    }\n",
       "</style>\n",
       "<table border=\"1\" class=\"dataframe\">\n",
       "  <thead>\n",
       "    <tr style=\"text-align: right;\">\n",
       "      <th></th>\n",
       "      <th>State</th>\n",
       "      <th>Area_Name</th>\n",
       "      <th>year 2010</th>\n",
       "      <th>year 2011</th>\n",
       "      <th>year 2012</th>\n",
       "      <th>year 2013</th>\n",
       "      <th>year 2014</th>\n",
       "      <th>year 2015</th>\n",
       "      <th>year 2016</th>\n",
       "      <th>year 2017</th>\n",
       "      <th>year 2018</th>\n",
       "      <th>year 2019</th>\n",
       "      <th>FIPStxt</th>\n",
       "    </tr>\n",
       "  </thead>\n",
       "  <tbody>\n",
       "    <tr>\n",
       "      <th>806</th>\n",
       "      <td>IA</td>\n",
       "      <td>Adair County</td>\n",
       "      <td>7679</td>\n",
       "      <td>7546</td>\n",
       "      <td>7468</td>\n",
       "      <td>7387</td>\n",
       "      <td>7368</td>\n",
       "      <td>7145</td>\n",
       "      <td>7005</td>\n",
       "      <td>7051</td>\n",
       "      <td>7074</td>\n",
       "      <td>7152</td>\n",
       "      <td>19001</td>\n",
       "    </tr>\n",
       "    <tr>\n",
       "      <th>807</th>\n",
       "      <td>IA</td>\n",
       "      <td>Adams County</td>\n",
       "      <td>4023</td>\n",
       "      <td>3994</td>\n",
       "      <td>3910</td>\n",
       "      <td>3891</td>\n",
       "      <td>3877</td>\n",
       "      <td>3754</td>\n",
       "      <td>3692</td>\n",
       "      <td>3657</td>\n",
       "      <td>3644</td>\n",
       "      <td>3602</td>\n",
       "      <td>19003</td>\n",
       "    </tr>\n",
       "    <tr>\n",
       "      <th>808</th>\n",
       "      <td>IA</td>\n",
       "      <td>Allamakee County</td>\n",
       "      <td>14378</td>\n",
       "      <td>14222</td>\n",
       "      <td>14149</td>\n",
       "      <td>14071</td>\n",
       "      <td>14062</td>\n",
       "      <td>13874</td>\n",
       "      <td>13851</td>\n",
       "      <td>13803</td>\n",
       "      <td>13852</td>\n",
       "      <td>13687</td>\n",
       "      <td>19005</td>\n",
       "    </tr>\n",
       "    <tr>\n",
       "      <th>809</th>\n",
       "      <td>IA</td>\n",
       "      <td>Appanoose County</td>\n",
       "      <td>12856</td>\n",
       "      <td>12848</td>\n",
       "      <td>12707</td>\n",
       "      <td>12654</td>\n",
       "      <td>12671</td>\n",
       "      <td>12577</td>\n",
       "      <td>12505</td>\n",
       "      <td>12353</td>\n",
       "      <td>12401</td>\n",
       "      <td>12426</td>\n",
       "      <td>19007</td>\n",
       "    </tr>\n",
       "    <tr>\n",
       "      <th>810</th>\n",
       "      <td>IA</td>\n",
       "      <td>Audubon County</td>\n",
       "      <td>6098</td>\n",
       "      <td>6004</td>\n",
       "      <td>5865</td>\n",
       "      <td>5863</td>\n",
       "      <td>5771</td>\n",
       "      <td>5711</td>\n",
       "      <td>5626</td>\n",
       "      <td>5550</td>\n",
       "      <td>5471</td>\n",
       "      <td>5496</td>\n",
       "      <td>19009</td>\n",
       "    </tr>\n",
       "  </tbody>\n",
       "</table>\n",
       "</div>"
      ],
      "text/plain": [
       "    State         Area_Name  year 2010  year 2011  year 2012  year 2013  \\\n",
       "806    IA      Adair County       7679       7546       7468       7387   \n",
       "807    IA      Adams County       4023       3994       3910       3891   \n",
       "808    IA  Allamakee County      14378      14222      14149      14071   \n",
       "809    IA  Appanoose County      12856      12848      12707      12654   \n",
       "810    IA    Audubon County       6098       6004       5865       5863   \n",
       "\n",
       "     year 2014  year 2015  year 2016  year 2017  year 2018  year 2019  FIPStxt  \n",
       "806       7368       7145       7005       7051       7074       7152    19001  \n",
       "807       3877       3754       3692       3657       3644       3602    19003  \n",
       "808      14062      13874      13851      13803      13852      13687    19005  \n",
       "809      12671      12577      12505      12353      12401      12426    19007  \n",
       "810       5771       5711       5626       5550       5471       5496    19009  "
      ]
     },
     "execution_count": 10,
     "metadata": {},
     "output_type": "execute_result"
    }
   ],
   "source": [
    "\n",
    "popolazione_IA.drop([805], inplace=True)\n",
    "popolazione_IA.head()"
   ]
  },
  {
   "cell_type": "code",
   "execution_count": 11,
   "metadata": {},
   "outputs": [],
   "source": [
    "Population_IA=popolazione_IA[['State', 'Area_Name', 'year 2019']]\n"
   ]
  },
  {
   "cell_type": "code",
   "execution_count": 12,
   "metadata": {},
   "outputs": [
    {
     "data": {
      "text/html": [
       "<div>\n",
       "<style scoped>\n",
       "    .dataframe tbody tr th:only-of-type {\n",
       "        vertical-align: middle;\n",
       "    }\n",
       "\n",
       "    .dataframe tbody tr th {\n",
       "        vertical-align: top;\n",
       "    }\n",
       "\n",
       "    .dataframe thead th {\n",
       "        text-align: right;\n",
       "    }\n",
       "</style>\n",
       "<table border=\"1\" class=\"dataframe\">\n",
       "  <thead>\n",
       "    <tr style=\"text-align: right;\">\n",
       "      <th></th>\n",
       "      <th>State</th>\n",
       "      <th>Area_Name</th>\n",
       "      <th>year 2019</th>\n",
       "    </tr>\n",
       "  </thead>\n",
       "  <tbody>\n",
       "    <tr>\n",
       "      <th>806</th>\n",
       "      <td>IA</td>\n",
       "      <td>Adair County</td>\n",
       "      <td>7152</td>\n",
       "    </tr>\n",
       "    <tr>\n",
       "      <th>807</th>\n",
       "      <td>IA</td>\n",
       "      <td>Adams County</td>\n",
       "      <td>3602</td>\n",
       "    </tr>\n",
       "    <tr>\n",
       "      <th>808</th>\n",
       "      <td>IA</td>\n",
       "      <td>Allamakee County</td>\n",
       "      <td>13687</td>\n",
       "    </tr>\n",
       "    <tr>\n",
       "      <th>809</th>\n",
       "      <td>IA</td>\n",
       "      <td>Appanoose County</td>\n",
       "      <td>12426</td>\n",
       "    </tr>\n",
       "    <tr>\n",
       "      <th>810</th>\n",
       "      <td>IA</td>\n",
       "      <td>Audubon County</td>\n",
       "      <td>5496</td>\n",
       "    </tr>\n",
       "  </tbody>\n",
       "</table>\n",
       "</div>"
      ],
      "text/plain": [
       "    State         Area_Name  year 2019\n",
       "806    IA      Adair County       7152\n",
       "807    IA      Adams County       3602\n",
       "808    IA  Allamakee County      13687\n",
       "809    IA  Appanoose County      12426\n",
       "810    IA    Audubon County       5496"
      ]
     },
     "execution_count": 12,
     "metadata": {},
     "output_type": "execute_result"
    }
   ],
   "source": [
    "Population_IA.head()"
   ]
  },
  {
   "cell_type": "code",
   "execution_count": 13,
   "metadata": {},
   "outputs": [
    {
     "name": "stderr",
     "output_type": "stream",
     "text": [
      "C:\\Users\\gigio\\anaconda3\\lib\\site-packages\\ipykernel_launcher.py:1: SettingWithCopyWarning: \n",
      "A value is trying to be set on a copy of a slice from a DataFrame.\n",
      "Try using .loc[row_indexer,col_indexer] = value instead\n",
      "\n",
      "See the caveats in the documentation: https://pandas.pydata.org/pandas-docs/stable/user_guide/indexing.html#returning-a-view-versus-a-copy\n",
      "  \"\"\"Entry point for launching an IPython kernel.\n"
     ]
    }
   ],
   "source": [
    "Population_IA['Area_Name'] = Population_IA['Area_Name'].map(lambda x: x.rstrip(' County')) "
   ]
  },
  {
   "cell_type": "code",
   "execution_count": 14,
   "metadata": {},
   "outputs": [
    {
     "data": {
      "text/html": [
       "<div>\n",
       "<style scoped>\n",
       "    .dataframe tbody tr th:only-of-type {\n",
       "        vertical-align: middle;\n",
       "    }\n",
       "\n",
       "    .dataframe tbody tr th {\n",
       "        vertical-align: top;\n",
       "    }\n",
       "\n",
       "    .dataframe thead th {\n",
       "        text-align: right;\n",
       "    }\n",
       "</style>\n",
       "<table border=\"1\" class=\"dataframe\">\n",
       "  <thead>\n",
       "    <tr style=\"text-align: right;\">\n",
       "      <th></th>\n",
       "      <th>State</th>\n",
       "      <th>Area_Name</th>\n",
       "      <th>year 2019</th>\n",
       "    </tr>\n",
       "  </thead>\n",
       "  <tbody>\n",
       "    <tr>\n",
       "      <th>806</th>\n",
       "      <td>IA</td>\n",
       "      <td>Adair</td>\n",
       "      <td>7152</td>\n",
       "    </tr>\n",
       "    <tr>\n",
       "      <th>807</th>\n",
       "      <td>IA</td>\n",
       "      <td>Adams</td>\n",
       "      <td>3602</td>\n",
       "    </tr>\n",
       "    <tr>\n",
       "      <th>808</th>\n",
       "      <td>IA</td>\n",
       "      <td>Allamakee</td>\n",
       "      <td>13687</td>\n",
       "    </tr>\n",
       "    <tr>\n",
       "      <th>809</th>\n",
       "      <td>IA</td>\n",
       "      <td>Appanoose</td>\n",
       "      <td>12426</td>\n",
       "    </tr>\n",
       "    <tr>\n",
       "      <th>810</th>\n",
       "      <td>IA</td>\n",
       "      <td>Audub</td>\n",
       "      <td>5496</td>\n",
       "    </tr>\n",
       "  </tbody>\n",
       "</table>\n",
       "</div>"
      ],
      "text/plain": [
       "    State  Area_Name  year 2019\n",
       "806    IA      Adair       7152\n",
       "807    IA      Adams       3602\n",
       "808    IA  Allamakee      13687\n",
       "809    IA  Appanoose      12426\n",
       "810    IA      Audub       5496"
      ]
     },
     "execution_count": 14,
     "metadata": {},
     "output_type": "execute_result"
    }
   ],
   "source": [
    "Population_IA.head()"
   ]
  },
  {
   "cell_type": "code",
   "execution_count": 15,
   "metadata": {},
   "outputs": [
    {
     "name": "stderr",
     "output_type": "stream",
     "text": [
      "C:\\Users\\gigio\\anaconda3\\lib\\site-packages\\ipykernel_launcher.py:1: SettingWithCopyWarning: \n",
      "A value is trying to be set on a copy of a slice from a DataFrame.\n",
      "Try using .loc[row_indexer,col_indexer] = value instead\n",
      "\n",
      "See the caveats in the documentation: https://pandas.pydata.org/pandas-docs/stable/user_guide/indexing.html#returning-a-view-versus-a-copy\n",
      "  \"\"\"Entry point for launching an IPython kernel.\n"
     ]
    }
   ],
   "source": [
    "Population_IA['Area_Name']=Population_IA['Area_Name'].str.upper()"
   ]
  },
  {
   "cell_type": "code",
   "execution_count": 16,
   "metadata": {},
   "outputs": [
    {
     "data": {
      "text/html": [
       "<div>\n",
       "<style scoped>\n",
       "    .dataframe tbody tr th:only-of-type {\n",
       "        vertical-align: middle;\n",
       "    }\n",
       "\n",
       "    .dataframe tbody tr th {\n",
       "        vertical-align: top;\n",
       "    }\n",
       "\n",
       "    .dataframe thead th {\n",
       "        text-align: right;\n",
       "    }\n",
       "</style>\n",
       "<table border=\"1\" class=\"dataframe\">\n",
       "  <thead>\n",
       "    <tr style=\"text-align: right;\">\n",
       "      <th></th>\n",
       "      <th>State</th>\n",
       "      <th>Area_Name</th>\n",
       "      <th>year 2019</th>\n",
       "    </tr>\n",
       "  </thead>\n",
       "  <tbody>\n",
       "    <tr>\n",
       "      <th>806</th>\n",
       "      <td>IA</td>\n",
       "      <td>ADAIR</td>\n",
       "      <td>7152</td>\n",
       "    </tr>\n",
       "    <tr>\n",
       "      <th>807</th>\n",
       "      <td>IA</td>\n",
       "      <td>ADAMS</td>\n",
       "      <td>3602</td>\n",
       "    </tr>\n",
       "    <tr>\n",
       "      <th>808</th>\n",
       "      <td>IA</td>\n",
       "      <td>ALLAMAKEE</td>\n",
       "      <td>13687</td>\n",
       "    </tr>\n",
       "    <tr>\n",
       "      <th>809</th>\n",
       "      <td>IA</td>\n",
       "      <td>APPANOOSE</td>\n",
       "      <td>12426</td>\n",
       "    </tr>\n",
       "    <tr>\n",
       "      <th>810</th>\n",
       "      <td>IA</td>\n",
       "      <td>AUDUB</td>\n",
       "      <td>5496</td>\n",
       "    </tr>\n",
       "  </tbody>\n",
       "</table>\n",
       "</div>"
      ],
      "text/plain": [
       "    State  Area_Name  year 2019\n",
       "806    IA      ADAIR       7152\n",
       "807    IA      ADAMS       3602\n",
       "808    IA  ALLAMAKEE      13687\n",
       "809    IA  APPANOOSE      12426\n",
       "810    IA      AUDUB       5496"
      ]
     },
     "execution_count": 16,
     "metadata": {},
     "output_type": "execute_result"
    }
   ],
   "source": [
    "Population_IA.head()"
   ]
  },
  {
   "cell_type": "code",
   "execution_count": 17,
   "metadata": {},
   "outputs": [
    {
     "data": {
      "text/plain": [
       "(99, 3)"
      ]
     },
     "execution_count": 17,
     "metadata": {},
     "output_type": "execute_result"
    }
   ],
   "source": [
    "Population_IA.shape"
   ]
  },
  {
   "cell_type": "code",
   "execution_count": 18,
   "metadata": {},
   "outputs": [
    {
     "name": "stderr",
     "output_type": "stream",
     "text": [
      "C:\\Users\\gigio\\anaconda3\\lib\\site-packages\\pandas\\core\\frame.py:4133: SettingWithCopyWarning: \n",
      "A value is trying to be set on a copy of a slice from a DataFrame\n",
      "\n",
      "See the caveats in the documentation: https://pandas.pydata.org/pandas-docs/stable/user_guide/indexing.html#returning-a-view-versus-a-copy\n",
      "  errors=errors,\n"
     ]
    }
   ],
   "source": [
    "Population_IA.rename(columns={'Area_Name':'County', 'FIPStxt': 'FIPS'},inplace=True)"
   ]
  },
  {
   "cell_type": "code",
   "execution_count": 19,
   "metadata": {},
   "outputs": [],
   "source": [
    "Population_IA.rename(columns={'year 2019':'Population'},inplace=True)"
   ]
  },
  {
   "cell_type": "code",
   "execution_count": 20,
   "metadata": {},
   "outputs": [
    {
     "data": {
      "text/html": [
       "<div>\n",
       "<style scoped>\n",
       "    .dataframe tbody tr th:only-of-type {\n",
       "        vertical-align: middle;\n",
       "    }\n",
       "\n",
       "    .dataframe tbody tr th {\n",
       "        vertical-align: top;\n",
       "    }\n",
       "\n",
       "    .dataframe thead th {\n",
       "        text-align: right;\n",
       "    }\n",
       "</style>\n",
       "<table border=\"1\" class=\"dataframe\">\n",
       "  <thead>\n",
       "    <tr style=\"text-align: right;\">\n",
       "      <th></th>\n",
       "      <th>State</th>\n",
       "      <th>County</th>\n",
       "      <th>Population</th>\n",
       "    </tr>\n",
       "  </thead>\n",
       "  <tbody>\n",
       "    <tr>\n",
       "      <th>806</th>\n",
       "      <td>IA</td>\n",
       "      <td>ADAIR</td>\n",
       "      <td>7152</td>\n",
       "    </tr>\n",
       "    <tr>\n",
       "      <th>807</th>\n",
       "      <td>IA</td>\n",
       "      <td>ADAMS</td>\n",
       "      <td>3602</td>\n",
       "    </tr>\n",
       "    <tr>\n",
       "      <th>808</th>\n",
       "      <td>IA</td>\n",
       "      <td>ALLAMAKEE</td>\n",
       "      <td>13687</td>\n",
       "    </tr>\n",
       "    <tr>\n",
       "      <th>809</th>\n",
       "      <td>IA</td>\n",
       "      <td>APPANOOSE</td>\n",
       "      <td>12426</td>\n",
       "    </tr>\n",
       "    <tr>\n",
       "      <th>810</th>\n",
       "      <td>IA</td>\n",
       "      <td>AUDUB</td>\n",
       "      <td>5496</td>\n",
       "    </tr>\n",
       "  </tbody>\n",
       "</table>\n",
       "</div>"
      ],
      "text/plain": [
       "    State     County  Population\n",
       "806    IA      ADAIR        7152\n",
       "807    IA      ADAMS        3602\n",
       "808    IA  ALLAMAKEE       13687\n",
       "809    IA  APPANOOSE       12426\n",
       "810    IA      AUDUB        5496"
      ]
     },
     "execution_count": 20,
     "metadata": {},
     "output_type": "execute_result"
    }
   ],
   "source": [
    "Population_IA.head()\n",
    "#ok, 99 contea. Ho raggruppato la popolazione per contea"
   ]
  },
  {
   "cell_type": "code",
   "execution_count": 7,
   "metadata": {},
   "outputs": [
    {
     "data": {
      "text/html": [
       "<div>\n",
       "<style scoped>\n",
       "    .dataframe tbody tr th:only-of-type {\n",
       "        vertical-align: middle;\n",
       "    }\n",
       "\n",
       "    .dataframe tbody tr th {\n",
       "        vertical-align: top;\n",
       "    }\n",
       "\n",
       "    .dataframe thead th {\n",
       "        text-align: right;\n",
       "    }\n",
       "</style>\n",
       "<table border=\"1\" class=\"dataframe\">\n",
       "  <thead>\n",
       "    <tr style=\"text-align: right;\">\n",
       "      <th></th>\n",
       "      <th>Invoice/Item Number</th>\n",
       "      <th>Date</th>\n",
       "      <th>Store Number</th>\n",
       "      <th>Store Name</th>\n",
       "      <th>Address</th>\n",
       "      <th>City</th>\n",
       "      <th>Zip Code</th>\n",
       "      <th>Store Location</th>\n",
       "      <th>County Number</th>\n",
       "      <th>County</th>\n",
       "      <th>...</th>\n",
       "      <th>Pack</th>\n",
       "      <th>Bottle Volume (ml)</th>\n",
       "      <th>State Bottle Cost</th>\n",
       "      <th>State Bottle Retail</th>\n",
       "      <th>Bottles Sold</th>\n",
       "      <th>Sale (Dollars)</th>\n",
       "      <th>Volume Sold (Liters)</th>\n",
       "      <th>Volume Sold (Gallons)</th>\n",
       "      <th>month</th>\n",
       "      <th>year</th>\n",
       "    </tr>\n",
       "  </thead>\n",
       "  <tbody>\n",
       "    <tr>\n",
       "      <th>886836</th>\n",
       "      <td>INV-16840300172</td>\n",
       "      <td>2019-01-09</td>\n",
       "      <td>2621</td>\n",
       "      <td>Hy-Vee Food Store #3 / Sioux City</td>\n",
       "      <td>3301 Gordon Dr</td>\n",
       "      <td>Sioux City</td>\n",
       "      <td>51105</td>\n",
       "      <td>POINT (-96.364108 42.487752)</td>\n",
       "      <td>97.0</td>\n",
       "      <td>WOODBURY</td>\n",
       "      <td>...</td>\n",
       "      <td>12</td>\n",
       "      <td>1000</td>\n",
       "      <td>7.67</td>\n",
       "      <td>11.51</td>\n",
       "      <td>2</td>\n",
       "      <td>23.02</td>\n",
       "      <td>2.00</td>\n",
       "      <td>0.52</td>\n",
       "      <td>1</td>\n",
       "      <td>2019</td>\n",
       "    </tr>\n",
       "    <tr>\n",
       "      <th>896194</th>\n",
       "      <td>INV-16839800075</td>\n",
       "      <td>2019-01-09</td>\n",
       "      <td>2594</td>\n",
       "      <td>Hy-Vee Food Store / Sioux City</td>\n",
       "      <td>4500 Sergeant Road</td>\n",
       "      <td>Sioux City</td>\n",
       "      <td>51106</td>\n",
       "      <td>POINT (-96.346969 42.447396)</td>\n",
       "      <td>97.0</td>\n",
       "      <td>WOODBURY</td>\n",
       "      <td>...</td>\n",
       "      <td>12</td>\n",
       "      <td>750</td>\n",
       "      <td>15.74</td>\n",
       "      <td>23.61</td>\n",
       "      <td>1</td>\n",
       "      <td>23.61</td>\n",
       "      <td>0.75</td>\n",
       "      <td>0.19</td>\n",
       "      <td>1</td>\n",
       "      <td>2019</td>\n",
       "    </tr>\n",
       "    <tr>\n",
       "      <th>903678</th>\n",
       "      <td>INV-16840300157</td>\n",
       "      <td>2019-01-09</td>\n",
       "      <td>2621</td>\n",
       "      <td>Hy-Vee Food Store #3 / Sioux City</td>\n",
       "      <td>3301 Gordon Dr</td>\n",
       "      <td>Sioux City</td>\n",
       "      <td>51105</td>\n",
       "      <td>POINT (-96.364108 42.487752)</td>\n",
       "      <td>97.0</td>\n",
       "      <td>WOODBURY</td>\n",
       "      <td>...</td>\n",
       "      <td>12</td>\n",
       "      <td>750</td>\n",
       "      <td>8.25</td>\n",
       "      <td>12.38</td>\n",
       "      <td>4</td>\n",
       "      <td>49.52</td>\n",
       "      <td>3.00</td>\n",
       "      <td>0.79</td>\n",
       "      <td>1</td>\n",
       "      <td>2019</td>\n",
       "    </tr>\n",
       "    <tr>\n",
       "      <th>906924</th>\n",
       "      <td>INV-16839300007</td>\n",
       "      <td>2019-01-09</td>\n",
       "      <td>4655</td>\n",
       "      <td>Casey's General Store #2237 / Prairie City</td>\n",
       "      <td>1002 W 2nd St</td>\n",
       "      <td>Prairie City</td>\n",
       "      <td>50228</td>\n",
       "      <td>POINT (-93.247591 41.596714)</td>\n",
       "      <td>50.0</td>\n",
       "      <td>JASPER</td>\n",
       "      <td>...</td>\n",
       "      <td>12</td>\n",
       "      <td>750</td>\n",
       "      <td>10.33</td>\n",
       "      <td>15.50</td>\n",
       "      <td>3</td>\n",
       "      <td>46.50</td>\n",
       "      <td>2.25</td>\n",
       "      <td>0.59</td>\n",
       "      <td>1</td>\n",
       "      <td>2019</td>\n",
       "    </tr>\n",
       "    <tr>\n",
       "      <th>915910</th>\n",
       "      <td>INV-16836900016</td>\n",
       "      <td>2019-01-09</td>\n",
       "      <td>3949</td>\n",
       "      <td>Wal-Mart 0751 / Pella</td>\n",
       "      <td>1650 Washington St</td>\n",
       "      <td>Pella</td>\n",
       "      <td>50219</td>\n",
       "      <td>POINT (-92.933676 41.410379)</td>\n",
       "      <td>63.0</td>\n",
       "      <td>MARION</td>\n",
       "      <td>...</td>\n",
       "      <td>6</td>\n",
       "      <td>1750</td>\n",
       "      <td>6.92</td>\n",
       "      <td>10.38</td>\n",
       "      <td>12</td>\n",
       "      <td>124.56</td>\n",
       "      <td>21.00</td>\n",
       "      <td>5.54</td>\n",
       "      <td>1</td>\n",
       "      <td>2019</td>\n",
       "    </tr>\n",
       "  </tbody>\n",
       "</table>\n",
       "<p>5 rows × 26 columns</p>\n",
       "</div>"
      ],
      "text/plain": [
       "       Invoice/Item Number       Date  Store Number  \\\n",
       "886836     INV-16840300172 2019-01-09          2621   \n",
       "896194     INV-16839800075 2019-01-09          2594   \n",
       "903678     INV-16840300157 2019-01-09          2621   \n",
       "906924     INV-16839300007 2019-01-09          4655   \n",
       "915910     INV-16836900016 2019-01-09          3949   \n",
       "\n",
       "                                        Store Name             Address  \\\n",
       "886836           Hy-Vee Food Store #3 / Sioux City      3301 Gordon Dr   \n",
       "896194              Hy-Vee Food Store / Sioux City  4500 Sergeant Road   \n",
       "903678           Hy-Vee Food Store #3 / Sioux City      3301 Gordon Dr   \n",
       "906924  Casey's General Store #2237 / Prairie City       1002 W 2nd St   \n",
       "915910                       Wal-Mart 0751 / Pella  1650 Washington St   \n",
       "\n",
       "                City Zip Code                Store Location  County Number  \\\n",
       "886836    Sioux City    51105  POINT (-96.364108 42.487752)           97.0   \n",
       "896194    Sioux City    51106  POINT (-96.346969 42.447396)           97.0   \n",
       "903678    Sioux City    51105  POINT (-96.364108 42.487752)           97.0   \n",
       "906924  Prairie City    50228  POINT (-93.247591 41.596714)           50.0   \n",
       "915910         Pella    50219  POINT (-92.933676 41.410379)           63.0   \n",
       "\n",
       "          County  ...  Pack Bottle Volume (ml)  State Bottle Cost  \\\n",
       "886836  WOODBURY  ...    12               1000               7.67   \n",
       "896194  WOODBURY  ...    12                750              15.74   \n",
       "903678  WOODBURY  ...    12                750               8.25   \n",
       "906924    JASPER  ...    12                750              10.33   \n",
       "915910    MARION  ...     6               1750               6.92   \n",
       "\n",
       "       State Bottle Retail  Bottles Sold Sale (Dollars)  Volume Sold (Liters)  \\\n",
       "886836               11.51             2          23.02                  2.00   \n",
       "896194               23.61             1          23.61                  0.75   \n",
       "903678               12.38             4          49.52                  3.00   \n",
       "906924               15.50             3          46.50                  2.25   \n",
       "915910               10.38            12         124.56                 21.00   \n",
       "\n",
       "        Volume Sold (Gallons)  month  year  \n",
       "886836                   0.52      1  2019  \n",
       "896194                   0.19      1  2019  \n",
       "903678                   0.79      1  2019  \n",
       "906924                   0.59      1  2019  \n",
       "915910                   5.54      1  2019  \n",
       "\n",
       "[5 rows x 26 columns]"
      ]
     },
     "execution_count": 7,
     "metadata": {},
     "output_type": "execute_result"
    }
   ],
   "source": [
    "df_2019=df[df['year']==2019] \n",
    "df_2019.head()"
   ]
  },
  {
   "cell_type": "code",
   "execution_count": null,
   "metadata": {},
   "outputs": [],
   "source": []
  },
  {
   "cell_type": "code",
   "execution_count": 22,
   "metadata": {},
   "outputs": [],
   "source": [
    "tot_2019=pd.merge(df_2019,Population_IA , how='inner' , on='County') #ok"
   ]
  },
  {
   "cell_type": "code",
   "execution_count": 23,
   "metadata": {},
   "outputs": [],
   "source": [
    "#creo un campo popolazione in 10K che mi servirà per dopo\n",
    "tot_2019['Population in 10K'] = tot_2019['Population'].apply(lambda x:x/10000)"
   ]
  },
  {
   "cell_type": "code",
   "execution_count": 24,
   "metadata": {},
   "outputs": [
    {
     "data": {
      "text/html": [
       "<div>\n",
       "<style scoped>\n",
       "    .dataframe tbody tr th:only-of-type {\n",
       "        vertical-align: middle;\n",
       "    }\n",
       "\n",
       "    .dataframe tbody tr th {\n",
       "        vertical-align: top;\n",
       "    }\n",
       "\n",
       "    .dataframe thead th {\n",
       "        text-align: right;\n",
       "    }\n",
       "</style>\n",
       "<table border=\"1\" class=\"dataframe\">\n",
       "  <thead>\n",
       "    <tr style=\"text-align: right;\">\n",
       "      <th></th>\n",
       "      <th>Invoice/Item Number</th>\n",
       "      <th>Date</th>\n",
       "      <th>Store Number</th>\n",
       "      <th>Store Name</th>\n",
       "      <th>Address</th>\n",
       "      <th>City</th>\n",
       "      <th>Zip Code</th>\n",
       "      <th>Store Location</th>\n",
       "      <th>County Number</th>\n",
       "      <th>County</th>\n",
       "      <th>...</th>\n",
       "      <th>State Bottle Retail</th>\n",
       "      <th>Bottles Sold</th>\n",
       "      <th>Sale (Dollars)</th>\n",
       "      <th>Volume Sold (Liters)</th>\n",
       "      <th>Volume Sold (Gallons)</th>\n",
       "      <th>month</th>\n",
       "      <th>year</th>\n",
       "      <th>State</th>\n",
       "      <th>Population</th>\n",
       "      <th>Population in 10K</th>\n",
       "    </tr>\n",
       "  </thead>\n",
       "  <tbody>\n",
       "    <tr>\n",
       "      <th>0</th>\n",
       "      <td>INV-16839300007</td>\n",
       "      <td>2019-01-09</td>\n",
       "      <td>4655</td>\n",
       "      <td>Casey's General Store #2237 / Prairie City</td>\n",
       "      <td>1002 W 2nd St</td>\n",
       "      <td>Prairie City</td>\n",
       "      <td>50228</td>\n",
       "      <td>POINT (-93.247591 41.596714)</td>\n",
       "      <td>50.0</td>\n",
       "      <td>JASPER</td>\n",
       "      <td>...</td>\n",
       "      <td>15.50</td>\n",
       "      <td>3</td>\n",
       "      <td>46.50</td>\n",
       "      <td>2.25</td>\n",
       "      <td>0.59</td>\n",
       "      <td>1</td>\n",
       "      <td>2019</td>\n",
       "      <td>IA</td>\n",
       "      <td>37185</td>\n",
       "      <td>3.7185</td>\n",
       "    </tr>\n",
       "    <tr>\n",
       "      <th>1</th>\n",
       "      <td>INV-16735300018</td>\n",
       "      <td>2019-01-04</td>\n",
       "      <td>2517</td>\n",
       "      <td>Hy-Vee Food Store #1 / Newton</td>\n",
       "      <td>1501 First Avenue East</td>\n",
       "      <td>Newton</td>\n",
       "      <td>50208</td>\n",
       "      <td>POINT (-93.034296 41.69916)</td>\n",
       "      <td>50.0</td>\n",
       "      <td>JASPER</td>\n",
       "      <td>...</td>\n",
       "      <td>8.22</td>\n",
       "      <td>12</td>\n",
       "      <td>98.64</td>\n",
       "      <td>9.00</td>\n",
       "      <td>2.37</td>\n",
       "      <td>1</td>\n",
       "      <td>2019</td>\n",
       "      <td>IA</td>\n",
       "      <td>37185</td>\n",
       "      <td>3.7185</td>\n",
       "    </tr>\n",
       "    <tr>\n",
       "      <th>2</th>\n",
       "      <td>INV-16737100005</td>\n",
       "      <td>2019-01-04</td>\n",
       "      <td>4604</td>\n",
       "      <td>Pit Stop Liquors / Newton</td>\n",
       "      <td>1324, 1st Ave E</td>\n",
       "      <td>Newton</td>\n",
       "      <td>50208</td>\n",
       "      <td>POINT (-93.035654 41.699173)</td>\n",
       "      <td>50.0</td>\n",
       "      <td>JASPER</td>\n",
       "      <td>...</td>\n",
       "      <td>18.68</td>\n",
       "      <td>1</td>\n",
       "      <td>18.68</td>\n",
       "      <td>0.50</td>\n",
       "      <td>0.13</td>\n",
       "      <td>1</td>\n",
       "      <td>2019</td>\n",
       "      <td>IA</td>\n",
       "      <td>37185</td>\n",
       "      <td>3.7185</td>\n",
       "    </tr>\n",
       "    <tr>\n",
       "      <th>3</th>\n",
       "      <td>INV-16735300020</td>\n",
       "      <td>2019-01-04</td>\n",
       "      <td>2517</td>\n",
       "      <td>Hy-Vee Food Store #1 / Newton</td>\n",
       "      <td>1501 First Avenue East</td>\n",
       "      <td>Newton</td>\n",
       "      <td>50208</td>\n",
       "      <td>POINT (-93.034296 41.69916)</td>\n",
       "      <td>50.0</td>\n",
       "      <td>JASPER</td>\n",
       "      <td>...</td>\n",
       "      <td>5.06</td>\n",
       "      <td>12</td>\n",
       "      <td>60.72</td>\n",
       "      <td>9.00</td>\n",
       "      <td>2.37</td>\n",
       "      <td>1</td>\n",
       "      <td>2019</td>\n",
       "      <td>IA</td>\n",
       "      <td>37185</td>\n",
       "      <td>3.7185</td>\n",
       "    </tr>\n",
       "    <tr>\n",
       "      <th>4</th>\n",
       "      <td>INV-16735300043</td>\n",
       "      <td>2019-01-04</td>\n",
       "      <td>2517</td>\n",
       "      <td>Hy-Vee Food Store #1 / Newton</td>\n",
       "      <td>1501 First Avenue East</td>\n",
       "      <td>Newton</td>\n",
       "      <td>50208</td>\n",
       "      <td>POINT (-93.034296 41.69916)</td>\n",
       "      <td>50.0</td>\n",
       "      <td>JASPER</td>\n",
       "      <td>...</td>\n",
       "      <td>7.20</td>\n",
       "      <td>12</td>\n",
       "      <td>86.40</td>\n",
       "      <td>6.00</td>\n",
       "      <td>1.58</td>\n",
       "      <td>1</td>\n",
       "      <td>2019</td>\n",
       "      <td>IA</td>\n",
       "      <td>37185</td>\n",
       "      <td>3.7185</td>\n",
       "    </tr>\n",
       "  </tbody>\n",
       "</table>\n",
       "<p>5 rows × 29 columns</p>\n",
       "</div>"
      ],
      "text/plain": [
       "  Invoice/Item Number       Date  Store Number  \\\n",
       "0     INV-16839300007 2019-01-09          4655   \n",
       "1     INV-16735300018 2019-01-04          2517   \n",
       "2     INV-16737100005 2019-01-04          4604   \n",
       "3     INV-16735300020 2019-01-04          2517   \n",
       "4     INV-16735300043 2019-01-04          2517   \n",
       "\n",
       "                                   Store Name                 Address  \\\n",
       "0  Casey's General Store #2237 / Prairie City           1002 W 2nd St   \n",
       "1               Hy-Vee Food Store #1 / Newton  1501 First Avenue East   \n",
       "2                   Pit Stop Liquors / Newton         1324, 1st Ave E   \n",
       "3               Hy-Vee Food Store #1 / Newton  1501 First Avenue East   \n",
       "4               Hy-Vee Food Store #1 / Newton  1501 First Avenue East   \n",
       "\n",
       "           City Zip Code                Store Location  County Number  County  \\\n",
       "0  Prairie City    50228  POINT (-93.247591 41.596714)           50.0  JASPER   \n",
       "1        Newton    50208   POINT (-93.034296 41.69916)           50.0  JASPER   \n",
       "2        Newton    50208  POINT (-93.035654 41.699173)           50.0  JASPER   \n",
       "3        Newton    50208   POINT (-93.034296 41.69916)           50.0  JASPER   \n",
       "4        Newton    50208   POINT (-93.034296 41.69916)           50.0  JASPER   \n",
       "\n",
       "   ...  State Bottle Retail Bottles Sold  Sale (Dollars) Volume Sold (Liters)  \\\n",
       "0  ...                15.50            3           46.50                 2.25   \n",
       "1  ...                 8.22           12           98.64                 9.00   \n",
       "2  ...                18.68            1           18.68                 0.50   \n",
       "3  ...                 5.06           12           60.72                 9.00   \n",
       "4  ...                 7.20           12           86.40                 6.00   \n",
       "\n",
       "   Volume Sold (Gallons) month  year  State  Population  Population in 10K  \n",
       "0                   0.59     1  2019     IA       37185             3.7185  \n",
       "1                   2.37     1  2019     IA       37185             3.7185  \n",
       "2                   0.13     1  2019     IA       37185             3.7185  \n",
       "3                   2.37     1  2019     IA       37185             3.7185  \n",
       "4                   1.58     1  2019     IA       37185             3.7185  \n",
       "\n",
       "[5 rows x 29 columns]"
      ]
     },
     "execution_count": 24,
     "metadata": {},
     "output_type": "execute_result"
    }
   ],
   "source": [
    "tot_2019.head()"
   ]
  },
  {
   "cell_type": "markdown",
   "metadata": {},
   "source": [
    "# Descriptive analysis (overall)"
   ]
  },
  {
   "cell_type": "code",
   "execution_count": 25,
   "metadata": {},
   "outputs": [],
   "source": [
    "#run, creo nuova colonna con i profitti\n",
    "df['State profit per bottle'] = df['State Bottle Retail'] - df['State Bottle Cost']"
   ]
  },
  {
   "cell_type": "code",
   "execution_count": 26,
   "metadata": {},
   "outputs": [
    {
     "name": "stdout",
     "output_type": "stream",
     "text": [
      "      Store Number  State Bottle Retail  Bottles Sold  State profit per bottle\n",
      "0             2106            16.007238     19.165077                 5.342139\n",
      "1             2113            15.665237      4.403961                 5.230438\n",
      "2             2130            15.884311     19.273862                 5.299980\n",
      "3             2132            15.070841      7.721495                 5.048897\n",
      "4             2152            12.689808      4.712957                 4.252735\n",
      "...            ...                  ...           ...                      ...\n",
      "2342          9931            21.000000      2.200000                 7.000000\n",
      "2343          9934            28.880000      1.000000                 9.630000\n",
      "2344          9937            26.250000      2.000000                 8.750000\n",
      "2345          9938            41.120000     49.000000                13.710000\n",
      "2346          9946            22.500000     96.000000                 7.500000\n",
      "\n",
      "[2347 rows x 4 columns]\n"
     ]
    }
   ],
   "source": [
    "\n",
    "stores= df.groupby('Store Number',as_index=False)[['State Bottle Retail','Bottles Sold', 'State profit per bottle']].mean()\n",
    "print(stores)\n"
   ]
  },
  {
   "cell_type": "code",
   "execution_count": 27,
   "metadata": {},
   "outputs": [
    {
     "name": "stdout",
     "output_type": "stream",
     "text": [
      "13.784528583236629\n"
     ]
    },
    {
     "data": {
      "image/png": "[encoded data removed]",
      "text/plain": [
       "<Figure size 432x288 with 1 Axes>"
      ]
     },
     "metadata": {
      "needs_background": "light"
     },
     "output_type": "display_data"
    }
   ],
   "source": [
    "#Prezzo medio delle bottiglie: alcuni negozi vendono solo bottiglie \"costose\" o \"economiche\", \n",
    "#ma la maggior parte si colloca intorno alla media\n",
    "print(stores[stores['State Bottle Retail']<30]['State Bottle Retail'].mean())\n",
    "sns.distplot(stores[stores['State Bottle Retail']<30]['State Bottle Retail']);"
   ]
  },
  {
   "cell_type": "code",
   "execution_count": 28,
   "metadata": {},
   "outputs": [
    {
     "name": "stdout",
     "output_type": "stream",
     "text": [
      "2347\n",
      "12\n"
     ]
    }
   ],
   "source": [
    "# Quanti outlier abbiamo? appena 12\n",
    "print(len(stores))\n",
    "print(len(stores[stores['State Bottle Retail']>=30]))"
   ]
  },
  {
   "cell_type": "code",
   "execution_count": 29,
   "metadata": {},
   "outputs": [
    {
     "data": {
      "text/plain": [
       "2335"
      ]
     },
     "execution_count": 29,
     "metadata": {},
     "output_type": "execute_result"
    }
   ],
   "source": [
    "# escludiamo questi due outliers da stores:\n",
    "stores=stores[stores['State Bottle Retail']<30]\n",
    "len(stores)"
   ]
  },
  {
   "cell_type": "code",
   "execution_count": 30,
   "metadata": {},
   "outputs": [
    {
     "name": "stdout",
     "output_type": "stream",
     "text": [
      "10.625627212916767\n"
     ]
    },
    {
     "data": {
      "image/png": "[encoded data removed]",
      "text/plain": [
       "<Figure size 432x288 with 1 Axes>"
      ]
     },
     "metadata": {
      "needs_background": "light"
     },
     "output_type": "display_data"
    }
   ],
   "source": [
    "#Una volta che si escludono i negozi all'ingrosso (ci sono alcuni outlier), la maggior parte dei negozi di acquistare circa 10 bottiglie in un ordine \n",
    "print(stores[stores['Bottles Sold']<50]['Bottles Sold'].mean())\n",
    "sns.distplot(stores[stores['Bottles Sold']<50]['Bottles Sold']);"
   ]
  },
  {
   "cell_type": "code",
   "execution_count": 31,
   "metadata": {},
   "outputs": [
    {
     "name": "stdout",
     "output_type": "stream",
     "text": [
      "2335\n",
      "10\n"
     ]
    }
   ],
   "source": [
    "# Quanti outlier abbiamo? appena 10.\n",
    "print(len(stores))\n",
    "print(len(stores[stores['Bottles Sold']>=50]))"
   ]
  },
  {
   "cell_type": "code",
   "execution_count": 32,
   "metadata": {},
   "outputs": [
    {
     "data": {
      "text/plain": [
       "2325"
      ]
     },
     "execution_count": 32,
     "metadata": {},
     "output_type": "execute_result"
    }
   ],
   "source": [
    "# escludiamo i 10 outlier da stores:\n",
    "stores=stores[stores['Bottles Sold']<50]\n",
    "len(stores)"
   ]
  },
  {
   "cell_type": "code",
   "execution_count": 33,
   "metadata": {},
   "outputs": [
    {
     "name": "stdout",
     "output_type": "stream",
     "text": [
      "4.591678437398028\n"
     ]
    },
    {
     "data": {
      "image/png": "[encoded data removed]",
      "text/plain": [
       "<Figure size 432x288 with 1 Axes>"
      ]
     },
     "metadata": {
      "needs_background": "light"
     },
     "output_type": "display_data"
    }
   ],
   "source": [
    "#analizzo il profitto medio per bottiglia da parte dello stato\n",
    "print(stores[stores['State profit per bottle']<12]['State profit per bottle'].mean())\n",
    "sns.distplot(stores[stores['State profit per bottle']<12]['State profit per bottle']);"
   ]
  },
  {
   "cell_type": "code",
   "execution_count": 34,
   "metadata": {},
   "outputs": [
    {
     "name": "stdout",
     "output_type": "stream",
     "text": [
      "2325\n",
      "0\n"
     ]
    }
   ],
   "source": [
    "#quanti outlier abbiamo? appena 9\n",
    "print(len(stores))\n",
    "print(len(stores[stores['State profit per bottle']>=12]))"
   ]
  },
  {
   "cell_type": "code",
   "execution_count": 35,
   "metadata": {},
   "outputs": [
    {
     "data": {
      "text/plain": [
       "2325"
      ]
     },
     "execution_count": 35,
     "metadata": {},
     "output_type": "execute_result"
    }
   ],
   "source": [
    "stores=stores[stores['State profit per bottle']<12]\n",
    "len(stores)"
   ]
  },
  {
   "cell_type": "code",
   "execution_count": 36,
   "metadata": {},
   "outputs": [
    {
     "name": "stdout",
     "output_type": "stream",
     "text": [
      "Vendor Name\n",
      "DIAGEO AMERICAS                     29544585\n",
      "JIM BEAM BRANDS                     13778927\n",
      "SAZERAC COMPANY  INC                13590677\n",
      "SAZERAC NORTH AMERICA               10640903\n",
      "LUXCO-ST LOUIS                      10074553\n",
      "LUXCO INC                            8460974\n",
      "HEAVEN HILL BRANDS                   7243152\n",
      "CONSTELLATION WINE COMPANY, INC.     7220819\n",
      "CONSTELLATION BRANDS INC             6396479\n",
      "PROXIMO                              5643107\n",
      "Name: Bottles Sold, dtype: int64\n"
     ]
    },
    {
     "data": {
      "image/png": "[encoded data removed]",
      "text/plain": [
       "<Figure size 1440x720 with 1 Axes>"
      ]
     },
     "metadata": {
      "needs_background": "light"
     },
     "output_type": "display_data"
    }
   ],
   "source": [
    "#raggruppo per venditore e bottiglie vendute --> posso capire i maggiori venditori\n",
    "print(df.groupby('Vendor Name')['Bottles Sold'].sum().sort_values(ascending=False).head(10))\n",
    "df.groupby('Vendor Name')['Bottles Sold'].sum().sort_values(ascending=False).head(10).plot(kind='barh', figsize=(20,10))\n",
    "plt.ylabel('Fornitore')\n",
    "plt.title('Bottiglie vendute')\n",
    "plt.show()\n",
    "#run"
   ]
  },
  {
   "cell_type": "code",
   "execution_count": 37,
   "metadata": {},
   "outputs": [
    {
     "name": "stdout",
     "output_type": "stream",
     "text": [
      "Item Description\n",
      "Black Velvet                     9323974\n",
      "Hawkeye Vodka                    6586737\n",
      "Fireball Cinnamon Whiskey        5794291\n",
      "Captain Morgan Spiced Rum        3833135\n",
      "Titos Handmade Vodka             3533626\n",
      "Fireball Cinnamon                3350273\n",
      "Five O'clock Vodka               3302895\n",
      "Barton Vodka                     2744123\n",
      "Mccormick Vodka Pet              2716392\n",
      "Jack Daniels Old #7 Black Lbl    2367264\n",
      "Name: Bottles Sold, dtype: int64\n"
     ]
    },
    {
     "data": {
      "image/png": "[encoded data removed]",
      "text/plain": [
       "<Figure size 1440x720 with 1 Axes>"
      ]
     },
     "metadata": {
      "needs_background": "light"
     },
     "output_type": "display_data"
    }
   ],
   "source": [
    "#raggruppo per tipo di alcolico e bottiglie vendute --> posso capire quale alcolico è il più preferito\n",
    "print(df.groupby('Item Description')['Bottles Sold'].sum().sort_values(ascending=False).head(10))\n",
    "df.groupby('Item Description')['Bottles Sold'].sum().sort_values(ascending=False).head(10).plot(kind='barh', figsize=(20,10))\n",
    "plt.ylabel('Descrizione alcolico')\n",
    "plt.title('Bottiglie venudte')\n",
    "plt.show()"
   ]
  },
  {
   "cell_type": "code",
   "execution_count": 38,
   "metadata": {},
   "outputs": [
    {
     "name": "stdout",
     "output_type": "stream",
     "text": [
      "Item Description\n",
      "Black Velvet                     9.957747e+07\n",
      "Titos Handmade Vodka             6.779863e+07\n",
      "Captain Morgan Spiced Rum        6.764921e+07\n",
      "Jack Daniels Old #7 Black Lbl    6.116725e+07\n",
      "Fireball Cinnamon Whiskey        5.469678e+07\n",
      "Hawkeye Vodka                    4.575180e+07\n",
      "Crown Royal Canadian Whisky      4.182745e+07\n",
      "Crown Royal                      4.140080e+07\n",
      "Jameson                          3.509882e+07\n",
      "Jagermeister Liqueur             3.272463e+07\n",
      "Name: Sale (Dollars), dtype: float64\n"
     ]
    },
    {
     "data": {
      "image/png": "[encoded data removed]",
      "text/plain": [
       "<Figure size 1440x720 with 1 Axes>"
      ]
     },
     "metadata": {
      "needs_background": "light"
     },
     "output_type": "display_data"
    }
   ],
   "source": [
    "#raggruppo per tipo di alcolico e le vendite (in dollari) --> posso capire l'alcolico più venduto\n",
    "print(df.groupby('Item Description')['Sale (Dollars)'].sum().sort_values(ascending=False).head(10))\n",
    "df.groupby('Item Description')['Sale (Dollars)'].sum().sort_values(ascending=False).head(10).plot(kind='barh', figsize=(20,10))\n",
    "plt.ylabel('Descrizione alcolico')\n",
    "plt.title('Vendite (in Dollari)')\n",
    "plt.show()"
   ]
  },
  {
   "cell_type": "code",
   "execution_count": 39,
   "metadata": {},
   "outputs": [
    {
     "name": "stdout",
     "output_type": "stream",
     "text": [
      "Category Name\n",
      "CANADIAN WHISKIES            2.993325e+08\n",
      "AMERICAN VODKAS              1.929758e+08\n",
      "SPICED RUM                   1.763593e+08\n",
      "STRAIGHT BOURBON WHISKIES    1.476169e+08\n",
      "VODKA 80 PROOF               1.318597e+08\n",
      "WHISKEY LIQUEUR              1.203331e+08\n",
      "TENNESSEE WHISKIES           1.081594e+08\n",
      "IMPORTED VODKA               7.112923e+07\n",
      "BLENDED WHISKIES             7.023893e+07\n",
      "IMPORTED VODKAS              6.294253e+07\n",
      "Name: Sale (Dollars), dtype: float64\n"
     ]
    },
    {
     "data": {
      "image/png": "[encoded data removed]",
      "text/plain": [
       "<Figure size 1440x720 with 1 Axes>"
      ]
     },
     "metadata": {
      "needs_background": "light"
     },
     "output_type": "display_data"
    }
   ],
   "source": [
    "#raggruppo per categoria di alcolico e le vendite (in dollari) --> posso capire l'alcolico più venduto\n",
    "print(df.groupby('Category Name')['Sale (Dollars)'].sum().sort_values(ascending=False).head(10))\n",
    "df.groupby('Category Name')['Sale (Dollars)'].sum().sort_values(ascending=False).head(10).plot(kind='barh', figsize=(20,10))\n",
    "plt.ylabel('Categoria alcolico')\n",
    "plt.title('Vendite per categoria di alcolico')\n",
    "plt.show()"
   ]
  },
  {
   "cell_type": "code",
   "execution_count": 96,
   "metadata": {},
   "outputs": [
    {
     "data": {
      "text/plain": [
       "(0, 350)"
      ]
     },
     "execution_count": 96,
     "metadata": {},
     "output_type": "execute_result"
    },
    {
     "data": {
      "image/png": "[encoded data removed]",
      "text/plain": [
       "<Figure size 576x396 with 1 Axes>"
      ]
     },
     "metadata": {},
     "output_type": "display_data"
    }
   ],
   "source": [
    "#Istogramma delle vendite\n",
    "plt.hist(df['Sale (Dollars)'], bins=1000)\n",
    "plt.xlabel=('Sale ($)')\n",
    "plt.ylabel=('Frequency')\n",
    "plt.title('Histogram of Sales')\n",
    "plt.xlim([0,350])\n"
   ]
  },
  {
   "cell_type": "code",
   "execution_count": 97,
   "metadata": {},
   "outputs": [
    {
     "data": {
      "text/plain": [
       "(0, 350)"
      ]
     },
     "execution_count": 97,
     "metadata": {},
     "output_type": "execute_result"
    },
    {
     "data": {
      "image/png": "[encoded data removed]",
      "text/plain": [
       "<Figure size 576x396 with 1 Axes>"
      ]
     },
     "metadata": {},
     "output_type": "display_data"
    }
   ],
   "source": [
    "#Istogramma delle vendite\n",
    "plt.hist(df['Bottles Sold'], bins=1000)\n",
    "plt.xlabel=('Bottiglie vendute')\n",
    "plt.ylabel=('Frequency')\n",
    "plt.title('Histogram of Sales')\n",
    "plt.xlim([0,350])"
   ]
  },
  {
   "cell_type": "markdown",
   "metadata": {},
   "source": [
    "# Descriptive analysis (year 2019)"
   ]
  },
  {
   "cell_type": "code",
   "execution_count": 40,
   "metadata": {},
   "outputs": [
    {
     "data": {
      "text/html": [
       "<div>\n",
       "<style scoped>\n",
       "    .dataframe tbody tr th:only-of-type {\n",
       "        vertical-align: middle;\n",
       "    }\n",
       "\n",
       "    .dataframe tbody tr th {\n",
       "        vertical-align: top;\n",
       "    }\n",
       "\n",
       "    .dataframe thead th {\n",
       "        text-align: right;\n",
       "    }\n",
       "</style>\n",
       "<table border=\"1\" class=\"dataframe\">\n",
       "  <thead>\n",
       "    <tr style=\"text-align: right;\">\n",
       "      <th></th>\n",
       "      <th>Invoice/Item Number</th>\n",
       "      <th>Date</th>\n",
       "      <th>Store Number</th>\n",
       "      <th>Store Name</th>\n",
       "      <th>Address</th>\n",
       "      <th>City</th>\n",
       "      <th>Zip Code</th>\n",
       "      <th>Store Location</th>\n",
       "      <th>County Number</th>\n",
       "      <th>County</th>\n",
       "      <th>...</th>\n",
       "      <th>Bottles Sold</th>\n",
       "      <th>Sale (Dollars)</th>\n",
       "      <th>Volume Sold (Liters)</th>\n",
       "      <th>Volume Sold (Gallons)</th>\n",
       "      <th>month</th>\n",
       "      <th>year</th>\n",
       "      <th>State</th>\n",
       "      <th>Population</th>\n",
       "      <th>Population in 10K</th>\n",
       "      <th>Profit_per_sale</th>\n",
       "    </tr>\n",
       "  </thead>\n",
       "  <tbody>\n",
       "    <tr>\n",
       "      <th>0</th>\n",
       "      <td>INV-16839300007</td>\n",
       "      <td>2019-01-09</td>\n",
       "      <td>4655</td>\n",
       "      <td>Casey's General Store #2237 / Prairie City</td>\n",
       "      <td>1002 W 2nd St</td>\n",
       "      <td>Prairie City</td>\n",
       "      <td>50228</td>\n",
       "      <td>POINT (-93.247591 41.596714)</td>\n",
       "      <td>50.0</td>\n",
       "      <td>JASPER</td>\n",
       "      <td>...</td>\n",
       "      <td>3</td>\n",
       "      <td>46.50</td>\n",
       "      <td>2.25</td>\n",
       "      <td>0.59</td>\n",
       "      <td>1</td>\n",
       "      <td>2019</td>\n",
       "      <td>IA</td>\n",
       "      <td>37185</td>\n",
       "      <td>3.7185</td>\n",
       "      <td>63.019198</td>\n",
       "    </tr>\n",
       "    <tr>\n",
       "      <th>1</th>\n",
       "      <td>INV-16735300018</td>\n",
       "      <td>2019-01-04</td>\n",
       "      <td>2517</td>\n",
       "      <td>Hy-Vee Food Store #1 / Newton</td>\n",
       "      <td>1501 First Avenue East</td>\n",
       "      <td>Newton</td>\n",
       "      <td>50208</td>\n",
       "      <td>POINT (-93.034296 41.69916)</td>\n",
       "      <td>50.0</td>\n",
       "      <td>JASPER</td>\n",
       "      <td>...</td>\n",
       "      <td>12</td>\n",
       "      <td>98.64</td>\n",
       "      <td>9.00</td>\n",
       "      <td>2.37</td>\n",
       "      <td>1</td>\n",
       "      <td>2019</td>\n",
       "      <td>IA</td>\n",
       "      <td>37185</td>\n",
       "      <td>3.7185</td>\n",
       "      <td>17.717936</td>\n",
       "    </tr>\n",
       "    <tr>\n",
       "      <th>2</th>\n",
       "      <td>INV-16737100005</td>\n",
       "      <td>2019-01-04</td>\n",
       "      <td>4604</td>\n",
       "      <td>Pit Stop Liquors / Newton</td>\n",
       "      <td>1324, 1st Ave E</td>\n",
       "      <td>Newton</td>\n",
       "      <td>50208</td>\n",
       "      <td>POINT (-93.035654 41.699173)</td>\n",
       "      <td>50.0</td>\n",
       "      <td>JASPER</td>\n",
       "      <td>...</td>\n",
       "      <td>1</td>\n",
       "      <td>18.68</td>\n",
       "      <td>0.50</td>\n",
       "      <td>0.13</td>\n",
       "      <td>1</td>\n",
       "      <td>2019</td>\n",
       "      <td>IA</td>\n",
       "      <td>37185</td>\n",
       "      <td>3.7185</td>\n",
       "      <td>91.524930</td>\n",
       "    </tr>\n",
       "    <tr>\n",
       "      <th>3</th>\n",
       "      <td>INV-16735300020</td>\n",
       "      <td>2019-01-04</td>\n",
       "      <td>2517</td>\n",
       "      <td>Hy-Vee Food Store #1 / Newton</td>\n",
       "      <td>1501 First Avenue East</td>\n",
       "      <td>Newton</td>\n",
       "      <td>50208</td>\n",
       "      <td>POINT (-93.034296 41.69916)</td>\n",
       "      <td>50.0</td>\n",
       "      <td>JASPER</td>\n",
       "      <td>...</td>\n",
       "      <td>12</td>\n",
       "      <td>60.72</td>\n",
       "      <td>9.00</td>\n",
       "      <td>2.37</td>\n",
       "      <td>1</td>\n",
       "      <td>2019</td>\n",
       "      <td>IA</td>\n",
       "      <td>37185</td>\n",
       "      <td>3.7185</td>\n",
       "      <td>6.720454</td>\n",
       "    </tr>\n",
       "    <tr>\n",
       "      <th>4</th>\n",
       "      <td>INV-16735300043</td>\n",
       "      <td>2019-01-04</td>\n",
       "      <td>2517</td>\n",
       "      <td>Hy-Vee Food Store #1 / Newton</td>\n",
       "      <td>1501 First Avenue East</td>\n",
       "      <td>Newton</td>\n",
       "      <td>50208</td>\n",
       "      <td>POINT (-93.034296 41.69916)</td>\n",
       "      <td>50.0</td>\n",
       "      <td>JASPER</td>\n",
       "      <td>...</td>\n",
       "      <td>12</td>\n",
       "      <td>86.40</td>\n",
       "      <td>6.00</td>\n",
       "      <td>1.58</td>\n",
       "      <td>1</td>\n",
       "      <td>2019</td>\n",
       "      <td>IA</td>\n",
       "      <td>37185</td>\n",
       "      <td>3.7185</td>\n",
       "      <td>13.593600</td>\n",
       "    </tr>\n",
       "  </tbody>\n",
       "</table>\n",
       "<p>5 rows × 30 columns</p>\n",
       "</div>"
      ],
      "text/plain": [
       "  Invoice/Item Number       Date  Store Number  \\\n",
       "0     INV-16839300007 2019-01-09          4655   \n",
       "1     INV-16735300018 2019-01-04          2517   \n",
       "2     INV-16737100005 2019-01-04          4604   \n",
       "3     INV-16735300020 2019-01-04          2517   \n",
       "4     INV-16735300043 2019-01-04          2517   \n",
       "\n",
       "                                   Store Name                 Address  \\\n",
       "0  Casey's General Store #2237 / Prairie City           1002 W 2nd St   \n",
       "1               Hy-Vee Food Store #1 / Newton  1501 First Avenue East   \n",
       "2                   Pit Stop Liquors / Newton         1324, 1st Ave E   \n",
       "3               Hy-Vee Food Store #1 / Newton  1501 First Avenue East   \n",
       "4               Hy-Vee Food Store #1 / Newton  1501 First Avenue East   \n",
       "\n",
       "           City Zip Code                Store Location  County Number  County  \\\n",
       "0  Prairie City    50228  POINT (-93.247591 41.596714)           50.0  JASPER   \n",
       "1        Newton    50208   POINT (-93.034296 41.69916)           50.0  JASPER   \n",
       "2        Newton    50208  POINT (-93.035654 41.699173)           50.0  JASPER   \n",
       "3        Newton    50208   POINT (-93.034296 41.69916)           50.0  JASPER   \n",
       "4        Newton    50208   POINT (-93.034296 41.69916)           50.0  JASPER   \n",
       "\n",
       "   ...  Bottles Sold Sale (Dollars)  Volume Sold (Liters)  \\\n",
       "0  ...             3          46.50                  2.25   \n",
       "1  ...            12          98.64                  9.00   \n",
       "2  ...             1          18.68                  0.50   \n",
       "3  ...            12          60.72                  9.00   \n",
       "4  ...            12          86.40                  6.00   \n",
       "\n",
       "  Volume Sold (Gallons)  month  year  State  Population  Population in 10K  \\\n",
       "0                  0.59      1  2019     IA       37185             3.7185   \n",
       "1                  2.37      1  2019     IA       37185             3.7185   \n",
       "2                  0.13      1  2019     IA       37185             3.7185   \n",
       "3                  2.37      1  2019     IA       37185             3.7185   \n",
       "4                  1.58      1  2019     IA       37185             3.7185   \n",
       "\n",
       "   Profit_per_sale  \n",
       "0        63.019198  \n",
       "1        17.717936  \n",
       "2        91.524930  \n",
       "3         6.720454  \n",
       "4        13.593600  \n",
       "\n",
       "[5 rows x 30 columns]"
      ]
     },
     "execution_count": 40,
     "metadata": {},
     "output_type": "execute_result"
    }
   ],
   "source": [
    "tot_2019['Profit_per_sale'] = ((tot_2019['State Bottle Retail'] - tot_2019['State Bottle Cost'])*tot_2019['State Bottle Cost'])*1.18\n",
    "tot_2019.head()"
   ]
  },
  {
   "cell_type": "code",
   "execution_count": 41,
   "metadata": {},
   "outputs": [
    {
     "name": "stdout",
     "output_type": "stream",
     "text": [
      "     Store Number  State Bottle Retail  Bottles Sold  Population  \\\n",
      "0            2106            16.652938     19.263920    131228.0   \n",
      "1            2113            16.270658      3.753722     35904.0   \n",
      "2            2130            17.425406     20.012935    131228.0   \n",
      "3            2178            16.551887      9.085278     13687.0   \n",
      "4            2190            22.603088      8.408258    490161.0   \n",
      "..            ...                  ...           ...         ...   \n",
      "856          9023            56.250000     10.500000     20165.0   \n",
      "857          9037            26.328125     15.750000     33657.0   \n",
      "858          9038            37.700000    990.000000     20165.0   \n",
      "859          9039            15.005455    125.090909    490161.0   \n",
      "860          9041            25.796369     12.678571     14813.0   \n",
      "\n",
      "     Population in 10K  Volume Sold (Liters)  \n",
      "0              13.1228             17.851560  \n",
      "1               3.5904              3.469175  \n",
      "2              13.1228             18.387712  \n",
      "3               1.3687              9.401947  \n",
      "4              49.0161              5.494724  \n",
      "..                 ...                   ...  \n",
      "856             2.0165              7.875000  \n",
      "857             3.3657             11.812500  \n",
      "858             2.0165            742.500000  \n",
      "859            49.0161             91.227273  \n",
      "860             1.4813              9.508929  \n",
      "\n",
      "[861 rows x 6 columns]\n"
     ]
    }
   ],
   "source": [
    "# aggiungo l'anno per far matchare poi la popolazione. \n",
    "stores_2019= tot_2019.groupby('Store Number',as_index=False)[['State Bottle Retail','Bottles Sold', 'Population', 'Population in 10K', 'Volume Sold (Liters)']].mean()\n",
    "print(stores_2019)\n"
   ]
  },
  {
   "cell_type": "code",
   "execution_count": 42,
   "metadata": {},
   "outputs": [
    {
     "name": "stdout",
     "output_type": "stream",
     "text": [
      "861\n"
     ]
    }
   ],
   "source": [
    "x=tot_2019['Profit_per_sale'].groupby(tot_2019['Store Number']).sum()\n",
    "print(len(x))\n",
    "profit=pd.DataFrame(x);"
   ]
  },
  {
   "cell_type": "code",
   "execution_count": 43,
   "metadata": {},
   "outputs": [
    {
     "data": {
      "text/html": [
       "<div>\n",
       "<style scoped>\n",
       "    .dataframe tbody tr th:only-of-type {\n",
       "        vertical-align: middle;\n",
       "    }\n",
       "\n",
       "    .dataframe tbody tr th {\n",
       "        vertical-align: top;\n",
       "    }\n",
       "\n",
       "    .dataframe thead th {\n",
       "        text-align: right;\n",
       "    }\n",
       "</style>\n",
       "<table border=\"1\" class=\"dataframe\">\n",
       "  <thead>\n",
       "    <tr style=\"text-align: right;\">\n",
       "      <th></th>\n",
       "      <th>Store Number</th>\n",
       "      <th>Profit_per_sale</th>\n",
       "    </tr>\n",
       "  </thead>\n",
       "  <tbody>\n",
       "    <tr>\n",
       "      <th>0</th>\n",
       "      <td>2106</td>\n",
       "      <td>4.762394e+05</td>\n",
       "    </tr>\n",
       "    <tr>\n",
       "      <th>1</th>\n",
       "      <td>2113</td>\n",
       "      <td>1.533957e+05</td>\n",
       "    </tr>\n",
       "    <tr>\n",
       "      <th>2</th>\n",
       "      <td>2130</td>\n",
       "      <td>4.021997e+05</td>\n",
       "    </tr>\n",
       "    <tr>\n",
       "      <th>3</th>\n",
       "      <td>2178</td>\n",
       "      <td>2.523608e+05</td>\n",
       "    </tr>\n",
       "    <tr>\n",
       "      <th>4</th>\n",
       "      <td>2190</td>\n",
       "      <td>4.047641e+06</td>\n",
       "    </tr>\n",
       "  </tbody>\n",
       "</table>\n",
       "</div>"
      ],
      "text/plain": [
       "   Store Number  Profit_per_sale\n",
       "0          2106     4.762394e+05\n",
       "1          2113     1.533957e+05\n",
       "2          2130     4.021997e+05\n",
       "3          2178     2.523608e+05\n",
       "4          2190     4.047641e+06"
      ]
     },
     "execution_count": 43,
     "metadata": {},
     "output_type": "execute_result"
    }
   ],
   "source": [
    "profit.reset_index(level=0, inplace=True)\n",
    "profit.head()"
   ]
  },
  {
   "cell_type": "code",
   "execution_count": 44,
   "metadata": {},
   "outputs": [],
   "source": [
    "stores_tot=pd.merge(stores_2019, profit, on='Store Number')"
   ]
  },
  {
   "cell_type": "code",
   "execution_count": 45,
   "metadata": {},
   "outputs": [
    {
     "data": {
      "text/html": [
       "<div>\n",
       "<style scoped>\n",
       "    .dataframe tbody tr th:only-of-type {\n",
       "        vertical-align: middle;\n",
       "    }\n",
       "\n",
       "    .dataframe tbody tr th {\n",
       "        vertical-align: top;\n",
       "    }\n",
       "\n",
       "    .dataframe thead th {\n",
       "        text-align: right;\n",
       "    }\n",
       "</style>\n",
       "<table border=\"1\" class=\"dataframe\">\n",
       "  <thead>\n",
       "    <tr style=\"text-align: right;\">\n",
       "      <th></th>\n",
       "      <th>Store Number</th>\n",
       "      <th>State Bottle Retail</th>\n",
       "      <th>Bottles Sold</th>\n",
       "      <th>Population</th>\n",
       "      <th>Population in 10K</th>\n",
       "      <th>Volume Sold (Liters)</th>\n",
       "      <th>Profit_per_sale</th>\n",
       "    </tr>\n",
       "  </thead>\n",
       "  <tbody>\n",
       "    <tr>\n",
       "      <th>0</th>\n",
       "      <td>2106</td>\n",
       "      <td>16.652938</td>\n",
       "      <td>19.263920</td>\n",
       "      <td>131228.0</td>\n",
       "      <td>13.1228</td>\n",
       "      <td>17.851560</td>\n",
       "      <td>4.762394e+05</td>\n",
       "    </tr>\n",
       "    <tr>\n",
       "      <th>1</th>\n",
       "      <td>2113</td>\n",
       "      <td>16.270658</td>\n",
       "      <td>3.753722</td>\n",
       "      <td>35904.0</td>\n",
       "      <td>3.5904</td>\n",
       "      <td>3.469175</td>\n",
       "      <td>1.533957e+05</td>\n",
       "    </tr>\n",
       "    <tr>\n",
       "      <th>2</th>\n",
       "      <td>2130</td>\n",
       "      <td>17.425406</td>\n",
       "      <td>20.012935</td>\n",
       "      <td>131228.0</td>\n",
       "      <td>13.1228</td>\n",
       "      <td>18.387712</td>\n",
       "      <td>4.021997e+05</td>\n",
       "    </tr>\n",
       "    <tr>\n",
       "      <th>3</th>\n",
       "      <td>2178</td>\n",
       "      <td>16.551887</td>\n",
       "      <td>9.085278</td>\n",
       "      <td>13687.0</td>\n",
       "      <td>1.3687</td>\n",
       "      <td>9.401947</td>\n",
       "      <td>2.523608e+05</td>\n",
       "    </tr>\n",
       "    <tr>\n",
       "      <th>4</th>\n",
       "      <td>2190</td>\n",
       "      <td>22.603088</td>\n",
       "      <td>8.408258</td>\n",
       "      <td>490161.0</td>\n",
       "      <td>49.0161</td>\n",
       "      <td>5.494724</td>\n",
       "      <td>4.047641e+06</td>\n",
       "    </tr>\n",
       "  </tbody>\n",
       "</table>\n",
       "</div>"
      ],
      "text/plain": [
       "   Store Number  State Bottle Retail  Bottles Sold  Population  \\\n",
       "0          2106            16.652938     19.263920    131228.0   \n",
       "1          2113            16.270658      3.753722     35904.0   \n",
       "2          2130            17.425406     20.012935    131228.0   \n",
       "3          2178            16.551887      9.085278     13687.0   \n",
       "4          2190            22.603088      8.408258    490161.0   \n",
       "\n",
       "   Population in 10K  Volume Sold (Liters)  Profit_per_sale  \n",
       "0            13.1228             17.851560     4.762394e+05  \n",
       "1             3.5904              3.469175     1.533957e+05  \n",
       "2            13.1228             18.387712     4.021997e+05  \n",
       "3             1.3687              9.401947     2.523608e+05  \n",
       "4            49.0161              5.494724     4.047641e+06  "
      ]
     },
     "execution_count": 45,
     "metadata": {},
     "output_type": "execute_result"
    }
   ],
   "source": [
    "stores_tot.head()"
   ]
  },
  {
   "cell_type": "code",
   "execution_count": 46,
   "metadata": {},
   "outputs": [
    {
     "name": "stdout",
     "output_type": "stream",
     "text": [
      "14.230290862094076\n"
     ]
    },
    {
     "data": {
      "image/png": "[encoded data removed]",
      "text/plain": [
       "<Figure size 432x288 with 1 Axes>"
      ]
     },
     "metadata": {
      "needs_background": "light"
     },
     "output_type": "display_data"
    }
   ],
   "source": [
    "print(stores_tot[stores_tot['State Bottle Retail']<30]['State Bottle Retail'].mean())\n",
    "sns.distplot(stores_tot[stores_tot['State Bottle Retail']<30]['State Bottle Retail']);"
   ]
  },
  {
   "cell_type": "code",
   "execution_count": 47,
   "metadata": {},
   "outputs": [
    {
     "name": "stdout",
     "output_type": "stream",
     "text": [
      "861\n",
      "2\n"
     ]
    }
   ],
   "source": [
    "print(len(stores_tot))\n",
    "print(len(stores_tot[stores_tot['State Bottle Retail']>=30]))"
   ]
  },
  {
   "cell_type": "code",
   "execution_count": 48,
   "metadata": {},
   "outputs": [
    {
     "data": {
      "text/plain": [
       "859"
      ]
     },
     "execution_count": 48,
     "metadata": {},
     "output_type": "execute_result"
    }
   ],
   "source": [
    "stores_tot=stores_tot[stores_tot['State Bottle Retail']<30]\n",
    "len(stores_tot)"
   ]
  },
  {
   "cell_type": "code",
   "execution_count": 49,
   "metadata": {},
   "outputs": [
    {
     "name": "stdout",
     "output_type": "stream",
     "text": [
      "10.992871015441786\n"
     ]
    },
    {
     "data": {
      "image/png": "[encoded data removed]",
      "text/plain": [
       "<Figure size 432x288 with 1 Axes>"
      ]
     },
     "metadata": {
      "needs_background": "light"
     },
     "output_type": "display_data"
    }
   ],
   "source": [
    "#Una volta che si escludono i negozi all'ingrosso (ci sono alcuni outlier), la maggior parte dei negozi di acquistare circa 11 bottiglie in un ordine \n",
    "print(stores_tot[stores_tot['Bottles Sold']<50]['Bottles Sold'].mean())\n",
    "sns.distplot(stores_tot[stores_tot['Bottles Sold']<50]['Bottles Sold']);"
   ]
  },
  {
   "cell_type": "code",
   "execution_count": 50,
   "metadata": {},
   "outputs": [
    {
     "name": "stdout",
     "output_type": "stream",
     "text": [
      "859\n",
      "2\n"
     ]
    }
   ],
   "source": [
    "print(len(stores_tot))\n",
    "print(len(stores_tot[stores_tot['Bottles Sold']>=50]))"
   ]
  },
  {
   "cell_type": "code",
   "execution_count": 51,
   "metadata": {},
   "outputs": [
    {
     "data": {
      "text/plain": [
       "857"
      ]
     },
     "execution_count": 51,
     "metadata": {},
     "output_type": "execute_result"
    }
   ],
   "source": [
    "stores_tot=stores_tot[stores_tot['Bottles Sold']<50]\n",
    "len(stores_tot)"
   ]
  },
  {
   "cell_type": "code",
   "execution_count": 52,
   "metadata": {},
   "outputs": [
    {
     "name": "stdout",
     "output_type": "stream",
     "text": [
      "64808.56502731532\n"
     ]
    },
    {
     "data": {
      "image/png": "[encoded data removed]",
      "text/plain": [
       "<Figure size 432x288 with 1 Axes>"
      ]
     },
     "metadata": {
      "needs_background": "light"
     },
     "output_type": "display_data"
    }
   ],
   "source": [
    "## Qual è il profitto annuo della maggior parte dei negozi per l'anno 2019, una volta esclusi gli outlier? Circa 64.000 dollari all'anno.\n",
    "print(stores_tot[stores_tot['Profit_per_sale']<300000]['Profit_per_sale'].mean())\n",
    "sns.distplot(stores_tot[stores_tot['Profit_per_sale']<300000]['Profit_per_sale']);"
   ]
  },
  {
   "cell_type": "code",
   "execution_count": 53,
   "metadata": {},
   "outputs": [
    {
     "name": "stdout",
     "output_type": "stream",
     "text": [
      "857\n",
      "83\n"
     ]
    }
   ],
   "source": [
    "print(len(stores_tot))\n",
    "print(len(stores_tot[stores_tot['Profit_per_sale']>=300000]))"
   ]
  },
  {
   "cell_type": "code",
   "execution_count": 54,
   "metadata": {},
   "outputs": [
    {
     "data": {
      "text/plain": [
       "774"
      ]
     },
     "execution_count": 54,
     "metadata": {},
     "output_type": "execute_result"
    }
   ],
   "source": [
    "stores_tot=stores_tot[stores_tot['Profit_per_sale']<300000]\n",
    "len(stores_tot)"
   ]
  },
  {
   "cell_type": "markdown",
   "metadata": {},
   "source": [
    "**Populatuion and profit**"
   ]
  },
  {
   "cell_type": "code",
   "execution_count": 55,
   "metadata": {},
   "outputs": [
    {
     "data": {
      "text/plain": [
       "<matplotlib.axes._subplots.AxesSubplot at 0x26e08d1ebc8>"
      ]
     },
     "execution_count": 55,
     "metadata": {},
     "output_type": "execute_result"
    },
    {
     "data": {
      "image/png": "[encoded data removed]",
      "text/plain": [
       "<Figure size 432x288 with 1 Axes>"
      ]
     },
     "metadata": {
      "needs_background": "light"
     },
     "output_type": "display_data"
    }
   ],
   "source": [
    "sns.regplot(x=stores_tot['Population'], y=stores_tot['Profit_per_sale'], fit_reg=False)"
   ]
  },
  {
   "cell_type": "code",
   "execution_count": 56,
   "metadata": {},
   "outputs": [],
   "source": [
    "bins = [0, 30000, 50000, 70000, 100000, 200000, 300000, 500000]\n",
    "stores2=stores_tot\n",
    "stores2['pop_bins'] = pd.cut(stores2['Population'], bins)"
   ]
  },
  {
   "cell_type": "code",
   "execution_count": 57,
   "metadata": {},
   "outputs": [
    {
     "data": {
      "image/png": "[encoded data removed]",
      "text/plain": [
       "<Figure size 432x288 with 1 Axes>"
      ]
     },
     "metadata": {
      "needs_background": "light"
     },
     "output_type": "display_data"
    }
   ],
   "source": [
    "ax = sns.barplot(x=stores2['pop_bins'], y=stores2['Profit_per_sale'])\n",
    "ax.set(xlabel='Population of County', ylabel='Annual Profit')\n",
    "labels = ax.get_xticklabels() # get x labels\n",
    "ax.set_xticklabels(labels, rotation=30)\n",
    "plt.show()"
   ]
  },
  {
   "cell_type": "markdown",
   "metadata": {},
   "source": [
    "**Bottles by order**"
   ]
  },
  {
   "cell_type": "code",
   "execution_count": 58,
   "metadata": {},
   "outputs": [
    {
     "data": {
      "text/plain": [
       "<matplotlib.axes._subplots.AxesSubplot at 0x26e08c5e608>"
      ]
     },
     "execution_count": 58,
     "metadata": {},
     "output_type": "execute_result"
    },
    {
     "data": {
      "image/png": "[encoded data removed]",
      "text/plain": [
       "<Figure size 432x288 with 1 Axes>"
      ]
     },
     "metadata": {
      "needs_background": "light"
     },
     "output_type": "display_data"
    }
   ],
   "source": [
    "# I negozi con un alto profitto annuale hanno di solito un numero medio di bottiglie per vendita.\n",
    "sns.regplot(x=stores_tot['Bottles Sold'], y=stores_tot['Profit_per_sale'])"
   ]
  },
  {
   "cell_type": "code",
   "execution_count": 59,
   "metadata": {},
   "outputs": [],
   "source": [
    "bins = [0, 10, 20, 30, 40, 50]\n",
    "stores2=stores_tot\n",
    "stores2['bottles_bins'] = pd.cut(stores2['Bottles Sold'], bins)"
   ]
  },
  {
   "cell_type": "code",
   "execution_count": 60,
   "metadata": {},
   "outputs": [
    {
     "data": {
      "image/png": "[encoded data removed]",
      "text/plain": [
       "<Figure size 432x288 with 1 Axes>"
      ]
     },
     "metadata": {
      "needs_background": "light"
     },
     "output_type": "display_data"
    }
   ],
   "source": [
    "ax = sns.barplot(x=stores2['bottles_bins'], y=stores2['Profit_per_sale'])\n",
    "ax.set(xlabel='Average Bottles per Order', ylabel='Annual Profit')\n",
    "labels = ax.get_xticklabels() # get x labels\n",
    "ax.set_xticklabels(labels, rotation=30)\n",
    "plt.show()"
   ]
  },
  {
   "cell_type": "markdown",
   "metadata": {},
   "source": [
    "**Average bottle price per order**"
   ]
  },
  {
   "cell_type": "code",
   "execution_count": 61,
   "metadata": {},
   "outputs": [
    {
     "data": {
      "text/plain": [
       "<matplotlib.axes._subplots.AxesSubplot at 0x26e08c38308>"
      ]
     },
     "execution_count": 61,
     "metadata": {},
     "output_type": "execute_result"
    },
    {
     "data": {
      "image/png": "[encoded data removed]",
      "text/plain": [
       "<Figure size 432x288 with 1 Axes>"
      ]
     },
     "metadata": {
      "needs_background": "light"
     },
     "output_type": "display_data"
    }
   ],
   "source": [
    "# I negozi che vendono per lo più bottiglie ad altissimo prezzo non hanno un alto profitto annuale.\n",
    "sns.regplot(x=stores_tot['State Bottle Retail'], y=stores_tot['Profit_per_sale'], fit_reg=True)"
   ]
  },
  {
   "cell_type": "code",
   "execution_count": 62,
   "metadata": {},
   "outputs": [],
   "source": [
    "bins = [5, 10, 15, 20, 25, 30]\n",
    "stores2=stores_tot\n",
    "stores2['price_bins'] = pd.cut(stores2['State Bottle Retail'], bins)"
   ]
  },
  {
   "cell_type": "code",
   "execution_count": 63,
   "metadata": {},
   "outputs": [
    {
     "data": {
      "image/png": "[encoded data removed]",
      "text/plain": [
       "<Figure size 432x288 with 1 Axes>"
      ]
     },
     "metadata": {
      "needs_background": "light"
     },
     "output_type": "display_data"
    }
   ],
   "source": [
    "ax = sns.barplot(x=stores2['price_bins'], y=stores2['Profit_per_sale'])\n",
    "ax.set(xlabel='Average Bottle Price per Order', ylabel='Annual Profit')\n",
    "labels = ax.get_xticklabels() # get x labels\n",
    "ax.set_xticklabels(labels, rotation=30)\n",
    "plt.show()"
   ]
  },
  {
   "cell_type": "markdown",
   "metadata": {},
   "source": [
    "# Clustering \n",
    "Applicazione del clustering sui dati relativi all'anno 2019"
   ]
  },
  {
   "cell_type": "code",
   "execution_count": 8,
   "metadata": {},
   "outputs": [
    {
     "name": "stderr",
     "output_type": "stream",
     "text": [
      "C:\\Users\\gigio\\anaconda3\\lib\\site-packages\\ipykernel_launcher.py:1: SettingWithCopyWarning: \n",
      "A value is trying to be set on a copy of a slice from a DataFrame.\n",
      "Try using .loc[row_indexer,col_indexer] = value instead\n",
      "\n",
      "See the caveats in the documentation: https://pandas.pydata.org/pandas-docs/stable/user_guide/indexing.html#returning-a-view-versus-a-copy\n",
      "  \"\"\"Entry point for launching an IPython kernel.\n",
      "C:\\Users\\gigio\\anaconda3\\lib\\site-packages\\ipykernel_launcher.py:2: SettingWithCopyWarning: \n",
      "A value is trying to be set on a copy of a slice from a DataFrame.\n",
      "Try using .loc[row_indexer,col_indexer] = value instead\n",
      "\n",
      "See the caveats in the documentation: https://pandas.pydata.org/pandas-docs/stable/user_guide/indexing.html#returning-a-view-versus-a-copy\n",
      "  \n"
     ]
    }
   ],
   "source": [
    "df_2019['Bottle Volume (ml)']= df['Bottle Volume (ml)'].astype(int)\n",
    "df_2019['Bottle Volume (cl)'] = df_2019['Bottle Volume (ml)'].apply(lambda x: x/10) "
   ]
  },
  {
   "cell_type": "code",
   "execution_count": 9,
   "metadata": {},
   "outputs": [],
   "source": [
    "#operazioni di filtraggio\n",
    "df_senzaout = (df_2019['State Bottle Retail']<30) & (df_2019['Bottles Sold']<50) & (df_2019['Sale (Dollars)']<130)"
   ]
  },
  {
   "cell_type": "code",
   "execution_count": 10,
   "metadata": {},
   "outputs": [],
   "source": [
    "df2019_nout = df_2019[df_senzaout]"
   ]
  },
  {
   "cell_type": "code",
   "execution_count": 11,
   "metadata": {},
   "outputs": [
    {
     "data": {
      "text/html": [
       "<div>\n",
       "<style scoped>\n",
       "    .dataframe tbody tr th:only-of-type {\n",
       "        vertical-align: middle;\n",
       "    }\n",
       "\n",
       "    .dataframe tbody tr th {\n",
       "        vertical-align: top;\n",
       "    }\n",
       "\n",
       "    .dataframe thead th {\n",
       "        text-align: right;\n",
       "    }\n",
       "</style>\n",
       "<table border=\"1\" class=\"dataframe\">\n",
       "  <thead>\n",
       "    <tr style=\"text-align: right;\">\n",
       "      <th></th>\n",
       "      <th>Invoice/Item Number</th>\n",
       "      <th>Date</th>\n",
       "      <th>Store Number</th>\n",
       "      <th>Store Name</th>\n",
       "      <th>Address</th>\n",
       "      <th>City</th>\n",
       "      <th>Zip Code</th>\n",
       "      <th>Store Location</th>\n",
       "      <th>County Number</th>\n",
       "      <th>County</th>\n",
       "      <th>...</th>\n",
       "      <th>Bottle Volume (ml)</th>\n",
       "      <th>State Bottle Cost</th>\n",
       "      <th>State Bottle Retail</th>\n",
       "      <th>Bottles Sold</th>\n",
       "      <th>Sale (Dollars)</th>\n",
       "      <th>Volume Sold (Liters)</th>\n",
       "      <th>Volume Sold (Gallons)</th>\n",
       "      <th>month</th>\n",
       "      <th>year</th>\n",
       "      <th>Bottle Volume (cl)</th>\n",
       "    </tr>\n",
       "  </thead>\n",
       "  <tbody>\n",
       "    <tr>\n",
       "      <th>886836</th>\n",
       "      <td>INV-16840300172</td>\n",
       "      <td>2019-01-09</td>\n",
       "      <td>2621</td>\n",
       "      <td>Hy-Vee Food Store #3 / Sioux City</td>\n",
       "      <td>3301 Gordon Dr</td>\n",
       "      <td>Sioux City</td>\n",
       "      <td>51105</td>\n",
       "      <td>POINT (-96.364108 42.487752)</td>\n",
       "      <td>97.0</td>\n",
       "      <td>WOODBURY</td>\n",
       "      <td>...</td>\n",
       "      <td>1000</td>\n",
       "      <td>7.67</td>\n",
       "      <td>11.51</td>\n",
       "      <td>2</td>\n",
       "      <td>23.02</td>\n",
       "      <td>2.00</td>\n",
       "      <td>0.52</td>\n",
       "      <td>1</td>\n",
       "      <td>2019</td>\n",
       "      <td>100.0</td>\n",
       "    </tr>\n",
       "    <tr>\n",
       "      <th>896194</th>\n",
       "      <td>INV-16839800075</td>\n",
       "      <td>2019-01-09</td>\n",
       "      <td>2594</td>\n",
       "      <td>Hy-Vee Food Store / Sioux City</td>\n",
       "      <td>4500 Sergeant Road</td>\n",
       "      <td>Sioux City</td>\n",
       "      <td>51106</td>\n",
       "      <td>POINT (-96.346969 42.447396)</td>\n",
       "      <td>97.0</td>\n",
       "      <td>WOODBURY</td>\n",
       "      <td>...</td>\n",
       "      <td>750</td>\n",
       "      <td>15.74</td>\n",
       "      <td>23.61</td>\n",
       "      <td>1</td>\n",
       "      <td>23.61</td>\n",
       "      <td>0.75</td>\n",
       "      <td>0.19</td>\n",
       "      <td>1</td>\n",
       "      <td>2019</td>\n",
       "      <td>75.0</td>\n",
       "    </tr>\n",
       "    <tr>\n",
       "      <th>903678</th>\n",
       "      <td>INV-16840300157</td>\n",
       "      <td>2019-01-09</td>\n",
       "      <td>2621</td>\n",
       "      <td>Hy-Vee Food Store #3 / Sioux City</td>\n",
       "      <td>3301 Gordon Dr</td>\n",
       "      <td>Sioux City</td>\n",
       "      <td>51105</td>\n",
       "      <td>POINT (-96.364108 42.487752)</td>\n",
       "      <td>97.0</td>\n",
       "      <td>WOODBURY</td>\n",
       "      <td>...</td>\n",
       "      <td>750</td>\n",
       "      <td>8.25</td>\n",
       "      <td>12.38</td>\n",
       "      <td>4</td>\n",
       "      <td>49.52</td>\n",
       "      <td>3.00</td>\n",
       "      <td>0.79</td>\n",
       "      <td>1</td>\n",
       "      <td>2019</td>\n",
       "      <td>75.0</td>\n",
       "    </tr>\n",
       "    <tr>\n",
       "      <th>906924</th>\n",
       "      <td>INV-16839300007</td>\n",
       "      <td>2019-01-09</td>\n",
       "      <td>4655</td>\n",
       "      <td>Casey's General Store #2237 / Prairie City</td>\n",
       "      <td>1002 W 2nd St</td>\n",
       "      <td>Prairie City</td>\n",
       "      <td>50228</td>\n",
       "      <td>POINT (-93.247591 41.596714)</td>\n",
       "      <td>50.0</td>\n",
       "      <td>JASPER</td>\n",
       "      <td>...</td>\n",
       "      <td>750</td>\n",
       "      <td>10.33</td>\n",
       "      <td>15.50</td>\n",
       "      <td>3</td>\n",
       "      <td>46.50</td>\n",
       "      <td>2.25</td>\n",
       "      <td>0.59</td>\n",
       "      <td>1</td>\n",
       "      <td>2019</td>\n",
       "      <td>75.0</td>\n",
       "    </tr>\n",
       "    <tr>\n",
       "      <th>915910</th>\n",
       "      <td>INV-16836900016</td>\n",
       "      <td>2019-01-09</td>\n",
       "      <td>3949</td>\n",
       "      <td>Wal-Mart 0751 / Pella</td>\n",
       "      <td>1650 Washington St</td>\n",
       "      <td>Pella</td>\n",
       "      <td>50219</td>\n",
       "      <td>POINT (-92.933676 41.410379)</td>\n",
       "      <td>63.0</td>\n",
       "      <td>MARION</td>\n",
       "      <td>...</td>\n",
       "      <td>1750</td>\n",
       "      <td>6.92</td>\n",
       "      <td>10.38</td>\n",
       "      <td>12</td>\n",
       "      <td>124.56</td>\n",
       "      <td>21.00</td>\n",
       "      <td>5.54</td>\n",
       "      <td>1</td>\n",
       "      <td>2019</td>\n",
       "      <td>175.0</td>\n",
       "    </tr>\n",
       "  </tbody>\n",
       "</table>\n",
       "<p>5 rows × 27 columns</p>\n",
       "</div>"
      ],
      "text/plain": [
       "       Invoice/Item Number       Date  Store Number  \\\n",
       "886836     INV-16840300172 2019-01-09          2621   \n",
       "896194     INV-16839800075 2019-01-09          2594   \n",
       "903678     INV-16840300157 2019-01-09          2621   \n",
       "906924     INV-16839300007 2019-01-09          4655   \n",
       "915910     INV-16836900016 2019-01-09          3949   \n",
       "\n",
       "                                        Store Name             Address  \\\n",
       "886836           Hy-Vee Food Store #3 / Sioux City      3301 Gordon Dr   \n",
       "896194              Hy-Vee Food Store / Sioux City  4500 Sergeant Road   \n",
       "903678           Hy-Vee Food Store #3 / Sioux City      3301 Gordon Dr   \n",
       "906924  Casey's General Store #2237 / Prairie City       1002 W 2nd St   \n",
       "915910                       Wal-Mart 0751 / Pella  1650 Washington St   \n",
       "\n",
       "                City Zip Code                Store Location  County Number  \\\n",
       "886836    Sioux City    51105  POINT (-96.364108 42.487752)           97.0   \n",
       "896194    Sioux City    51106  POINT (-96.346969 42.447396)           97.0   \n",
       "903678    Sioux City    51105  POINT (-96.364108 42.487752)           97.0   \n",
       "906924  Prairie City    50228  POINT (-93.247591 41.596714)           50.0   \n",
       "915910         Pella    50219  POINT (-92.933676 41.410379)           63.0   \n",
       "\n",
       "          County  ...  Bottle Volume (ml) State Bottle Cost  \\\n",
       "886836  WOODBURY  ...                1000              7.67   \n",
       "896194  WOODBURY  ...                 750             15.74   \n",
       "903678  WOODBURY  ...                 750              8.25   \n",
       "906924    JASPER  ...                 750             10.33   \n",
       "915910    MARION  ...                1750              6.92   \n",
       "\n",
       "        State Bottle Retail Bottles Sold  Sale (Dollars) Volume Sold (Liters)  \\\n",
       "886836                11.51            2           23.02                 2.00   \n",
       "896194                23.61            1           23.61                 0.75   \n",
       "903678                12.38            4           49.52                 3.00   \n",
       "906924                15.50            3           46.50                 2.25   \n",
       "915910                10.38           12          124.56                21.00   \n",
       "\n",
       "        Volume Sold (Gallons)  month  year  Bottle Volume (cl)  \n",
       "886836                   0.52      1  2019               100.0  \n",
       "896194                   0.19      1  2019                75.0  \n",
       "903678                   0.79      1  2019                75.0  \n",
       "906924                   0.59      1  2019                75.0  \n",
       "915910                   5.54      1  2019               175.0  \n",
       "\n",
       "[5 rows x 27 columns]"
      ]
     },
     "execution_count": 11,
     "metadata": {},
     "output_type": "execute_result"
    }
   ],
   "source": [
    "df2019_nout.head()"
   ]
  },
  {
   "cell_type": "code",
   "execution_count": 12,
   "metadata": {},
   "outputs": [],
   "source": [
    "from sklearn.cluster import KMeans\n",
    "from yellowbrick.cluster import KElbowVisualizer"
   ]
  },
  {
   "cell_type": "markdown",
   "metadata": {},
   "source": [
    "# 1° cluster"
   ]
  },
  {
   "cell_type": "code",
   "execution_count": 69,
   "metadata": {},
   "outputs": [
    {
     "name": "stdout",
     "output_type": "stream",
     "text": [
      "(1409601, 2)\n"
     ]
    }
   ],
   "source": [
    "#metto in relazione il prezzo al dettaglio e le bottiglie vendute\n",
    "\n",
    "x=df2019_nout[['State Bottle Retail', 'Bottles Sold']].values\n",
    "print(x.shape)"
   ]
  },
  {
   "cell_type": "code",
   "execution_count": 73,
   "metadata": {},
   "outputs": [
    {
     "data": {
      "image/png": "[encoded data removed]",
      "text/plain": [
       "<Figure size 1080x576 with 2 Axes>"
      ]
     },
     "metadata": {},
     "output_type": "display_data"
    }
   ],
   "source": [
    "# wcss = []\n",
    "# for i in range(1, 11):\n",
    "#     km = KMeans(n_clusters = i, init = 'k-means++', max_iter = 300, n_init=10, random_state = 0)\n",
    "#     km.fit(x)\n",
    "#     wcss.append(km.inertia_)\n",
    "# plt.figure(figsize=(20,10))\n",
    "# plt.plot(range(1,11), wcss)\n",
    "# plt.title(\"The elbow mwthod\", fontsize= 20)\n",
    "# plt.xlabel(\"Numero di cluster\")\n",
    "# plt.ylabel(\"wcss\")\n",
    "\n",
    "from yellowbrick.cluster import KElbowVisualizer\n",
    "\n",
    "model= KMeans()\n",
    "visualizer= KElbowVisualizer(model, k=(1,12))\n",
    "\n",
    "plt.figure(figsize=(15,8))\n",
    "visualizer.fit(x)\n",
    "visualizer.show();"
   ]
  },
  {
   "cell_type": "code",
   "execution_count": 74,
   "metadata": {},
   "outputs": [
    {
     "data": {
      "image/png": "[encoded data removed]",
      "text/plain": [
       "<Figure size 1080x576 with 1 Axes>"
      ]
     },
     "metadata": {},
     "output_type": "display_data"
    }
   ],
   "source": [
    "km= KMeans(n_clusters = 4, init='k-means++', max_iter=300, n_init = 10, random_state = 0)\n",
    "y_means = km.fit_predict(x)\n",
    "\n",
    "plt.figure(figsize=(15,8))\n",
    "plt.scatter(x[y_means == 0, 0], x[y_means == 0, 1], s=100, c= 'yellow')\n",
    "plt.scatter(x[y_means == 1, 0], x[y_means == 1, 1], s=100, c= 'pink')\n",
    "plt.scatter(x[y_means == 2, 0], x[y_means == 2, 1], s=100, c= 'magenta')\n",
    "plt.scatter(x[y_means == 3, 0], x[y_means == 3, 1], s=100, c= 'cyan')\n",
    "# plt.scatter(x[y_means == 4, 0], x[y_means == 4, 1], s=100, c= 'orange')\n",
    "# plt.scatter(x[y_means == 5, 0], x[y_means == 5, 1], s=100, c= 'red')\n",
    "# plt.scatter(x[y_means == 4, 0], x[y_means == 4, 1], s=100, c= 'red')\n",
    "\n",
    "plt.scatter(km.cluster_centers_[:,0], km.cluster_centers_[:,1], s=50, c='blue', label= 'centroid')\n",
    "\n",
    "plt.title(\"K MEANS\", fontsize=20)\n",
    "plt.xlabel(\"Prezzo\")\n",
    "plt.ylabel(\"Bottiglie vendute\") \n",
    "plt.legend()\n",
    "plt.show()"
   ]
  },
  {
   "cell_type": "markdown",
   "metadata": {},
   "source": [
    "# 2° cluster"
   ]
  },
  {
   "cell_type": "code",
   "execution_count": 26,
   "metadata": {},
   "outputs": [
    {
     "name": "stdout",
     "output_type": "stream",
     "text": [
      "(1409601, 2)\n"
     ]
    }
   ],
   "source": [
    "#metto in relazione le bottigle vendute con i rispettivi quantitativi di volume\n",
    "\n",
    "x=df2019_nout[['Bottle Volume (ml)', 'Bottles Sold']].values\n",
    "print(x.shape)"
   ]
  },
  {
   "cell_type": "code",
   "execution_count": 79,
   "metadata": {},
   "outputs": [
    {
     "data": {
      "image/png": "[encoded data removed]",
      "text/plain": [
       "<Figure size 1080x576 with 2 Axes>"
      ]
     },
     "metadata": {},
     "output_type": "display_data"
    }
   ],
   "source": [
    "# wcss = []\n",
    "# for i in range(1, 11):\n",
    "#     km = KMeans(n_clusters = i, init = 'k-means++', max_iter = 300, n_init=10, random_state = 0)\n",
    "#     km.fit(x)\n",
    "#     wcss.append(km.inertia_)\n",
    "# plt.figure(figsize=(20,10))\n",
    "# plt.plot(range(1,11), wcss)\n",
    "# plt.title(\"The elbow mwthod\", fontsize= 20)\n",
    "# plt.xlabel(\"Numero di cluster\")\n",
    "# plt.ylabel(\"wcss\")\n",
    "\n",
    "from yellowbrick.cluster import KElbowVisualizer\n",
    "\n",
    "model= KMeans()\n",
    "visualizer= KElbowVisualizer(model, k=(1,12))\n",
    "\n",
    "plt.figure(figsize=(15,8))\n",
    "visualizer.fit(x)\n",
    "visualizer.show();"
   ]
  },
  {
   "cell_type": "code",
   "execution_count": 27,
   "metadata": {},
   "outputs": [
    {
     "data": {
      "image/png": "[encoded data removed]",
      "text/plain": [
       "<Figure size 1080x576 with 1 Axes>"
      ]
     },
     "metadata": {},
     "output_type": "display_data"
    }
   ],
   "source": [
    "km= KMeans(n_clusters = 3, init='k-means++', max_iter=300, n_init = 10, random_state = 0)\n",
    "y_means = km.fit_predict(x)\n",
    "\n",
    "plt.figure(figsize=(15,8))\n",
    "plt.scatter(x[y_means == 0, 0], x[y_means == 0, 1], s=100, c= 'yellow', label= 'LOW volume bottles')\n",
    "plt.scatter(x[y_means == 1, 0], x[y_means == 1, 1], s=100, c= 'pink', label = 'MEDIUM volume bottles')\n",
    "plt.scatter(x[y_means == 2, 0], x[y_means == 2, 1], s=100, c= 'magenta', label= 'HIGH volume bottles')\n",
    "# plt.scatter(x[y_means == 3, 0], x[y_means == 3, 1], s=100, c= 'cyan')\n",
    "# plt.scatter(x[y_means == 4, 0], x[y_means == 4, 1], s=100, c= 'orange')\n",
    "# plt.scatter(x[y_means == 5, 0], x[y_means == 5, 1], s=100, c= 'red')\n",
    "# plt.scatter(x[y_means == 4, 0], x[y_means == 4, 1], s=100, c= 'red')\n",
    "\n",
    "plt.scatter(km.cluster_centers_[:,0], km.cluster_centers_[:,1], s=50, c='blue', label= 'centroid')\n",
    "\n",
    "plt.title(\"K MEANS\", fontsize=20)\n",
    "plt.xlabel(\"Volume delle bottiglia in ML\")\n",
    "plt.ylabel(\"Bottiglie vendute\") \n",
    "plt.legend()\n",
    "plt.show()"
   ]
  },
  {
   "cell_type": "markdown",
   "metadata": {},
   "source": [
    "# 3° cluster \n",
    "Simile al 2° ma relativo al solo alcolico BLACK VELVET"
   ]
  },
  {
   "cell_type": "code",
   "execution_count": 13,
   "metadata": {},
   "outputs": [],
   "source": [
    "Only_Black_Velvet = df2019_nout['Item Description'] == 'Black Velvet'"
   ]
  },
  {
   "cell_type": "code",
   "execution_count": 14,
   "metadata": {},
   "outputs": [],
   "source": [
    "df2019_Black_Velvet= df2019_nout[Only_Black_Velvet]"
   ]
  },
  {
   "cell_type": "code",
   "execution_count": 28,
   "metadata": {},
   "outputs": [],
   "source": [
    "\n",
    "x=df2019_Black_Velvet[['Bottle Volume (cl)', 'Bottles Sold']].values"
   ]
  },
  {
   "cell_type": "code",
   "execution_count": 29,
   "metadata": {},
   "outputs": [
    {
     "name": "stdout",
     "output_type": "stream",
     "text": [
      "(42260, 2)\n"
     ]
    }
   ],
   "source": [
    "print(x.shape)"
   ]
  },
  {
   "cell_type": "code",
   "execution_count": 16,
   "metadata": {},
   "outputs": [
    {
     "data": {
      "image/png": "[encoded data removed]",
      "text/plain": [
       "<Figure size 1080x576 with 2 Axes>"
      ]
     },
     "metadata": {},
     "output_type": "display_data"
    }
   ],
   "source": [
    "from yellowbrick.cluster import KElbowVisualizer\n",
    "\n",
    "model= KMeans()\n",
    "visualizer= KElbowVisualizer(model, k=(1,12))\n",
    "\n",
    "plt.figure(figsize=(15,8))\n",
    "visualizer.fit(x)\n",
    "visualizer.show();"
   ]
  },
  {
   "cell_type": "code",
   "execution_count": 30,
   "metadata": {},
   "outputs": [
    {
     "data": {
      "image/png": "[encoded data removed]",
      "text/plain": [
       "<Figure size 1080x576 with 1 Axes>"
      ]
     },
     "metadata": {},
     "output_type": "display_data"
    }
   ],
   "source": [
    "km= KMeans(n_clusters = 3, init='k-means++', max_iter=300, n_init = 10, random_state = 0)\n",
    "y_means = km.fit_predict(x)\n",
    "\n",
    "plt.figure(figsize=(15,8))\n",
    "plt.scatter(x[y_means == 0, 0], x[y_means == 0, 1], s=100, c= 'yellow', label= 'LOW volume bottles')\n",
    "plt.scatter(x[y_means == 1, 0], x[y_means == 1, 1], s=100, c= 'pink', label= 'MEDIUM volume bottles')\n",
    "plt.scatter(x[y_means == 2, 0], x[y_means == 2, 1], s=100, c= 'magenta', label= 'HIGH volume bottles')\n",
    "# plt.scatter(x[y_means == 3, 0], x[y_means == 3, 1], s=100, c= 'cyan')\n",
    "# plt.scatter(x[y_means == 4, 0], x[y_means == 4, 1], s=100, c= 'orange')\n",
    "# plt.scatter(x[y_means == 5, 0], x[y_means == 5, 1], s=100, c= 'red')\n",
    "# plt.scatter(x[y_means == 4, 0], x[y_means == 4, 1], s=100, c= 'red')\n",
    "\n",
    "plt.scatter(km.cluster_centers_[:,0], km.cluster_centers_[:,1], s=50, c='blue', label= 'centroid')\n",
    "\n",
    "plt.title(\"K MEANS BLACK VELVET \", fontsize=20)\n",
    "plt.xlabel(\"Volume bottiglie in cl\")\n",
    "plt.ylabel(\"Bottiglie vendute\") \n",
    "plt.legend()\n",
    "plt.show()"
   ]
  },
  {
   "cell_type": "markdown",
   "metadata": {},
   "source": [
    "#### Fine clustering"
   ]
  },
  {
   "cell_type": "markdown",
   "metadata": {},
   "source": [
    "Di seguito pre processing prima della creazione del modello"
   ]
  },
  {
   "cell_type": "code",
   "execution_count": 98,
   "metadata": {
    "scrolled": true
   },
   "outputs": [
    {
     "data": {
      "text/html": [
       "<div>\n",
       "<style scoped>\n",
       "    .dataframe tbody tr th:only-of-type {\n",
       "        vertical-align: middle;\n",
       "    }\n",
       "\n",
       "    .dataframe tbody tr th {\n",
       "        vertical-align: top;\n",
       "    }\n",
       "\n",
       "    .dataframe thead th {\n",
       "        text-align: right;\n",
       "    }\n",
       "</style>\n",
       "<table border=\"1\" class=\"dataframe\">\n",
       "  <thead>\n",
       "    <tr style=\"text-align: right;\">\n",
       "      <th></th>\n",
       "      <th>Invoice/Item Number</th>\n",
       "      <th>Date</th>\n",
       "      <th>Store Number</th>\n",
       "      <th>Store Name</th>\n",
       "      <th>Address</th>\n",
       "      <th>City</th>\n",
       "      <th>Zip Code</th>\n",
       "      <th>Store Location</th>\n",
       "      <th>County Number</th>\n",
       "      <th>County</th>\n",
       "      <th>...</th>\n",
       "      <th>Bottle Volume (ml)</th>\n",
       "      <th>State Bottle Cost</th>\n",
       "      <th>State Bottle Retail</th>\n",
       "      <th>Bottles Sold</th>\n",
       "      <th>Sale (Dollars)</th>\n",
       "      <th>Volume Sold (Liters)</th>\n",
       "      <th>Volume Sold (Gallons)</th>\n",
       "      <th>month</th>\n",
       "      <th>year</th>\n",
       "      <th>State profit per bottle</th>\n",
       "    </tr>\n",
       "  </thead>\n",
       "  <tbody>\n",
       "    <tr>\n",
       "      <th>0</th>\n",
       "      <td>INV-00020100009</td>\n",
       "      <td>2016-08-29</td>\n",
       "      <td>4256</td>\n",
       "      <td>Fareway Stores #912 / Sioux Center</td>\n",
       "      <td>115  1st Ave NW</td>\n",
       "      <td>Sioux Center</td>\n",
       "      <td>51250</td>\n",
       "      <td>POINT (-96.176959 43.078003)</td>\n",
       "      <td>84.0</td>\n",
       "      <td>SIOUX</td>\n",
       "      <td>...</td>\n",
       "      <td>750</td>\n",
       "      <td>8.66</td>\n",
       "      <td>12.99</td>\n",
       "      <td>6</td>\n",
       "      <td>12.99</td>\n",
       "      <td>4.50</td>\n",
       "      <td>1.18</td>\n",
       "      <td>8</td>\n",
       "      <td>2016</td>\n",
       "      <td>4.33</td>\n",
       "    </tr>\n",
       "    <tr>\n",
       "      <th>1</th>\n",
       "      <td>INV-00067000040</td>\n",
       "      <td>2016-08-31</td>\n",
       "      <td>4588</td>\n",
       "      <td>Sam's Mini Mart / Sioux City</td>\n",
       "      <td>923 W 7TH ST</td>\n",
       "      <td>Sioux City</td>\n",
       "      <td>51103</td>\n",
       "      <td>POINT (-96.419074 42.503495)</td>\n",
       "      <td>97.0</td>\n",
       "      <td>WOODBURY</td>\n",
       "      <td>...</td>\n",
       "      <td>375</td>\n",
       "      <td>2.74</td>\n",
       "      <td>4.11</td>\n",
       "      <td>1</td>\n",
       "      <td>98.64</td>\n",
       "      <td>0.37</td>\n",
       "      <td>0.09</td>\n",
       "      <td>8</td>\n",
       "      <td>2016</td>\n",
       "      <td>1.37</td>\n",
       "    </tr>\n",
       "    <tr>\n",
       "      <th>3</th>\n",
       "      <td>INV-00030600017</td>\n",
       "      <td>2016-08-30</td>\n",
       "      <td>2605</td>\n",
       "      <td>Hy-Vee Drugstore #5 / Cedar Rapids</td>\n",
       "      <td>2001 Blairs Ferry Road NE</td>\n",
       "      <td>Cedar Rapids</td>\n",
       "      <td>52402</td>\n",
       "      <td>POINT (-91.668909 42.034799)</td>\n",
       "      <td>57.0</td>\n",
       "      <td>LINN</td>\n",
       "      <td>...</td>\n",
       "      <td>750</td>\n",
       "      <td>32.48</td>\n",
       "      <td>48.72</td>\n",
       "      <td>3</td>\n",
       "      <td>48.72</td>\n",
       "      <td>2.25</td>\n",
       "      <td>0.59</td>\n",
       "      <td>8</td>\n",
       "      <td>2016</td>\n",
       "      <td>16.24</td>\n",
       "    </tr>\n",
       "    <tr>\n",
       "      <th>4</th>\n",
       "      <td>S33682700006</td>\n",
       "      <td>2016-08-01</td>\n",
       "      <td>4967</td>\n",
       "      <td>Jeff's Market / Blue Grass</td>\n",
       "      <td>102, W Mayne St</td>\n",
       "      <td>Blue Grass</td>\n",
       "      <td>52726</td>\n",
       "      <td>POINT (-90.766126 41.509119)</td>\n",
       "      <td>82.0</td>\n",
       "      <td>Scott</td>\n",
       "      <td>...</td>\n",
       "      <td>600</td>\n",
       "      <td>7.12</td>\n",
       "      <td>10.68</td>\n",
       "      <td>1</td>\n",
       "      <td>10.68</td>\n",
       "      <td>0.60</td>\n",
       "      <td>0.16</td>\n",
       "      <td>8</td>\n",
       "      <td>2016</td>\n",
       "      <td>3.56</td>\n",
       "    </tr>\n",
       "    <tr>\n",
       "      <th>5</th>\n",
       "      <td>INV-00025700015</td>\n",
       "      <td>2016-08-30</td>\n",
       "      <td>4829</td>\n",
       "      <td>Central City 2</td>\n",
       "      <td>1501 Michigan Ave</td>\n",
       "      <td>Des Moines</td>\n",
       "      <td>50314</td>\n",
       "      <td>POINT (-93.613739 41.60572)</td>\n",
       "      <td>77.0</td>\n",
       "      <td>POLK</td>\n",
       "      <td>...</td>\n",
       "      <td>750</td>\n",
       "      <td>8.26</td>\n",
       "      <td>12.39</td>\n",
       "      <td>1</td>\n",
       "      <td>148.68</td>\n",
       "      <td>0.75</td>\n",
       "      <td>0.19</td>\n",
       "      <td>8</td>\n",
       "      <td>2016</td>\n",
       "      <td>4.13</td>\n",
       "    </tr>\n",
       "  </tbody>\n",
       "</table>\n",
       "<p>5 rows × 27 columns</p>\n",
       "</div>"
      ],
      "text/plain": [
       "  Invoice/Item Number       Date  Store Number  \\\n",
       "0     INV-00020100009 2016-08-29          4256   \n",
       "1     INV-00067000040 2016-08-31          4588   \n",
       "3     INV-00030600017 2016-08-30          2605   \n",
       "4        S33682700006 2016-08-01          4967   \n",
       "5     INV-00025700015 2016-08-30          4829   \n",
       "\n",
       "                           Store Name                    Address  \\\n",
       "0  Fareway Stores #912 / Sioux Center            115  1st Ave NW   \n",
       "1        Sam's Mini Mart / Sioux City               923 W 7TH ST   \n",
       "3  Hy-Vee Drugstore #5 / Cedar Rapids  2001 Blairs Ferry Road NE   \n",
       "4          Jeff's Market / Blue Grass            102, W Mayne St   \n",
       "5                      Central City 2          1501 Michigan Ave   \n",
       "\n",
       "           City Zip Code                Store Location  County Number  \\\n",
       "0  Sioux Center    51250  POINT (-96.176959 43.078003)           84.0   \n",
       "1    Sioux City    51103  POINT (-96.419074 42.503495)           97.0   \n",
       "3  Cedar Rapids    52402  POINT (-91.668909 42.034799)           57.0   \n",
       "4    Blue Grass    52726  POINT (-90.766126 41.509119)           82.0   \n",
       "5    Des Moines    50314   POINT (-93.613739 41.60572)           77.0   \n",
       "\n",
       "     County  ...  Bottle Volume (ml) State Bottle Cost  State Bottle Retail  \\\n",
       "0     SIOUX  ...                 750              8.66                12.99   \n",
       "1  WOODBURY  ...                 375              2.74                 4.11   \n",
       "3      LINN  ...                 750             32.48                48.72   \n",
       "4     Scott  ...                 600              7.12                10.68   \n",
       "5      POLK  ...                 750              8.26                12.39   \n",
       "\n",
       "  Bottles Sold  Sale (Dollars) Volume Sold (Liters)  Volume Sold (Gallons)  \\\n",
       "0            6           12.99                 4.50                   1.18   \n",
       "1            1           98.64                 0.37                   0.09   \n",
       "3            3           48.72                 2.25                   0.59   \n",
       "4            1           10.68                 0.60                   0.16   \n",
       "5            1          148.68                 0.75                   0.19   \n",
       "\n",
       "   month  year  State profit per bottle  \n",
       "0      8  2016                     4.33  \n",
       "1      8  2016                     1.37  \n",
       "3      8  2016                    16.24  \n",
       "4      8  2016                     3.56  \n",
       "5      8  2016                     4.13  \n",
       "\n",
       "[5 rows x 27 columns]"
      ]
     },
     "execution_count": 98,
     "metadata": {},
     "output_type": "execute_result"
    }
   ],
   "source": [
    "#creo nuova colonna con i profitti\n",
    "df['State profit per bottle'] = df['State Bottle Retail'] - df['State Bottle Cost']\n",
    "# df.head()\n"
   ]
  },
  {
   "cell_type": "code",
   "execution_count": 99,
   "metadata": {},
   "outputs": [
    {
     "data": {
      "text/html": [
       "<div>\n",
       "<style scoped>\n",
       "    .dataframe tbody tr th:only-of-type {\n",
       "        vertical-align: middle;\n",
       "    }\n",
       "\n",
       "    .dataframe tbody tr th {\n",
       "        vertical-align: top;\n",
       "    }\n",
       "\n",
       "    .dataframe thead th {\n",
       "        text-align: right;\n",
       "    }\n",
       "</style>\n",
       "<table border=\"1\" class=\"dataframe\">\n",
       "  <thead>\n",
       "    <tr style=\"text-align: right;\">\n",
       "      <th></th>\n",
       "      <th>Store Number</th>\n",
       "      <th>Zip Code</th>\n",
       "      <th>Sale (Dollars)</th>\n",
       "      <th>State Bottle Retail</th>\n",
       "      <th>State profit per bottle</th>\n",
       "      <th>Bottles Sold</th>\n",
       "      <th>Volume Sold (Liters)</th>\n",
       "    </tr>\n",
       "  </thead>\n",
       "  <tbody>\n",
       "    <tr>\n",
       "      <th>0</th>\n",
       "      <td>4256</td>\n",
       "      <td>51250</td>\n",
       "      <td>12.99</td>\n",
       "      <td>12.99</td>\n",
       "      <td>4.33</td>\n",
       "      <td>6</td>\n",
       "      <td>4.50</td>\n",
       "    </tr>\n",
       "    <tr>\n",
       "      <th>1</th>\n",
       "      <td>4588</td>\n",
       "      <td>51103</td>\n",
       "      <td>98.64</td>\n",
       "      <td>4.11</td>\n",
       "      <td>1.37</td>\n",
       "      <td>1</td>\n",
       "      <td>0.37</td>\n",
       "    </tr>\n",
       "    <tr>\n",
       "      <th>3</th>\n",
       "      <td>2605</td>\n",
       "      <td>52402</td>\n",
       "      <td>48.72</td>\n",
       "      <td>48.72</td>\n",
       "      <td>16.24</td>\n",
       "      <td>3</td>\n",
       "      <td>2.25</td>\n",
       "    </tr>\n",
       "    <tr>\n",
       "      <th>4</th>\n",
       "      <td>4967</td>\n",
       "      <td>52726</td>\n",
       "      <td>10.68</td>\n",
       "      <td>10.68</td>\n",
       "      <td>3.56</td>\n",
       "      <td>1</td>\n",
       "      <td>0.60</td>\n",
       "    </tr>\n",
       "    <tr>\n",
       "      <th>5</th>\n",
       "      <td>4829</td>\n",
       "      <td>50314</td>\n",
       "      <td>148.68</td>\n",
       "      <td>12.39</td>\n",
       "      <td>4.13</td>\n",
       "      <td>1</td>\n",
       "      <td>0.75</td>\n",
       "    </tr>\n",
       "  </tbody>\n",
       "</table>\n",
       "</div>"
      ],
      "text/plain": [
       "   Store Number Zip Code  Sale (Dollars)  State Bottle Retail  \\\n",
       "0          4256    51250           12.99                12.99   \n",
       "1          4588    51103           98.64                 4.11   \n",
       "3          2605    52402           48.72                48.72   \n",
       "4          4967    52726           10.68                10.68   \n",
       "5          4829    50314          148.68                12.39   \n",
       "\n",
       "   State profit per bottle  Bottles Sold  Volume Sold (Liters)  \n",
       "0                     4.33             6                  4.50  \n",
       "1                     1.37             1                  0.37  \n",
       "3                    16.24             3                  2.25  \n",
       "4                     3.56             1                  0.60  \n",
       "5                     4.13             1                  0.75  "
      ]
     },
     "execution_count": 99,
     "metadata": {},
     "output_type": "execute_result"
    }
   ],
   "source": [
    "#Realizzo dataframe per codici di avviamento postale (zip code)\n",
    "\n",
    "\n",
    "zcode_table = df[['Store Number', 'Zip Code', 'Sale (Dollars)', 'State Bottle Retail',\n",
    "                         'State profit per bottle', 'Bottles Sold', 'Volume Sold (Liters)',\n",
    "                        ]]\n",
    "zcode_table.head()"
   ]
  },
  {
   "cell_type": "markdown",
   "metadata": {},
   "source": [
    "**Costruzione dataframe da usare per il modello**"
   ]
  },
  {
   "cell_type": "code",
   "execution_count": 100,
   "metadata": {},
   "outputs": [],
   "source": [
    "sales_by_zip = zcode_table.groupby('Zip Code')['Sale (Dollars)'].sum().to_frame().sort_values('Sale (Dollars)', ascending=0)\n",
    "\n",
    "#resetto l'indice\n",
    "sales_by_zip['Zip Code'] = sales_by_zip.index"
   ]
  },
  {
   "cell_type": "code",
   "execution_count": 101,
   "metadata": {},
   "outputs": [],
   "source": [
    "# creao un indice di intervallo 0 - lunghezza del dataframe sales_by_zip\n",
    "sales_by_zip.index = range(0, len(sales_by_zip))"
   ]
  },
  {
   "cell_type": "code",
   "execution_count": 102,
   "metadata": {},
   "outputs": [
    {
     "name": "stdout",
     "output_type": "stream",
     "text": [
      "(482, 2)\n"
     ]
    },
    {
     "data": {
      "text/html": [
       "<div>\n",
       "<style scoped>\n",
       "    .dataframe tbody tr th:only-of-type {\n",
       "        vertical-align: middle;\n",
       "    }\n",
       "\n",
       "    .dataframe tbody tr th {\n",
       "        vertical-align: top;\n",
       "    }\n",
       "\n",
       "    .dataframe thead th {\n",
       "        text-align: right;\n",
       "    }\n",
       "</style>\n",
       "<table border=\"1\" class=\"dataframe\">\n",
       "  <thead>\n",
       "    <tr style=\"text-align: right;\">\n",
       "      <th></th>\n",
       "      <th>Sale (Dollars)</th>\n",
       "      <th>Zip Code</th>\n",
       "    </tr>\n",
       "  </thead>\n",
       "  <tbody>\n",
       "    <tr>\n",
       "      <th>0</th>\n",
       "      <td>9.944311e+07</td>\n",
       "      <td>50314</td>\n",
       "    </tr>\n",
       "    <tr>\n",
       "      <th>1</th>\n",
       "      <td>9.353735e+07</td>\n",
       "      <td>50320</td>\n",
       "    </tr>\n",
       "    <tr>\n",
       "      <th>2</th>\n",
       "      <td>8.023740e+07</td>\n",
       "      <td>52402</td>\n",
       "    </tr>\n",
       "    <tr>\n",
       "      <th>3</th>\n",
       "      <td>7.103721e+07</td>\n",
       "      <td>52240</td>\n",
       "    </tr>\n",
       "    <tr>\n",
       "      <th>4</th>\n",
       "      <td>6.203393e+07</td>\n",
       "      <td>50266</td>\n",
       "    </tr>\n",
       "  </tbody>\n",
       "</table>\n",
       "</div>"
      ],
      "text/plain": [
       "   Sale (Dollars) Zip Code\n",
       "0    9.944311e+07    50314\n",
       "1    9.353735e+07    50320\n",
       "2    8.023740e+07    52402\n",
       "3    7.103721e+07    52240\n",
       "4    6.203393e+07    50266"
      ]
     },
     "execution_count": 102,
     "metadata": {},
     "output_type": "execute_result"
    }
   ],
   "source": [
    "print(sales_by_zip.shape) #zip code in cui si è venuduto di più\n",
    "sales_by_zip.head()"
   ]
  },
  {
   "cell_type": "code",
   "execution_count": 103,
   "metadata": {},
   "outputs": [
    {
     "data": {
      "text/html": [
       "<div>\n",
       "<style scoped>\n",
       "    .dataframe tbody tr th:only-of-type {\n",
       "        vertical-align: middle;\n",
       "    }\n",
       "\n",
       "    .dataframe tbody tr th {\n",
       "        vertical-align: top;\n",
       "    }\n",
       "\n",
       "    .dataframe thead th {\n",
       "        text-align: right;\n",
       "    }\n",
       "</style>\n",
       "<table border=\"1\" class=\"dataframe\">\n",
       "  <thead>\n",
       "    <tr style=\"text-align: right;\">\n",
       "      <th></th>\n",
       "      <th>Volume Sold (Liters)</th>\n",
       "      <th>Zip Code</th>\n",
       "    </tr>\n",
       "  </thead>\n",
       "  <tbody>\n",
       "    <tr>\n",
       "      <th>0</th>\n",
       "      <td>28736.61</td>\n",
       "      <td>50002</td>\n",
       "    </tr>\n",
       "    <tr>\n",
       "      <th>1</th>\n",
       "      <td>267717.28</td>\n",
       "      <td>50003</td>\n",
       "    </tr>\n",
       "    <tr>\n",
       "      <th>2</th>\n",
       "      <td>6604.65</td>\n",
       "      <td>50005</td>\n",
       "    </tr>\n",
       "    <tr>\n",
       "      <th>3</th>\n",
       "      <td>61988.17</td>\n",
       "      <td>50006</td>\n",
       "    </tr>\n",
       "    <tr>\n",
       "      <th>4</th>\n",
       "      <td>499.53</td>\n",
       "      <td>50008</td>\n",
       "    </tr>\n",
       "  </tbody>\n",
       "</table>\n",
       "</div>"
      ],
      "text/plain": [
       "   Volume Sold (Liters) Zip Code\n",
       "0              28736.61    50002\n",
       "1             267717.28    50003\n",
       "2               6604.65    50005\n",
       "3              61988.17    50006\n",
       "4                499.53    50008"
      ]
     },
     "execution_count": 103,
     "metadata": {},
     "output_type": "execute_result"
    }
   ],
   "source": [
    "#formo un nuovo dataframe sul volume distribuito per zip code\n",
    "volume_by_zip = zcode_table.groupby('Zip Code')['Volume Sold (Liters)'].sum().to_frame()\n",
    "volume_by_zip['Zip Code'] = volume_by_zip.index\n",
    "volume_by_zip.index = range(0, len(volume_by_zip))\n",
    "volume_by_zip.head()"
   ]
  },
  {
   "cell_type": "code",
   "execution_count": 104,
   "metadata": {},
   "outputs": [
    {
     "data": {
      "text/html": [
       "<div>\n",
       "<style scoped>\n",
       "    .dataframe tbody tr th:only-of-type {\n",
       "        vertical-align: middle;\n",
       "    }\n",
       "\n",
       "    .dataframe tbody tr th {\n",
       "        vertical-align: top;\n",
       "    }\n",
       "\n",
       "    .dataframe thead th {\n",
       "        text-align: right;\n",
       "    }\n",
       "</style>\n",
       "<table border=\"1\" class=\"dataframe\">\n",
       "  <thead>\n",
       "    <tr style=\"text-align: right;\">\n",
       "      <th></th>\n",
       "      <th>State profit per bottle</th>\n",
       "      <th>Zip Code</th>\n",
       "    </tr>\n",
       "  </thead>\n",
       "  <tbody>\n",
       "    <tr>\n",
       "      <th>0</th>\n",
       "      <td>19388.56</td>\n",
       "      <td>50002</td>\n",
       "    </tr>\n",
       "    <tr>\n",
       "      <th>1</th>\n",
       "      <td>110359.09</td>\n",
       "      <td>50003</td>\n",
       "    </tr>\n",
       "    <tr>\n",
       "      <th>2</th>\n",
       "      <td>2846.46</td>\n",
       "      <td>50005</td>\n",
       "    </tr>\n",
       "    <tr>\n",
       "      <th>3</th>\n",
       "      <td>47808.26</td>\n",
       "      <td>50006</td>\n",
       "    </tr>\n",
       "    <tr>\n",
       "      <th>4</th>\n",
       "      <td>3710.10</td>\n",
       "      <td>50008</td>\n",
       "    </tr>\n",
       "  </tbody>\n",
       "</table>\n",
       "</div>"
      ],
      "text/plain": [
       "   State profit per bottle Zip Code\n",
       "0                 19388.56    50002\n",
       "1                110359.09    50003\n",
       "2                  2846.46    50005\n",
       "3                 47808.26    50006\n",
       "4                  3710.10    50008"
      ]
     },
     "execution_count": 104,
     "metadata": {},
     "output_type": "execute_result"
    }
   ],
   "source": [
    "# dataframe bottleprofit_per_zip\n",
    "bottleprofit_per_zip = zcode_table.groupby('Zip Code')['State profit per bottle'].sum().to_frame()\n",
    "bottleprofit_per_zip['Zip Code'] = bottleprofit_per_zip.index\n",
    "bottleprofit_per_zip.index = range(0, len(bottleprofit_per_zip))\n",
    "bottleprofit_per_zip.head()"
   ]
  },
  {
   "cell_type": "markdown",
   "metadata": {},
   "source": [
    "Formulando nuovamente i dataframe raggruppati per codice di avviamento postale, calcolo il numero di negozi all'interno di ogni codice di avviamento postale"
   ]
  },
  {
   "cell_type": "code",
   "execution_count": 105,
   "metadata": {},
   "outputs": [
    {
     "data": {
      "text/html": [
       "<div>\n",
       "<style scoped>\n",
       "    .dataframe tbody tr th:only-of-type {\n",
       "        vertical-align: middle;\n",
       "    }\n",
       "\n",
       "    .dataframe tbody tr th {\n",
       "        vertical-align: top;\n",
       "    }\n",
       "\n",
       "    .dataframe thead th {\n",
       "        text-align: right;\n",
       "    }\n",
       "</style>\n",
       "<table border=\"1\" class=\"dataframe\">\n",
       "  <thead>\n",
       "    <tr style=\"text-align: right;\">\n",
       "      <th></th>\n",
       "      <th>Store Number</th>\n",
       "      <th>Zip Code</th>\n",
       "    </tr>\n",
       "  </thead>\n",
       "  <tbody>\n",
       "    <tr>\n",
       "      <th>0</th>\n",
       "      <td>44</td>\n",
       "      <td>52402</td>\n",
       "    </tr>\n",
       "    <tr>\n",
       "      <th>1</th>\n",
       "      <td>40</td>\n",
       "      <td>52404</td>\n",
       "    </tr>\n",
       "    <tr>\n",
       "      <th>2</th>\n",
       "      <td>40</td>\n",
       "      <td>51501</td>\n",
       "    </tr>\n",
       "    <tr>\n",
       "      <th>3</th>\n",
       "      <td>35</td>\n",
       "      <td>52001</td>\n",
       "    </tr>\n",
       "    <tr>\n",
       "      <th>4</th>\n",
       "      <td>34</td>\n",
       "      <td>52240</td>\n",
       "    </tr>\n",
       "  </tbody>\n",
       "</table>\n",
       "</div>"
      ],
      "text/plain": [
       "   Store Number Zip Code\n",
       "0            44    52402\n",
       "1            40    52404\n",
       "2            40    51501\n",
       "3            35    52001\n",
       "4            34    52240"
      ]
     },
     "execution_count": 105,
     "metadata": {},
     "output_type": "execute_result"
    }
   ],
   "source": [
    "stores_by_zip = df.groupby('Zip Code')['Store Number'].nunique().to_frame().sort_values('Store Number', ascending=False)\n",
    "stores_by_zip['Zip Code'] = stores_by_zip.index\n",
    "stores_by_zip.index = range(0, len(stores_by_zip))\n",
    "stores_by_zip.head()"
   ]
  },
  {
   "cell_type": "code",
   "execution_count": 106,
   "metadata": {},
   "outputs": [
    {
     "data": {
      "text/html": [
       "<div>\n",
       "<style scoped>\n",
       "    .dataframe tbody tr th:only-of-type {\n",
       "        vertical-align: middle;\n",
       "    }\n",
       "\n",
       "    .dataframe tbody tr th {\n",
       "        vertical-align: top;\n",
       "    }\n",
       "\n",
       "    .dataframe thead th {\n",
       "        text-align: right;\n",
       "    }\n",
       "</style>\n",
       "<table border=\"1\" class=\"dataframe\">\n",
       "  <thead>\n",
       "    <tr style=\"text-align: right;\">\n",
       "      <th></th>\n",
       "      <th>Bottles Sold</th>\n",
       "      <th>Zip Code</th>\n",
       "    </tr>\n",
       "  </thead>\n",
       "  <tbody>\n",
       "    <tr>\n",
       "      <th>0</th>\n",
       "      <td>6366175</td>\n",
       "      <td>50314</td>\n",
       "    </tr>\n",
       "    <tr>\n",
       "      <th>1</th>\n",
       "      <td>6127576</td>\n",
       "      <td>52402</td>\n",
       "    </tr>\n",
       "    <tr>\n",
       "      <th>2</th>\n",
       "      <td>5948940</td>\n",
       "      <td>50320</td>\n",
       "    </tr>\n",
       "    <tr>\n",
       "      <th>3</th>\n",
       "      <td>5293369</td>\n",
       "      <td>52240</td>\n",
       "    </tr>\n",
       "    <tr>\n",
       "      <th>4</th>\n",
       "      <td>4526042</td>\n",
       "      <td>51501</td>\n",
       "    </tr>\n",
       "  </tbody>\n",
       "</table>\n",
       "</div>"
      ],
      "text/plain": [
       "   Bottles Sold Zip Code\n",
       "0       6366175    50314\n",
       "1       6127576    52402\n",
       "2       5948940    50320\n",
       "3       5293369    52240\n",
       "4       4526042    51501"
      ]
     },
     "execution_count": 106,
     "metadata": {},
     "output_type": "execute_result"
    }
   ],
   "source": [
    "bottles_by_zip = df.groupby('Zip Code')['Bottles Sold'].sum().to_frame().sort_values('Bottles Sold', ascending=False)\n",
    "bottles_by_zip['Zip Code'] = bottles_by_zip.index\n",
    "bottles_by_zip.index = range(0, len(stores_by_zip))\n",
    "bottles_by_zip.head()"
   ]
  },
  {
   "cell_type": "code",
   "execution_count": 107,
   "metadata": {},
   "outputs": [
    {
     "data": {
      "text/html": [
       "<div>\n",
       "<style scoped>\n",
       "    .dataframe tbody tr th:only-of-type {\n",
       "        vertical-align: middle;\n",
       "    }\n",
       "\n",
       "    .dataframe tbody tr th {\n",
       "        vertical-align: top;\n",
       "    }\n",
       "\n",
       "    .dataframe thead th {\n",
       "        text-align: right;\n",
       "    }\n",
       "</style>\n",
       "<table border=\"1\" class=\"dataframe\">\n",
       "  <thead>\n",
       "    <tr style=\"text-align: right;\">\n",
       "      <th></th>\n",
       "      <th>Number of Stores Per Zip</th>\n",
       "      <th>Zip Code</th>\n",
       "    </tr>\n",
       "  </thead>\n",
       "  <tbody>\n",
       "    <tr>\n",
       "      <th>0</th>\n",
       "      <td>44</td>\n",
       "      <td>52402</td>\n",
       "    </tr>\n",
       "    <tr>\n",
       "      <th>1</th>\n",
       "      <td>40</td>\n",
       "      <td>52404</td>\n",
       "    </tr>\n",
       "    <tr>\n",
       "      <th>2</th>\n",
       "      <td>40</td>\n",
       "      <td>51501</td>\n",
       "    </tr>\n",
       "    <tr>\n",
       "      <th>3</th>\n",
       "      <td>35</td>\n",
       "      <td>52001</td>\n",
       "    </tr>\n",
       "    <tr>\n",
       "      <th>4</th>\n",
       "      <td>34</td>\n",
       "      <td>52240</td>\n",
       "    </tr>\n",
       "  </tbody>\n",
       "</table>\n",
       "</div>"
      ],
      "text/plain": [
       "   Number of Stores Per Zip Zip Code\n",
       "0                        44    52402\n",
       "1                        40    52404\n",
       "2                        40    51501\n",
       "3                        35    52001\n",
       "4                        34    52240"
      ]
     },
     "execution_count": 107,
     "metadata": {},
     "output_type": "execute_result"
    }
   ],
   "source": [
    "#rinomino la colonna\n",
    "stores_by_zip.rename(columns={'Store Number' : 'Number of Stores Per Zip'}, inplace=True)\n",
    "stores_by_zip.head()"
   ]
  },
  {
   "cell_type": "markdown",
   "metadata": {},
   "source": [
    "Ora la fusione dei due dataframe, per mostrare il numero di negozi e il totale delle vendite per codice postale"
   ]
  },
  {
   "cell_type": "code",
   "execution_count": 108,
   "metadata": {},
   "outputs": [
    {
     "name": "stdout",
     "output_type": "stream",
     "text": [
      "(482, 3)\n"
     ]
    },
    {
     "data": {
      "text/html": [
       "<div>\n",
       "<style scoped>\n",
       "    .dataframe tbody tr th:only-of-type {\n",
       "        vertical-align: middle;\n",
       "    }\n",
       "\n",
       "    .dataframe tbody tr th {\n",
       "        vertical-align: top;\n",
       "    }\n",
       "\n",
       "    .dataframe thead th {\n",
       "        text-align: right;\n",
       "    }\n",
       "</style>\n",
       "<table border=\"1\" class=\"dataframe\">\n",
       "  <thead>\n",
       "    <tr style=\"text-align: right;\">\n",
       "      <th></th>\n",
       "      <th>Number of Stores Per Zip</th>\n",
       "      <th>Zip Code</th>\n",
       "      <th>Sale (Dollars)</th>\n",
       "    </tr>\n",
       "  </thead>\n",
       "  <tbody>\n",
       "    <tr>\n",
       "      <th>0</th>\n",
       "      <td>44</td>\n",
       "      <td>52402</td>\n",
       "      <td>8.023740e+07</td>\n",
       "    </tr>\n",
       "    <tr>\n",
       "      <th>1</th>\n",
       "      <td>40</td>\n",
       "      <td>52404</td>\n",
       "      <td>3.700606e+07</td>\n",
       "    </tr>\n",
       "    <tr>\n",
       "      <th>2</th>\n",
       "      <td>40</td>\n",
       "      <td>51501</td>\n",
       "      <td>5.640994e+07</td>\n",
       "    </tr>\n",
       "    <tr>\n",
       "      <th>3</th>\n",
       "      <td>35</td>\n",
       "      <td>52001</td>\n",
       "      <td>3.162945e+07</td>\n",
       "    </tr>\n",
       "    <tr>\n",
       "      <th>4</th>\n",
       "      <td>34</td>\n",
       "      <td>52240</td>\n",
       "      <td>7.103721e+07</td>\n",
       "    </tr>\n",
       "  </tbody>\n",
       "</table>\n",
       "</div>"
      ],
      "text/plain": [
       "   Number of Stores Per Zip Zip Code  Sale (Dollars)\n",
       "0                        44    52402    8.023740e+07\n",
       "1                        40    52404    3.700606e+07\n",
       "2                        40    51501    5.640994e+07\n",
       "3                        35    52001    3.162945e+07\n",
       "4                        34    52240    7.103721e+07"
      ]
     },
     "execution_count": 108,
     "metadata": {},
     "output_type": "execute_result"
    }
   ],
   "source": [
    "zip_frame = pd.merge(stores_by_zip, sales_by_zip, how='inner', on='Zip Code')\n",
    "print(zip_frame.shape)\n",
    "zip_frame.head()"
   ]
  },
  {
   "cell_type": "code",
   "execution_count": 109,
   "metadata": {},
   "outputs": [
    {
     "name": "stdout",
     "output_type": "stream",
     "text": [
      "(482, 4)\n"
     ]
    },
    {
     "data": {
      "text/html": [
       "<div>\n",
       "<style scoped>\n",
       "    .dataframe tbody tr th:only-of-type {\n",
       "        vertical-align: middle;\n",
       "    }\n",
       "\n",
       "    .dataframe tbody tr th {\n",
       "        vertical-align: top;\n",
       "    }\n",
       "\n",
       "    .dataframe thead th {\n",
       "        text-align: right;\n",
       "    }\n",
       "</style>\n",
       "<table border=\"1\" class=\"dataframe\">\n",
       "  <thead>\n",
       "    <tr style=\"text-align: right;\">\n",
       "      <th></th>\n",
       "      <th>Number of Stores Per Zip</th>\n",
       "      <th>Zip Code</th>\n",
       "      <th>Sale (Dollars)</th>\n",
       "      <th>Volume Sold (Liters)</th>\n",
       "    </tr>\n",
       "  </thead>\n",
       "  <tbody>\n",
       "    <tr>\n",
       "      <th>0</th>\n",
       "      <td>44</td>\n",
       "      <td>52402</td>\n",
       "      <td>8.023740e+07</td>\n",
       "      <td>5.490957e+06</td>\n",
       "    </tr>\n",
       "    <tr>\n",
       "      <th>1</th>\n",
       "      <td>40</td>\n",
       "      <td>52404</td>\n",
       "      <td>3.700606e+07</td>\n",
       "      <td>2.594591e+06</td>\n",
       "    </tr>\n",
       "    <tr>\n",
       "      <th>2</th>\n",
       "      <td>40</td>\n",
       "      <td>51501</td>\n",
       "      <td>5.640994e+07</td>\n",
       "      <td>3.583675e+06</td>\n",
       "    </tr>\n",
       "    <tr>\n",
       "      <th>3</th>\n",
       "      <td>35</td>\n",
       "      <td>52001</td>\n",
       "      <td>3.162945e+07</td>\n",
       "      <td>2.080240e+06</td>\n",
       "    </tr>\n",
       "    <tr>\n",
       "      <th>4</th>\n",
       "      <td>34</td>\n",
       "      <td>52240</td>\n",
       "      <td>7.103721e+07</td>\n",
       "      <td>4.500929e+06</td>\n",
       "    </tr>\n",
       "  </tbody>\n",
       "</table>\n",
       "</div>"
      ],
      "text/plain": [
       "   Number of Stores Per Zip Zip Code  Sale (Dollars)  Volume Sold (Liters)\n",
       "0                        44    52402    8.023740e+07          5.490957e+06\n",
       "1                        40    52404    3.700606e+07          2.594591e+06\n",
       "2                        40    51501    5.640994e+07          3.583675e+06\n",
       "3                        35    52001    3.162945e+07          2.080240e+06\n",
       "4                        34    52240    7.103721e+07          4.500929e+06"
      ]
     },
     "execution_count": 109,
     "metadata": {},
     "output_type": "execute_result"
    }
   ],
   "source": [
    "#faccio il merge anche con il volume dei litri\n",
    "zip_frame=pd.merge(zip_frame, volume_by_zip, how='inner', on='Zip Code')\n",
    "print(zip_frame.shape)\n",
    "zip_frame.head()"
   ]
  },
  {
   "cell_type": "code",
   "execution_count": 110,
   "metadata": {},
   "outputs": [
    {
     "name": "stdout",
     "output_type": "stream",
     "text": [
      "(482, 5)\n"
     ]
    },
    {
     "data": {
      "text/html": [
       "<div>\n",
       "<style scoped>\n",
       "    .dataframe tbody tr th:only-of-type {\n",
       "        vertical-align: middle;\n",
       "    }\n",
       "\n",
       "    .dataframe tbody tr th {\n",
       "        vertical-align: top;\n",
       "    }\n",
       "\n",
       "    .dataframe thead th {\n",
       "        text-align: right;\n",
       "    }\n",
       "</style>\n",
       "<table border=\"1\" class=\"dataframe\">\n",
       "  <thead>\n",
       "    <tr style=\"text-align: right;\">\n",
       "      <th></th>\n",
       "      <th>Number of Stores Per Zip</th>\n",
       "      <th>Zip Code</th>\n",
       "      <th>Sale (Dollars)</th>\n",
       "      <th>Volume Sold (Liters)</th>\n",
       "      <th>State profit per bottle</th>\n",
       "    </tr>\n",
       "  </thead>\n",
       "  <tbody>\n",
       "    <tr>\n",
       "      <th>0</th>\n",
       "      <td>44</td>\n",
       "      <td>52402</td>\n",
       "      <td>8.023740e+07</td>\n",
       "      <td>5.490957e+06</td>\n",
       "      <td>2.269103e+06</td>\n",
       "    </tr>\n",
       "    <tr>\n",
       "      <th>1</th>\n",
       "      <td>40</td>\n",
       "      <td>52404</td>\n",
       "      <td>3.700606e+07</td>\n",
       "      <td>2.594591e+06</td>\n",
       "      <td>1.433562e+06</td>\n",
       "    </tr>\n",
       "    <tr>\n",
       "      <th>2</th>\n",
       "      <td>40</td>\n",
       "      <td>51501</td>\n",
       "      <td>5.640994e+07</td>\n",
       "      <td>3.583675e+06</td>\n",
       "      <td>1.645319e+06</td>\n",
       "    </tr>\n",
       "    <tr>\n",
       "      <th>3</th>\n",
       "      <td>35</td>\n",
       "      <td>52001</td>\n",
       "      <td>3.162945e+07</td>\n",
       "      <td>2.080240e+06</td>\n",
       "      <td>1.263518e+06</td>\n",
       "    </tr>\n",
       "    <tr>\n",
       "      <th>4</th>\n",
       "      <td>34</td>\n",
       "      <td>52240</td>\n",
       "      <td>7.103721e+07</td>\n",
       "      <td>4.500929e+06</td>\n",
       "      <td>2.010534e+06</td>\n",
       "    </tr>\n",
       "  </tbody>\n",
       "</table>\n",
       "</div>"
      ],
      "text/plain": [
       "   Number of Stores Per Zip Zip Code  Sale (Dollars)  Volume Sold (Liters)  \\\n",
       "0                        44    52402    8.023740e+07          5.490957e+06   \n",
       "1                        40    52404    3.700606e+07          2.594591e+06   \n",
       "2                        40    51501    5.640994e+07          3.583675e+06   \n",
       "3                        35    52001    3.162945e+07          2.080240e+06   \n",
       "4                        34    52240    7.103721e+07          4.500929e+06   \n",
       "\n",
       "   State profit per bottle  \n",
       "0             2.269103e+06  \n",
       "1             1.433562e+06  \n",
       "2             1.645319e+06  \n",
       "3             1.263518e+06  \n",
       "4             2.010534e+06  "
      ]
     },
     "execution_count": 110,
     "metadata": {},
     "output_type": "execute_result"
    }
   ],
   "source": [
    "zip_frame = pd.merge(zip_frame, bottleprofit_per_zip, how='inner', on='Zip Code')\n",
    "print(zip_frame.shape)\n",
    "zip_frame.head()"
   ]
  },
  {
   "cell_type": "code",
   "execution_count": 111,
   "metadata": {},
   "outputs": [
    {
     "name": "stdout",
     "output_type": "stream",
     "text": [
      "(482, 6)\n"
     ]
    },
    {
     "data": {
      "text/html": [
       "<div>\n",
       "<style scoped>\n",
       "    .dataframe tbody tr th:only-of-type {\n",
       "        vertical-align: middle;\n",
       "    }\n",
       "\n",
       "    .dataframe tbody tr th {\n",
       "        vertical-align: top;\n",
       "    }\n",
       "\n",
       "    .dataframe thead th {\n",
       "        text-align: right;\n",
       "    }\n",
       "</style>\n",
       "<table border=\"1\" class=\"dataframe\">\n",
       "  <thead>\n",
       "    <tr style=\"text-align: right;\">\n",
       "      <th></th>\n",
       "      <th>Number of Stores Per Zip</th>\n",
       "      <th>Zip Code</th>\n",
       "      <th>Sale (Dollars)</th>\n",
       "      <th>Volume Sold (Liters)</th>\n",
       "      <th>State profit per bottle</th>\n",
       "      <th>Bottles Sold</th>\n",
       "    </tr>\n",
       "  </thead>\n",
       "  <tbody>\n",
       "    <tr>\n",
       "      <th>0</th>\n",
       "      <td>44</td>\n",
       "      <td>52402</td>\n",
       "      <td>8.023740e+07</td>\n",
       "      <td>5.490957e+06</td>\n",
       "      <td>2.269103e+06</td>\n",
       "      <td>6127576</td>\n",
       "    </tr>\n",
       "    <tr>\n",
       "      <th>1</th>\n",
       "      <td>40</td>\n",
       "      <td>52404</td>\n",
       "      <td>3.700606e+07</td>\n",
       "      <td>2.594591e+06</td>\n",
       "      <td>1.433562e+06</td>\n",
       "      <td>3345512</td>\n",
       "    </tr>\n",
       "    <tr>\n",
       "      <th>2</th>\n",
       "      <td>40</td>\n",
       "      <td>51501</td>\n",
       "      <td>5.640994e+07</td>\n",
       "      <td>3.583675e+06</td>\n",
       "      <td>1.645319e+06</td>\n",
       "      <td>4526042</td>\n",
       "    </tr>\n",
       "    <tr>\n",
       "      <th>3</th>\n",
       "      <td>35</td>\n",
       "      <td>52001</td>\n",
       "      <td>3.162945e+07</td>\n",
       "      <td>2.080240e+06</td>\n",
       "      <td>1.263518e+06</td>\n",
       "      <td>2578699</td>\n",
       "    </tr>\n",
       "    <tr>\n",
       "      <th>4</th>\n",
       "      <td>34</td>\n",
       "      <td>52240</td>\n",
       "      <td>7.103721e+07</td>\n",
       "      <td>4.500929e+06</td>\n",
       "      <td>2.010534e+06</td>\n",
       "      <td>5293369</td>\n",
       "    </tr>\n",
       "  </tbody>\n",
       "</table>\n",
       "</div>"
      ],
      "text/plain": [
       "   Number of Stores Per Zip Zip Code  Sale (Dollars)  Volume Sold (Liters)  \\\n",
       "0                        44    52402    8.023740e+07          5.490957e+06   \n",
       "1                        40    52404    3.700606e+07          2.594591e+06   \n",
       "2                        40    51501    5.640994e+07          3.583675e+06   \n",
       "3                        35    52001    3.162945e+07          2.080240e+06   \n",
       "4                        34    52240    7.103721e+07          4.500929e+06   \n",
       "\n",
       "   State profit per bottle  Bottles Sold  \n",
       "0             2.269103e+06       6127576  \n",
       "1             1.433562e+06       3345512  \n",
       "2             1.645319e+06       4526042  \n",
       "3             1.263518e+06       2578699  \n",
       "4             2.010534e+06       5293369  "
      ]
     },
     "execution_count": 111,
     "metadata": {},
     "output_type": "execute_result"
    }
   ],
   "source": [
    "zip_frame = pd.merge(zip_frame, bottles_by_zip, how='inner', on='Zip Code')\n",
    "print(zip_frame.shape)\n",
    "zip_frame.head()"
   ]
  },
  {
   "cell_type": "code",
   "execution_count": 112,
   "metadata": {},
   "outputs": [
    {
     "data": {
      "text/html": [
       "<div>\n",
       "<style scoped>\n",
       "    .dataframe tbody tr th:only-of-type {\n",
       "        vertical-align: middle;\n",
       "    }\n",
       "\n",
       "    .dataframe tbody tr th {\n",
       "        vertical-align: top;\n",
       "    }\n",
       "\n",
       "    .dataframe thead th {\n",
       "        text-align: right;\n",
       "    }\n",
       "</style>\n",
       "<table border=\"1\" class=\"dataframe\">\n",
       "  <thead>\n",
       "    <tr style=\"text-align: right;\">\n",
       "      <th></th>\n",
       "      <th>Number of Stores Per Zip</th>\n",
       "      <th>Zip Code</th>\n",
       "      <th>Sale (Dollars)</th>\n",
       "      <th>Volume Sold (Liters)</th>\n",
       "      <th>State profit per bottle</th>\n",
       "      <th>Bottles Sold</th>\n",
       "      <th>Sales Per Store</th>\n",
       "    </tr>\n",
       "  </thead>\n",
       "  <tbody>\n",
       "    <tr>\n",
       "      <th>0</th>\n",
       "      <td>44</td>\n",
       "      <td>52402</td>\n",
       "      <td>8.023740e+07</td>\n",
       "      <td>5.490957e+06</td>\n",
       "      <td>2.269103e+06</td>\n",
       "      <td>6127576</td>\n",
       "      <td>1.823577e+06</td>\n",
       "    </tr>\n",
       "    <tr>\n",
       "      <th>1</th>\n",
       "      <td>40</td>\n",
       "      <td>52404</td>\n",
       "      <td>3.700606e+07</td>\n",
       "      <td>2.594591e+06</td>\n",
       "      <td>1.433562e+06</td>\n",
       "      <td>3345512</td>\n",
       "      <td>9.251516e+05</td>\n",
       "    </tr>\n",
       "    <tr>\n",
       "      <th>2</th>\n",
       "      <td>40</td>\n",
       "      <td>51501</td>\n",
       "      <td>5.640994e+07</td>\n",
       "      <td>3.583675e+06</td>\n",
       "      <td>1.645319e+06</td>\n",
       "      <td>4526042</td>\n",
       "      <td>1.410249e+06</td>\n",
       "    </tr>\n",
       "    <tr>\n",
       "      <th>3</th>\n",
       "      <td>35</td>\n",
       "      <td>52001</td>\n",
       "      <td>3.162945e+07</td>\n",
       "      <td>2.080240e+06</td>\n",
       "      <td>1.263518e+06</td>\n",
       "      <td>2578699</td>\n",
       "      <td>9.036984e+05</td>\n",
       "    </tr>\n",
       "    <tr>\n",
       "      <th>4</th>\n",
       "      <td>34</td>\n",
       "      <td>52240</td>\n",
       "      <td>7.103721e+07</td>\n",
       "      <td>4.500929e+06</td>\n",
       "      <td>2.010534e+06</td>\n",
       "      <td>5293369</td>\n",
       "      <td>2.089330e+06</td>\n",
       "    </tr>\n",
       "  </tbody>\n",
       "</table>\n",
       "</div>"
      ],
      "text/plain": [
       "   Number of Stores Per Zip Zip Code  Sale (Dollars)  Volume Sold (Liters)  \\\n",
       "0                        44    52402    8.023740e+07          5.490957e+06   \n",
       "1                        40    52404    3.700606e+07          2.594591e+06   \n",
       "2                        40    51501    5.640994e+07          3.583675e+06   \n",
       "3                        35    52001    3.162945e+07          2.080240e+06   \n",
       "4                        34    52240    7.103721e+07          4.500929e+06   \n",
       "\n",
       "   State profit per bottle  Bottles Sold  Sales Per Store  \n",
       "0             2.269103e+06       6127576     1.823577e+06  \n",
       "1             1.433562e+06       3345512     9.251516e+05  \n",
       "2             1.645319e+06       4526042     1.410249e+06  \n",
       "3             1.263518e+06       2578699     9.036984e+05  \n",
       "4             2.010534e+06       5293369     2.089330e+06  "
      ]
     },
     "execution_count": 112,
     "metadata": {},
     "output_type": "execute_result"
    }
   ],
   "source": [
    "# Feature Engineering per calcolare le vendite per negozio\n",
    "\n",
    "zip_frame['Sales Per Store'] = zip_frame['Sale (Dollars)'] / zip_frame['Number of Stores Per Zip']\n",
    "zip_frame.head()\n"
   ]
  },
  {
   "cell_type": "code",
   "execution_count": 113,
   "metadata": {},
   "outputs": [],
   "source": [
    "zip_frame_fusion=zip_frame\n",
    "\n",
    "# zip_frame_fusion.head()\n"
   ]
  },
  {
   "cell_type": "code",
   "execution_count": 114,
   "metadata": {},
   "outputs": [
    {
     "data": {
      "text/plain": [
       "<matplotlib.axes._subplots.AxesSubplot at 0x26e1daf0508>"
      ]
     },
     "execution_count": 114,
     "metadata": {},
     "output_type": "execute_result"
    },
    {
     "data": {
      "image/png": "[encoded data removed]",
      "text/plain": [
       "<Figure size 576x396 with 2 Axes>"
      ]
     },
     "metadata": {},
     "output_type": "display_data"
    }
   ],
   "source": [
    "#creo al mappa di calore per capire i valori più correlati\n",
    "sns.heatmap(zip_frame_fusion.corr(), annot = True, linewidths = 0.5)"
   ]
  },
  {
   "cell_type": "markdown",
   "metadata": {},
   "source": [
    "Possiamo vedere, dalla mappa di calore appena costruita, come ci sia una forte correlazione delle bottiglie vendute, del volume venduto , delle vendite per negozio con le vendite e con il numero di negozi per zip (la nostra variabile di interesse, che vogliamo predire).\n",
    "\n",
    "Vediamo invece, che le vendite per negozio non dipendano molto dal numero di negozi per codice postale,mentre le vendite totali sono molto correlate al numero di negozi raggruppati per zip code."
   ]
  },
  {
   "cell_type": "code",
   "execution_count": 32,
   "metadata": {},
   "outputs": [
    {
     "data": {
      "text/html": [
       "<div>\n",
       "<style scoped>\n",
       "    .dataframe tbody tr th:only-of-type {\n",
       "        vertical-align: middle;\n",
       "    }\n",
       "\n",
       "    .dataframe tbody tr th {\n",
       "        vertical-align: top;\n",
       "    }\n",
       "\n",
       "    .dataframe thead th {\n",
       "        text-align: right;\n",
       "    }\n",
       "</style>\n",
       "<table border=\"1\" class=\"dataframe\">\n",
       "  <thead>\n",
       "    <tr style=\"text-align: right;\">\n",
       "      <th></th>\n",
       "      <th>Number of Stores Per Zip</th>\n",
       "      <th>Zip Code</th>\n",
       "      <th>Sale (Dollars)</th>\n",
       "      <th>Volume Sold (Liters)</th>\n",
       "      <th>State profit per bottle</th>\n",
       "      <th>Bottles Sold</th>\n",
       "      <th>Sales Per Store</th>\n",
       "    </tr>\n",
       "  </thead>\n",
       "  <tbody>\n",
       "    <tr>\n",
       "      <th>0</th>\n",
       "      <td>44</td>\n",
       "      <td>52402</td>\n",
       "      <td>8.023740e+07</td>\n",
       "      <td>5.490957e+06</td>\n",
       "      <td>2.269103e+06</td>\n",
       "      <td>6127576</td>\n",
       "      <td>1.823577e+06</td>\n",
       "    </tr>\n",
       "    <tr>\n",
       "      <th>1</th>\n",
       "      <td>40</td>\n",
       "      <td>52404</td>\n",
       "      <td>3.700606e+07</td>\n",
       "      <td>2.594591e+06</td>\n",
       "      <td>1.433562e+06</td>\n",
       "      <td>3345512</td>\n",
       "      <td>9.251516e+05</td>\n",
       "    </tr>\n",
       "    <tr>\n",
       "      <th>2</th>\n",
       "      <td>40</td>\n",
       "      <td>51501</td>\n",
       "      <td>5.640994e+07</td>\n",
       "      <td>3.583675e+06</td>\n",
       "      <td>1.645319e+06</td>\n",
       "      <td>4526042</td>\n",
       "      <td>1.410249e+06</td>\n",
       "    </tr>\n",
       "    <tr>\n",
       "      <th>3</th>\n",
       "      <td>35</td>\n",
       "      <td>52001</td>\n",
       "      <td>3.162945e+07</td>\n",
       "      <td>2.080240e+06</td>\n",
       "      <td>1.263518e+06</td>\n",
       "      <td>2578699</td>\n",
       "      <td>9.036984e+05</td>\n",
       "    </tr>\n",
       "    <tr>\n",
       "      <th>4</th>\n",
       "      <td>34</td>\n",
       "      <td>52240</td>\n",
       "      <td>7.103721e+07</td>\n",
       "      <td>4.500929e+06</td>\n",
       "      <td>2.010534e+06</td>\n",
       "      <td>5293369</td>\n",
       "      <td>2.089330e+06</td>\n",
       "    </tr>\n",
       "  </tbody>\n",
       "</table>\n",
       "</div>"
      ],
      "text/plain": [
       "   Number of Stores Per Zip Zip Code  Sale (Dollars)  Volume Sold (Liters)  \\\n",
       "0                        44    52402    8.023740e+07          5.490957e+06   \n",
       "1                        40    52404    3.700606e+07          2.594591e+06   \n",
       "2                        40    51501    5.640994e+07          3.583675e+06   \n",
       "3                        35    52001    3.162945e+07          2.080240e+06   \n",
       "4                        34    52240    7.103721e+07          4.500929e+06   \n",
       "\n",
       "   State profit per bottle  Bottles Sold  Sales Per Store  \n",
       "0             2.269103e+06       6127576     1.823577e+06  \n",
       "1             1.433562e+06       3345512     9.251516e+05  \n",
       "2             1.645319e+06       4526042     1.410249e+06  \n",
       "3             1.263518e+06       2578699     9.036984e+05  \n",
       "4             2.010534e+06       5293369     2.089330e+06  "
      ]
     },
     "execution_count": 32,
     "metadata": {},
     "output_type": "execute_result"
    }
   ],
   "source": [
    "zip_frame.head()"
   ]
  },
  {
   "cell_type": "code",
   "execution_count": 115,
   "metadata": {},
   "outputs": [
    {
     "data": {
      "text/html": [
       "<div>\n",
       "<style scoped>\n",
       "    .dataframe tbody tr th:only-of-type {\n",
       "        vertical-align: middle;\n",
       "    }\n",
       "\n",
       "    .dataframe tbody tr th {\n",
       "        vertical-align: top;\n",
       "    }\n",
       "\n",
       "    .dataframe thead th {\n",
       "        text-align: right;\n",
       "    }\n",
       "</style>\n",
       "<table border=\"1\" class=\"dataframe\">\n",
       "  <thead>\n",
       "    <tr style=\"text-align: right;\">\n",
       "      <th></th>\n",
       "      <th>Number of Stores Per Zip</th>\n",
       "      <th>Zip Code</th>\n",
       "      <th>Total Sales ($)</th>\n",
       "      <th>Volume Sold (Liters)</th>\n",
       "      <th>State profit per bottle</th>\n",
       "      <th>Bottles Sold</th>\n",
       "      <th>Sales Per Store</th>\n",
       "    </tr>\n",
       "  </thead>\n",
       "  <tbody>\n",
       "    <tr>\n",
       "      <th>0</th>\n",
       "      <td>44</td>\n",
       "      <td>52402</td>\n",
       "      <td>8.023740e+07</td>\n",
       "      <td>5.490957e+06</td>\n",
       "      <td>2.269103e+06</td>\n",
       "      <td>6127576</td>\n",
       "      <td>1.823577e+06</td>\n",
       "    </tr>\n",
       "    <tr>\n",
       "      <th>1</th>\n",
       "      <td>40</td>\n",
       "      <td>52404</td>\n",
       "      <td>3.700606e+07</td>\n",
       "      <td>2.594591e+06</td>\n",
       "      <td>1.433562e+06</td>\n",
       "      <td>3345512</td>\n",
       "      <td>9.251516e+05</td>\n",
       "    </tr>\n",
       "    <tr>\n",
       "      <th>2</th>\n",
       "      <td>40</td>\n",
       "      <td>51501</td>\n",
       "      <td>5.640994e+07</td>\n",
       "      <td>3.583675e+06</td>\n",
       "      <td>1.645319e+06</td>\n",
       "      <td>4526042</td>\n",
       "      <td>1.410249e+06</td>\n",
       "    </tr>\n",
       "    <tr>\n",
       "      <th>3</th>\n",
       "      <td>35</td>\n",
       "      <td>52001</td>\n",
       "      <td>3.162945e+07</td>\n",
       "      <td>2.080240e+06</td>\n",
       "      <td>1.263518e+06</td>\n",
       "      <td>2578699</td>\n",
       "      <td>9.036984e+05</td>\n",
       "    </tr>\n",
       "    <tr>\n",
       "      <th>4</th>\n",
       "      <td>34</td>\n",
       "      <td>52240</td>\n",
       "      <td>7.103721e+07</td>\n",
       "      <td>4.500929e+06</td>\n",
       "      <td>2.010534e+06</td>\n",
       "      <td>5293369</td>\n",
       "      <td>2.089330e+06</td>\n",
       "    </tr>\n",
       "  </tbody>\n",
       "</table>\n",
       "</div>"
      ],
      "text/plain": [
       "   Number of Stores Per Zip Zip Code  Total Sales ($)  Volume Sold (Liters)  \\\n",
       "0                        44    52402     8.023740e+07          5.490957e+06   \n",
       "1                        40    52404     3.700606e+07          2.594591e+06   \n",
       "2                        40    51501     5.640994e+07          3.583675e+06   \n",
       "3                        35    52001     3.162945e+07          2.080240e+06   \n",
       "4                        34    52240     7.103721e+07          4.500929e+06   \n",
       "\n",
       "   State profit per bottle  Bottles Sold  Sales Per Store  \n",
       "0             2.269103e+06       6127576     1.823577e+06  \n",
       "1             1.433562e+06       3345512     9.251516e+05  \n",
       "2             1.645319e+06       4526042     1.410249e+06  \n",
       "3             1.263518e+06       2578699     9.036984e+05  \n",
       "4             2.010534e+06       5293369     2.089330e+06  "
      ]
     },
     "execution_count": 115,
     "metadata": {},
     "output_type": "execute_result"
    }
   ],
   "source": [
    "#rinomino la colonna vendite come vendite totali\n",
    "\n",
    "zip_frame.rename(columns={'Sale (Dollars)' : 'Total Sales ($)'}, inplace=True)\n",
    "zip_frame.head()"
   ]
  },
  {
   "cell_type": "code",
   "execution_count": 116,
   "metadata": {},
   "outputs": [
    {
     "data": {
      "text/html": [
       "<div>\n",
       "<style scoped>\n",
       "    .dataframe tbody tr th:only-of-type {\n",
       "        vertical-align: middle;\n",
       "    }\n",
       "\n",
       "    .dataframe tbody tr th {\n",
       "        vertical-align: top;\n",
       "    }\n",
       "\n",
       "    .dataframe thead th {\n",
       "        text-align: right;\n",
       "    }\n",
       "</style>\n",
       "<table border=\"1\" class=\"dataframe\">\n",
       "  <thead>\n",
       "    <tr style=\"text-align: right;\">\n",
       "      <th></th>\n",
       "      <th>Number of Stores Per Zip</th>\n",
       "      <th>Zip Code</th>\n",
       "      <th>Total Sales ($)</th>\n",
       "      <th>Volume Sold (Liters)</th>\n",
       "      <th>State profit per bottle</th>\n",
       "      <th>Bottles Sold</th>\n",
       "      <th>Sales Per Store</th>\n",
       "    </tr>\n",
       "  </thead>\n",
       "  <tbody>\n",
       "    <tr>\n",
       "      <th>46</th>\n",
       "      <td>11</td>\n",
       "      <td>50314</td>\n",
       "      <td>9.944311e+07</td>\n",
       "      <td>5.434182e+06</td>\n",
       "      <td>1.969332e+06</td>\n",
       "      <td>6366175</td>\n",
       "      <td>9.040283e+06</td>\n",
       "    </tr>\n",
       "    <tr>\n",
       "      <th>56</th>\n",
       "      <td>10</td>\n",
       "      <td>50320</td>\n",
       "      <td>9.353735e+07</td>\n",
       "      <td>5.487639e+06</td>\n",
       "      <td>1.323686e+06</td>\n",
       "      <td>5948940</td>\n",
       "      <td>9.353735e+06</td>\n",
       "    </tr>\n",
       "    <tr>\n",
       "      <th>0</th>\n",
       "      <td>44</td>\n",
       "      <td>52402</td>\n",
       "      <td>8.023740e+07</td>\n",
       "      <td>5.490957e+06</td>\n",
       "      <td>2.269103e+06</td>\n",
       "      <td>6127576</td>\n",
       "      <td>1.823577e+06</td>\n",
       "    </tr>\n",
       "    <tr>\n",
       "      <th>4</th>\n",
       "      <td>34</td>\n",
       "      <td>52240</td>\n",
       "      <td>7.103721e+07</td>\n",
       "      <td>4.500929e+06</td>\n",
       "      <td>2.010534e+06</td>\n",
       "      <td>5293369</td>\n",
       "      <td>2.089330e+06</td>\n",
       "    </tr>\n",
       "    <tr>\n",
       "      <th>16</th>\n",
       "      <td>23</td>\n",
       "      <td>50266</td>\n",
       "      <td>6.203393e+07</td>\n",
       "      <td>3.729647e+06</td>\n",
       "      <td>1.281872e+06</td>\n",
       "      <td>3434673</td>\n",
       "      <td>2.697127e+06</td>\n",
       "    </tr>\n",
       "    <tr>\n",
       "      <th>...</th>\n",
       "      <td>...</td>\n",
       "      <td>...</td>\n",
       "      <td>...</td>\n",
       "      <td>...</td>\n",
       "      <td>...</td>\n",
       "      <td>...</td>\n",
       "      <td>...</td>\n",
       "    </tr>\n",
       "    <tr>\n",
       "      <th>343</th>\n",
       "      <td>1</td>\n",
       "      <td>52362</td>\n",
       "      <td>1.577468e+04</td>\n",
       "      <td>8.822000e+02</td>\n",
       "      <td>5.275200e+02</td>\n",
       "      <td>1501</td>\n",
       "      <td>1.577468e+04</td>\n",
       "    </tr>\n",
       "    <tr>\n",
       "      <th>384</th>\n",
       "      <td>1</td>\n",
       "      <td>50471</td>\n",
       "      <td>1.503638e+04</td>\n",
       "      <td>1.018300e+03</td>\n",
       "      <td>7.619100e+02</td>\n",
       "      <td>1115</td>\n",
       "      <td>1.503638e+04</td>\n",
       "    </tr>\n",
       "    <tr>\n",
       "      <th>445</th>\n",
       "      <td>1</td>\n",
       "      <td>52134</td>\n",
       "      <td>1.497666e+04</td>\n",
       "      <td>1.165500e+03</td>\n",
       "      <td>8.712200e+02</td>\n",
       "      <td>1083</td>\n",
       "      <td>1.497666e+04</td>\n",
       "    </tr>\n",
       "    <tr>\n",
       "      <th>423</th>\n",
       "      <td>1</td>\n",
       "      <td>50174</td>\n",
       "      <td>7.864610e+03</td>\n",
       "      <td>5.846700e+02</td>\n",
       "      <td>8.370700e+02</td>\n",
       "      <td>747</td>\n",
       "      <td>7.864610e+03</td>\n",
       "    </tr>\n",
       "    <tr>\n",
       "      <th>471</th>\n",
       "      <td>1</td>\n",
       "      <td>51230</td>\n",
       "      <td>7.659100e+02</td>\n",
       "      <td>6.750000e+01</td>\n",
       "      <td>4.236000e+01</td>\n",
       "      <td>60</td>\n",
       "      <td>7.659100e+02</td>\n",
       "    </tr>\n",
       "  </tbody>\n",
       "</table>\n",
       "<p>482 rows × 7 columns</p>\n",
       "</div>"
      ],
      "text/plain": [
       "     Number of Stores Per Zip Zip Code  Total Sales ($)  Volume Sold (Liters)  \\\n",
       "46                         11    50314     9.944311e+07          5.434182e+06   \n",
       "56                         10    50320     9.353735e+07          5.487639e+06   \n",
       "0                          44    52402     8.023740e+07          5.490957e+06   \n",
       "4                          34    52240     7.103721e+07          4.500929e+06   \n",
       "16                         23    50266     6.203393e+07          3.729647e+06   \n",
       "..                        ...      ...              ...                   ...   \n",
       "343                         1    52362     1.577468e+04          8.822000e+02   \n",
       "384                         1    50471     1.503638e+04          1.018300e+03   \n",
       "445                         1    52134     1.497666e+04          1.165500e+03   \n",
       "423                         1    50174     7.864610e+03          5.846700e+02   \n",
       "471                         1    51230     7.659100e+02          6.750000e+01   \n",
       "\n",
       "     State profit per bottle  Bottles Sold  Sales Per Store  \n",
       "46              1.969332e+06       6366175     9.040283e+06  \n",
       "56              1.323686e+06       5948940     9.353735e+06  \n",
       "0               2.269103e+06       6127576     1.823577e+06  \n",
       "4               2.010534e+06       5293369     2.089330e+06  \n",
       "16              1.281872e+06       3434673     2.697127e+06  \n",
       "..                       ...           ...              ...  \n",
       "343             5.275200e+02          1501     1.577468e+04  \n",
       "384             7.619100e+02          1115     1.503638e+04  \n",
       "445             8.712200e+02          1083     1.497666e+04  \n",
       "423             8.370700e+02           747     7.864610e+03  \n",
       "471             4.236000e+01            60     7.659100e+02  \n",
       "\n",
       "[482 rows x 7 columns]"
      ]
     },
     "execution_count": 116,
     "metadata": {},
     "output_type": "execute_result"
    }
   ],
   "source": [
    "# Re-forming the dataframe to only inlcude the top 100 selling zip codes.\n",
    "\n",
    "zip_frame = zip_frame.sort_values('Total Sales ($)', ascending=0)\n",
    "zip_frame\n"
   ]
  },
  {
   "cell_type": "code",
   "execution_count": 117,
   "metadata": {
    "scrolled": true
   },
   "outputs": [
    {
     "data": {
      "text/html": [
       "<div>\n",
       "<style scoped>\n",
       "    .dataframe tbody tr th:only-of-type {\n",
       "        vertical-align: middle;\n",
       "    }\n",
       "\n",
       "    .dataframe tbody tr th {\n",
       "        vertical-align: top;\n",
       "    }\n",
       "\n",
       "    .dataframe thead th {\n",
       "        text-align: right;\n",
       "    }\n",
       "</style>\n",
       "<table border=\"1\" class=\"dataframe\">\n",
       "  <thead>\n",
       "    <tr style=\"text-align: right;\">\n",
       "      <th></th>\n",
       "      <th>Number of Stores Per Zip</th>\n",
       "      <th>Zip Code</th>\n",
       "      <th>Total Sales ($)</th>\n",
       "      <th>Volume Sold (Liters)</th>\n",
       "      <th>State profit per bottle</th>\n",
       "      <th>Bottles Sold</th>\n",
       "      <th>Sales Per Store</th>\n",
       "    </tr>\n",
       "  </thead>\n",
       "  <tbody>\n",
       "    <tr>\n",
       "      <th>285</th>\n",
       "      <td>2</td>\n",
       "      <td>50002</td>\n",
       "      <td>449675.92</td>\n",
       "      <td>28736.61</td>\n",
       "      <td>19388.56</td>\n",
       "      <td>40840</td>\n",
       "      <td>224837.960</td>\n",
       "    </tr>\n",
       "    <tr>\n",
       "      <th>130</th>\n",
       "      <td>5</td>\n",
       "      <td>50003</td>\n",
       "      <td>3656359.52</td>\n",
       "      <td>267717.28</td>\n",
       "      <td>110359.09</td>\n",
       "      <td>277885</td>\n",
       "      <td>731271.904</td>\n",
       "    </tr>\n",
       "    <tr>\n",
       "      <th>400</th>\n",
       "      <td>1</td>\n",
       "      <td>50005</td>\n",
       "      <td>92768.26</td>\n",
       "      <td>6604.65</td>\n",
       "      <td>2846.46</td>\n",
       "      <td>9742</td>\n",
       "      <td>92768.260</td>\n",
       "    </tr>\n",
       "    <tr>\n",
       "      <th>252</th>\n",
       "      <td>2</td>\n",
       "      <td>50006</td>\n",
       "      <td>801509.97</td>\n",
       "      <td>61988.17</td>\n",
       "      <td>47808.26</td>\n",
       "      <td>56146</td>\n",
       "      <td>400754.985</td>\n",
       "    </tr>\n",
       "    <tr>\n",
       "      <th>401</th>\n",
       "      <td>1</td>\n",
       "      <td>50008</td>\n",
       "      <td>24329.59</td>\n",
       "      <td>499.53</td>\n",
       "      <td>3710.10</td>\n",
       "      <td>655</td>\n",
       "      <td>24329.590</td>\n",
       "    </tr>\n",
       "  </tbody>\n",
       "</table>\n",
       "</div>"
      ],
      "text/plain": [
       "     Number of Stores Per Zip Zip Code  Total Sales ($)  Volume Sold (Liters)  \\\n",
       "285                         2    50002        449675.92              28736.61   \n",
       "130                         5    50003       3656359.52             267717.28   \n",
       "400                         1    50005         92768.26               6604.65   \n",
       "252                         2    50006        801509.97              61988.17   \n",
       "401                         1    50008         24329.59                499.53   \n",
       "\n",
       "     State profit per bottle  Bottles Sold  Sales Per Store  \n",
       "285                 19388.56         40840       224837.960  \n",
       "130                110359.09        277885       731271.904  \n",
       "400                  2846.46          9742        92768.260  \n",
       "252                 47808.26         56146       400754.985  \n",
       "401                  3710.10           655        24329.590  "
      ]
     },
     "execution_count": 117,
     "metadata": {},
     "output_type": "execute_result"
    }
   ],
   "source": [
    "zip_frame.sort_values('Zip Code', ascending=True).head()"
   ]
  },
  {
   "cell_type": "code",
   "execution_count": 118,
   "metadata": {},
   "outputs": [
    {
     "data": {
      "text/html": [
       "<div>\n",
       "<style scoped>\n",
       "    .dataframe tbody tr th:only-of-type {\n",
       "        vertical-align: middle;\n",
       "    }\n",
       "\n",
       "    .dataframe tbody tr th {\n",
       "        vertical-align: top;\n",
       "    }\n",
       "\n",
       "    .dataframe thead th {\n",
       "        text-align: right;\n",
       "    }\n",
       "</style>\n",
       "<table border=\"1\" class=\"dataframe\">\n",
       "  <thead>\n",
       "    <tr style=\"text-align: right;\">\n",
       "      <th></th>\n",
       "      <th>Number of Stores Per Zip</th>\n",
       "      <th>Zip Code</th>\n",
       "      <th>Total Sales ($)</th>\n",
       "      <th>Volume Sold (Liters)</th>\n",
       "      <th>State profit per bottle</th>\n",
       "      <th>Bottles Sold</th>\n",
       "      <th>Sales Per Store</th>\n",
       "    </tr>\n",
       "  </thead>\n",
       "  <tbody>\n",
       "    <tr>\n",
       "      <th>471</th>\n",
       "      <td>1</td>\n",
       "      <td>51230</td>\n",
       "      <td>765.91</td>\n",
       "      <td>67.50</td>\n",
       "      <td>42.36</td>\n",
       "      <td>60</td>\n",
       "      <td>765.91</td>\n",
       "    </tr>\n",
       "    <tr>\n",
       "      <th>410</th>\n",
       "      <td>1</td>\n",
       "      <td>50107</td>\n",
       "      <td>199586.10</td>\n",
       "      <td>14667.99</td>\n",
       "      <td>6771.52</td>\n",
       "      <td>21583</td>\n",
       "      <td>199586.10</td>\n",
       "    </tr>\n",
       "    <tr>\n",
       "      <th>406</th>\n",
       "      <td>1</td>\n",
       "      <td>50071</td>\n",
       "      <td>205026.28</td>\n",
       "      <td>16846.25</td>\n",
       "      <td>5374.84</td>\n",
       "      <td>19771</td>\n",
       "      <td>205026.28</td>\n",
       "    </tr>\n",
       "    <tr>\n",
       "      <th>388</th>\n",
       "      <td>1</td>\n",
       "      <td>50535</td>\n",
       "      <td>209982.81</td>\n",
       "      <td>14959.12</td>\n",
       "      <td>7313.70</td>\n",
       "      <td>20075</td>\n",
       "      <td>209982.81</td>\n",
       "    </tr>\n",
       "    <tr>\n",
       "      <th>360</th>\n",
       "      <td>1</td>\n",
       "      <td>52352</td>\n",
       "      <td>210335.96</td>\n",
       "      <td>16443.22</td>\n",
       "      <td>6242.01</td>\n",
       "      <td>20084</td>\n",
       "      <td>210335.96</td>\n",
       "    </tr>\n",
       "  </tbody>\n",
       "</table>\n",
       "</div>"
      ],
      "text/plain": [
       "     Number of Stores Per Zip Zip Code  Total Sales ($)  Volume Sold (Liters)  \\\n",
       "471                         1    51230           765.91                 67.50   \n",
       "410                         1    50107        199586.10              14667.99   \n",
       "406                         1    50071        205026.28              16846.25   \n",
       "388                         1    50535        209982.81              14959.12   \n",
       "360                         1    52352        210335.96              16443.22   \n",
       "\n",
       "     State profit per bottle  Bottles Sold  Sales Per Store  \n",
       "471                    42.36            60           765.91  \n",
       "410                  6771.52         21583        199586.10  \n",
       "406                  5374.84         19771        205026.28  \n",
       "388                  7313.70         20075        209982.81  \n",
       "360                  6242.01         20084        210335.96  "
      ]
     },
     "execution_count": 118,
     "metadata": {},
     "output_type": "execute_result"
    }
   ],
   "source": [
    "zip_frame.sort_values('Number of Stores Per Zip', ascending=True).head()"
   ]
  },
  {
   "cell_type": "markdown",
   "metadata": {},
   "source": [
    "\n",
    "Ora si passa alla realizzazione del modello per la predizione del miglior luogo (zip code) dove aprire un nuovo negozio di liquori"
   ]
  },
  {
   "cell_type": "markdown",
   "metadata": {},
   "source": [
    "# Regression"
   ]
  },
  {
   "cell_type": "code",
   "execution_count": 119,
   "metadata": {},
   "outputs": [],
   "source": [
    "from sklearn.linear_model import LinearRegression"
   ]
  },
  {
   "cell_type": "code",
   "execution_count": 120,
   "metadata": {},
   "outputs": [],
   "source": [
    "X = zip_frame[['State profit per bottle', 'Number of Stores Per Zip', 'Volume Sold (Liters)', 'Bottles Sold', 'Sales Per Store']]\n",
    "y = zip_frame['Total Sales ($)']\n",
    "\n",
    "lm = LinearRegression()\n",
    "model = lm.fit(X,y)"
   ]
  },
  {
   "cell_type": "code",
   "execution_count": 121,
   "metadata": {},
   "outputs": [
    {
     "name": "stdout",
     "output_type": "stream",
     "text": [
      "[ 9.08812666e+07  9.12432609e+07  8.51823603e+07  7.09586578e+07\n",
      "  5.65144511e+07  6.28401183e+07  5.73706367e+07  5.58028615e+07\n",
      "  4.98575812e+07  4.65472512e+07  4.81619237e+07  4.56457928e+07\n",
      "  4.47943667e+07  4.26006747e+07  3.86704227e+07  3.79806289e+07\n",
      "  3.31689824e+07  3.38290375e+07  3.63129741e+07  2.62690660e+07\n",
      "  3.33531801e+07  2.99913374e+07  2.97425224e+07  2.67346780e+07\n",
      "  2.64321277e+07  2.81074435e+07  2.67121904e+07  2.54124811e+07\n",
      "  2.39637762e+07  2.02386559e+07  2.18686745e+07  1.93308154e+07\n",
      "  2.14434552e+07  1.98368167e+07  2.01380067e+07  2.09207919e+07\n",
      "  1.53946482e+07  1.77520181e+07  1.87643250e+07  1.84278910e+07\n",
      "  1.73576032e+07  1.31795469e+07  1.39988605e+07  1.59133124e+07\n",
      "  1.66819250e+07  1.36899260e+07  1.59203122e+07  1.56251210e+07\n",
      "  1.22496897e+07  1.47191545e+07  1.36323436e+07  1.39768380e+07\n",
      "  1.27325699e+07  1.19314181e+07  1.15143912e+07  1.17731046e+07\n",
      "  1.11779377e+07  1.19223369e+07  1.30750982e+07  1.03886918e+07\n",
      "  8.65086644e+06  9.54410225e+06  1.20549044e+07  1.11417083e+07\n",
      "  1.18872654e+07  1.00754750e+07  1.02539133e+07  1.00621420e+07\n",
      "  1.08425231e+07  9.01158484e+06  1.08694580e+07  8.07267347e+06\n",
      "  9.14448660e+06  9.15456708e+06  9.42019792e+06  9.34095997e+06\n",
      "  8.68424088e+06  8.21681413e+06  7.52927059e+06  8.62629023e+06\n",
      "  8.20132070e+06  8.59296984e+06  8.93778964e+06  8.88024593e+06\n",
      "  7.57351967e+06  7.47746244e+06  5.94522689e+06  6.78681650e+06\n",
      "  7.38052818e+06  7.08616537e+06  5.26114026e+06  6.52626838e+06\n",
      "  6.90312379e+06  7.00949402e+06  6.73268893e+06  6.81178147e+06\n",
      "  6.19910072e+06  6.09867297e+06  5.45099925e+06  4.95834228e+06\n",
      "  5.85018116e+06  6.58028630e+06  5.96364156e+06  5.12541960e+06\n",
      "  5.04773783e+06  4.74186496e+06  4.46791828e+06  5.47518672e+06\n",
      "  5.70924395e+06  4.46374147e+06  4.87603116e+06  4.15616410e+06\n",
      "  2.83773601e+06  4.99254603e+06  5.17122818e+06  5.44766456e+06\n",
      "  4.23434138e+06  3.84300139e+06  4.43166028e+06  3.33231355e+06\n",
      "  4.10368960e+06  4.06614512e+06  3.78889013e+06  3.25027113e+06\n",
      "  3.17624542e+06  3.56497354e+06  2.98480892e+06  3.76957530e+06\n",
      "  3.59584185e+06  3.43038889e+06  2.74867925e+06  3.09058498e+06\n",
      "  2.95816483e+06  3.16412421e+06  3.26652406e+06  2.81073515e+06\n",
      "  3.37907335e+06  2.45098182e+06  1.15001596e+06  2.46421326e+06\n",
      "  2.41118944e+06  2.44448030e+06  2.76598665e+06  2.51375221e+06\n",
      "  2.20254060e+06  2.37830741e+06  2.45933177e+06  2.06289826e+06\n",
      "  2.75415922e+06  2.30370450e+06  2.69434682e+06  2.11884438e+06\n",
      "  2.72745116e+06  1.80879202e+06  2.13566402e+06  2.75634111e+06\n",
      "  1.32461016e+06  2.22422745e+06  2.13718908e+06  1.80140598e+06\n",
      "  1.68967733e+06  1.93125043e+06  1.71479009e+06  2.01081885e+06\n",
      "  1.46204382e+06  1.80575196e+06  1.65867023e+06  2.04315042e+06\n",
      "  1.93424628e+06  1.52020420e+06  1.71912885e+06  1.01700980e+06\n",
      "  1.53537381e+06  2.04859982e+06  1.60599154e+06  1.76820981e+06\n",
      "  1.73214051e+06  1.41171327e+06  1.58959564e+06  1.20669151e+06\n",
      "  1.47769763e+06  1.10587546e+06  1.26997139e+06  1.28851143e+06\n",
      "  1.01129384e+06  1.17474533e+06  1.10523987e+06  1.23051736e+06\n",
      "  9.48209894e+05  9.32459705e+05  9.87783091e+05  1.14713490e+06\n",
      "  1.63405568e+06  1.12257921e+06  8.89461568e+05  1.03921115e+06\n",
      "  1.01013417e+06  1.21087023e+06  1.20732125e+06  8.79257620e+05\n",
      "  1.15127772e+06  1.46419119e+06  9.98204478e+05  1.20577152e+06\n",
      "  7.43055529e+05  1.08522065e+06  1.05779973e+06  9.32752579e+05\n",
      "  9.14249661e+05  7.87770307e+05  1.06084983e+06  1.09217118e+06\n",
      "  4.18618315e+05  9.63975344e+05  4.06493636e+05  4.12806796e+05\n",
      "  1.00732627e+06  6.09135577e+05  5.67587787e+05  6.38185225e+05\n",
      "  6.60097013e+05  7.50968983e+05  6.82803640e+05  6.19479248e+05\n",
      "  5.27720843e+05  6.05291118e+05  8.46630071e+05  7.80892014e+05\n",
      "  9.72623268e+05  9.85338037e+05  7.64721224e+05  6.23297297e+05\n",
      "  7.12008165e+05  8.69210386e+05  7.75300411e+05  8.84483587e+05\n",
      "  4.37900753e+05  8.04407698e+05  7.75487385e+05  4.58347398e+05\n",
      "  6.44154404e+05  4.71630044e+05  7.04632933e+05  8.65763110e+05\n",
      "  1.38320210e+05  3.74551886e+05  6.49194785e+05  6.67982380e+05\n",
      "  3.88233510e+05  5.17036508e+05  7.13645273e+05  7.42594766e+05\n",
      "  3.22202413e+05  5.89129296e+05  6.03132632e+05  3.62069833e+05\n",
      "  6.48528454e+05  4.74334051e+05  6.33981853e+05  5.90472880e+05\n",
      "  4.77615122e+05  5.49924667e+05  2.86736749e+05  6.10288698e+05\n",
      "  5.21506000e+05  4.68585047e+05  6.57917497e+05  6.32703928e+05\n",
      "  5.09324235e+05  4.52414064e+05  3.27435567e+05  5.78799453e+05\n",
      "  4.42030976e+05  3.15298531e+05  3.00419519e+05  1.78803731e+05\n",
      "  1.66556732e+05  6.15932013e+05  1.69370854e+05  3.99675511e+05\n",
      "  3.42946210e+05  1.99975220e+05  3.36270050e+05  3.37772913e+05\n",
      "  1.26099114e+05  2.27910389e+05  4.18421832e+05 -3.07597307e+05\n",
      "  3.09468589e+05  1.95917647e+05  2.05816447e+05  3.56540861e+05\n",
      "  2.86969780e+05  1.37355690e+05  2.96888487e+05  4.56786527e+05\n",
      "  3.62647481e+05  2.39013432e+05  1.99634916e+05  4.36619095e+05\n",
      "  5.39339560e+05  1.72450866e+05  1.72571254e+05  3.15546541e+05\n",
      "  4.54048692e+05  4.01025940e+05  3.20938756e+04  3.52874335e+05\n",
      "  2.70150088e+05  2.63106007e+05  4.37135251e+05  4.34272781e+05\n",
      "  4.40973559e+05  1.48067104e+05  1.24143415e+05  6.74808217e+04\n",
      "  4.67563116e+05  2.50744880e+05  3.93771373e+05  3.68298072e+05\n",
      "  2.40215307e+05  3.68909376e+05  3.97197417e+05  9.65555181e+04\n",
      "  4.08023093e+05  2.15931070e+05 -5.24724389e+04  4.05706558e+05\n",
      "  2.61950870e+05  3.69904082e+05  1.62451225e+05  3.77272061e+05\n",
      "  3.32630250e+05  4.57205026e+04  3.26642326e+05  3.19116533e+05\n",
      "  1.20269626e+04  2.56326182e+05  1.59211349e+05  3.13838698e+05\n",
      "  1.97246175e+05  1.46213880e+05  3.16575719e+05 -9.30620764e+03\n",
      " -4.66127917e+04 -1.80494055e+05  3.33925849e+05  2.62369622e+05\n",
      "  1.44846611e+05  3.60022893e+05  1.25118988e+05  2.54269325e+05\n",
      "  2.84202091e+05  8.13483429e+04  3.16047192e+05  2.98705120e+05\n",
      "  2.57674429e+05  2.66244352e+05  2.66045010e+05  1.18262256e+05\n",
      "  2.96293979e+05  3.09455446e+05 -1.27617246e+04  2.62494298e+05\n",
      "  2.41264454e+05  2.67919567e+05 -2.38348805e+05  4.41437516e+04\n",
      "  6.57188366e+04  2.44194400e+05  2.26488177e+05  2.51543902e+05\n",
      "  1.86284019e+05  2.74121418e+05  2.01222099e+05  2.30362123e+05\n",
      "  2.57027093e+05  9.60700645e+04 -2.51172416e+05  5.40402648e+04\n",
      "  1.94508050e+05  2.16512385e+05  1.96570009e+05  4.39618051e+04\n",
      " -7.63931943e+04  2.40537895e+05  3.38256558e+04  1.65166465e+05\n",
      "  2.02152335e+05  2.53330462e+04  1.87190358e+05  1.87114337e+05\n",
      "  2.44938355e+04  2.01336009e+05 -1.82521713e+03  2.02947424e+05\n",
      "  3.88270651e+03  1.68094920e+05  1.59449685e+05  1.53248403e+05\n",
      "  1.49298573e+05  1.55742991e+05  9.30178589e+04 -2.25217719e+04\n",
      "  1.35740626e+05  1.11265603e+05  1.35109112e+05  1.04176809e+05\n",
      "  9.73447116e+04  9.25764923e+04  7.82551342e+04 -2.08952481e+05\n",
      "  8.60660643e+04  9.52285006e+04  1.23267883e+05  9.41209836e+04\n",
      "  8.90260800e+04  8.25935140e+04  3.31909071e+04  9.71680878e+04\n",
      "  9.21593349e+04  8.70963893e+04  8.18951087e+04  8.94258971e+04\n",
      "  6.11498561e+04  9.28411260e+04 -7.24719167e+04  8.32952913e+04\n",
      "  8.59959426e+04  7.33867782e+04 -7.84878397e+04  6.33348542e+04\n",
      "  6.96684317e+04  5.96464189e+04  5.51205176e+04  6.34343573e+04\n",
      "  7.69873004e+04  8.03824209e+04  6.80876210e+04  6.27521454e+04\n",
      "  5.74137426e+04  4.88015821e+04 -8.54054378e+04  7.59222209e+04\n",
      "  5.02615468e+04  4.95054748e+04  6.87376209e+04  5.29938055e+04\n",
      "  4.65186813e+04  6.08940355e+04  3.12188153e+04  3.32003862e+04\n",
      "  2.85587195e+04  4.57171835e+04  4.77522704e+04  3.36928315e+04\n",
      "  2.89195530e+04  3.48127978e+04  3.31424533e+04  3.82215051e+04\n",
      "  2.31304111e+04  2.91304161e+04 -1.01639262e+05  3.31125384e+04\n",
      "  1.61687192e+04  1.24737701e+04  1.97919890e+04 -1.22191834e+05\n",
      "  2.24222256e+04  7.33641640e+03  1.76020792e+04  1.28660061e+04\n",
      " -2.12823658e+04 -1.13747849e+03  2.72819381e+03 -2.23891396e+03\n",
      " -6.61593389e+03 -7.40649106e+03 -7.61591956e+03 -6.03408206e+03\n",
      " -1.50115818e+04 -2.31756248e+04]\n"
     ]
    }
   ],
   "source": [
    "predictions = lm.predict(X)\n",
    "print(predictions)"
   ]
  },
  {
   "cell_type": "code",
   "execution_count": 122,
   "metadata": {},
   "outputs": [
    {
     "data": {
      "text/plain": [
       "0.993827231261511"
      ]
     },
     "execution_count": 122,
     "metadata": {},
     "output_type": "execute_result"
    }
   ],
   "source": [
    "#questo è il numero R^2, riferito alla quantità di varianza spiegata nel modello appena costruito\n",
    "lm.score(X,y)"
   ]
  },
  {
   "cell_type": "markdown",
   "metadata": {},
   "source": [
    "Il codice sotto riportato utilizza MLR per prevedere le vendite totali utilizzando statsmodel che restituisce un buon summary del modello relizzato. I predittori come il numero di negozi per zip code, i volumi venduti, il profitto dello stato per bottiglia, le bottiglie vendute e le vendite per negozio sono tutti ordinati per codice postale."
   ]
  },
  {
   "cell_type": "code",
   "execution_count": 123,
   "metadata": {},
   "outputs": [
    {
     "data": {
      "text/html": [
       "<table class=\"simpletable\">\n",
       "<caption>OLS Regression Results</caption>\n",
       "<tr>\n",
       "  <th>Dep. Variable:</th>     <td>Total Sales ($)</td> <th>  R-squared:         </th> <td>   0.994</td> \n",
       "</tr>\n",
       "<tr>\n",
       "  <th>Model:</th>                   <td>OLS</td>       <th>  Adj. R-squared:    </th> <td>   0.994</td> \n",
       "</tr>\n",
       "<tr>\n",
       "  <th>Method:</th>             <td>Least Squares</td>  <th>  F-statistic:       </th> <td>1.533e+04</td>\n",
       "</tr>\n",
       "<tr>\n",
       "  <th>Date:</th>             <td>Thu, 28 Jan 2021</td> <th>  Prob (F-statistic):</th>  <td>  0.00</td>  \n",
       "</tr>\n",
       "<tr>\n",
       "  <th>Time:</th>                 <td>12:10:09</td>     <th>  Log-Likelihood:    </th> <td> -7313.6</td> \n",
       "</tr>\n",
       "<tr>\n",
       "  <th>No. Observations:</th>      <td>   482</td>      <th>  AIC:               </th> <td>1.464e+04</td>\n",
       "</tr>\n",
       "<tr>\n",
       "  <th>Df Residuals:</th>          <td>   476</td>      <th>  BIC:               </th> <td>1.466e+04</td>\n",
       "</tr>\n",
       "<tr>\n",
       "  <th>Df Model:</th>              <td>     5</td>      <th>                     </th>     <td> </td>    \n",
       "</tr>\n",
       "<tr>\n",
       "  <th>Covariance Type:</th>      <td>nonrobust</td>    <th>                     </th>     <td> </td>    \n",
       "</tr>\n",
       "</table>\n",
       "<table class=\"simpletable\">\n",
       "<tr>\n",
       "              <td></td>                <th>coef</th>     <th>std err</th>      <th>t</th>      <th>P>|t|</th>  <th>[0.025</th>    <th>0.975]</th>  \n",
       "</tr>\n",
       "<tr>\n",
       "  <th>const</th>                    <td> 1.202e+05</td> <td> 7.36e+04</td> <td>    1.632</td> <td> 0.103</td> <td>-2.45e+04</td> <td> 2.65e+05</td>\n",
       "</tr>\n",
       "<tr>\n",
       "  <th>State profit per bottle</th>  <td>   -1.8138</td> <td>    0.568</td> <td>   -3.192</td> <td> 0.002</td> <td>   -2.930</td> <td>   -0.697</td>\n",
       "</tr>\n",
       "<tr>\n",
       "  <th>Number of Stores Per Zip</th> <td>-1.444e+05</td> <td>  1.9e+04</td> <td>   -7.582</td> <td> 0.000</td> <td>-1.82e+05</td> <td>-1.07e+05</td>\n",
       "</tr>\n",
       "<tr>\n",
       "  <th>Volume Sold (Liters)</th>     <td>   12.9651</td> <td>    0.432</td> <td>   30.038</td> <td> 0.000</td> <td>   12.117</td> <td>   13.813</td>\n",
       "</tr>\n",
       "<tr>\n",
       "  <th>Bottles Sold</th>             <td>    3.9651</td> <td>    0.363</td> <td>   10.910</td> <td> 0.000</td> <td>    3.251</td> <td>    4.679</td>\n",
       "</tr>\n",
       "<tr>\n",
       "  <th>Sales Per Store</th>          <td>    0.0248</td> <td>    0.079</td> <td>    0.315</td> <td> 0.753</td> <td>   -0.130</td> <td>    0.180</td>\n",
       "</tr>\n",
       "</table>\n",
       "<table class=\"simpletable\">\n",
       "<tr>\n",
       "  <th>Omnibus:</th>       <td>272.235</td> <th>  Durbin-Watson:     </th> <td>   1.611</td> \n",
       "</tr>\n",
       "<tr>\n",
       "  <th>Prob(Omnibus):</th> <td> 0.000</td>  <th>  Jarque-Bera (JB):  </th> <td>14018.109</td>\n",
       "</tr>\n",
       "<tr>\n",
       "  <th>Skew:</th>          <td> 1.689</td>  <th>  Prob(JB):          </th> <td>    0.00</td> \n",
       "</tr>\n",
       "<tr>\n",
       "  <th>Kurtosis:</th>      <td>29.203</td>  <th>  Cond. No.          </th> <td>2.86e+06</td> \n",
       "</tr>\n",
       "</table><br/><br/>Warnings:<br/>[1] Standard Errors assume that the covariance matrix of the errors is correctly specified.<br/>[2] The condition number is large, 2.86e+06. This might indicate that there are<br/>strong multicollinearity or other numerical problems."
      ],
      "text/plain": [
       "<class 'statsmodels.iolib.summary.Summary'>\n",
       "\"\"\"\n",
       "                            OLS Regression Results                            \n",
       "==============================================================================\n",
       "Dep. Variable:        Total Sales ($)   R-squared:                       0.994\n",
       "Model:                            OLS   Adj. R-squared:                  0.994\n",
       "Method:                 Least Squares   F-statistic:                 1.533e+04\n",
       "Date:                Thu, 28 Jan 2021   Prob (F-statistic):               0.00\n",
       "Time:                        12:10:09   Log-Likelihood:                -7313.6\n",
       "No. Observations:                 482   AIC:                         1.464e+04\n",
       "Df Residuals:                     476   BIC:                         1.466e+04\n",
       "Df Model:                           5                                         \n",
       "Covariance Type:            nonrobust                                         \n",
       "============================================================================================\n",
       "                               coef    std err          t      P>|t|      [0.025      0.975]\n",
       "--------------------------------------------------------------------------------------------\n",
       "const                     1.202e+05   7.36e+04      1.632      0.103   -2.45e+04    2.65e+05\n",
       "State profit per bottle     -1.8138      0.568     -3.192      0.002      -2.930      -0.697\n",
       "Number of Stores Per Zip -1.444e+05    1.9e+04     -7.582      0.000   -1.82e+05   -1.07e+05\n",
       "Volume Sold (Liters)        12.9651      0.432     30.038      0.000      12.117      13.813\n",
       "Bottles Sold                 3.9651      0.363     10.910      0.000       3.251       4.679\n",
       "Sales Per Store              0.0248      0.079      0.315      0.753      -0.130       0.180\n",
       "==============================================================================\n",
       "Omnibus:                      272.235   Durbin-Watson:                   1.611\n",
       "Prob(Omnibus):                  0.000   Jarque-Bera (JB):            14018.109\n",
       "Skew:                           1.689   Prob(JB):                         0.00\n",
       "Kurtosis:                      29.203   Cond. No.                     2.86e+06\n",
       "==============================================================================\n",
       "\n",
       "Warnings:\n",
       "[1] Standard Errors assume that the covariance matrix of the errors is correctly specified.\n",
       "[2] The condition number is large, 2.86e+06. This might indicate that there are\n",
       "strong multicollinearity or other numerical problems.\n",
       "\"\"\""
      ]
     },
     "execution_count": 123,
     "metadata": {},
     "output_type": "execute_result"
    }
   ],
   "source": [
    "\n",
    "X = zip_frame[['State profit per bottle', 'Number of Stores Per Zip', 'Volume Sold (Liters)', 'Bottles Sold', 'Sales Per Store']]\n",
    "y = zip_frame['Total Sales ($)']\n",
    "X = sm.add_constant(X) # adding y-intercept\n",
    "\n",
    "\n",
    "model = sm.OLS(y, X).fit()  ## sm.OLS(output, input)\n",
    "predictions = model.predict(X)\n",
    "\n",
    "model.summary()"
   ]
  },
  {
   "cell_type": "markdown",
   "metadata": {},
   "source": [
    "Sulla base delle statistiche di sintesi del modello di cui sopra, i valori p di 'State profit per bottle' 'Volume venduto', 'Bottiglie vendute' e 'Vendite per negozio' sono tutti fattori statisticamente significativi per la previsione delle vendite totali."
   ]
  },
  {
   "cell_type": "markdown",
   "metadata": {},
   "source": [
    "\n",
    "\n",
    "PRIME CONCLUSIONI\n",
    "-Se il numero di bottiglie vendute aumenta di 1 bottiglia, a parità di altre condizioni, le vendite aumenteranno di 3,96 dollari.\n",
    "-Se il volume di bottiglie venduto aumenta di 1 litro le vendite aumenteranno di 12,4082 dollari.\n",
    "\n"
   ]
  },
  {
   "cell_type": "code",
   "execution_count": 124,
   "metadata": {},
   "outputs": [
    {
     "ename": "TypeError",
     "evalue": "'str' object is not callable",
     "output_type": "error",
     "traceback": [
      "\u001b[1;31m---------------------------------------------------------------------------\u001b[0m",
      "\u001b[1;31mTypeError\u001b[0m                                 Traceback (most recent call last)",
      "\u001b[1;32m<ipython-input-124-79fbf4af9e1b>\u001b[0m in \u001b[0;36m<module>\u001b[1;34m\u001b[0m\n\u001b[0;32m      1\u001b[0m \u001b[1;31m# Plot the model of bottles sold, state profit per bottle, state bottle retail, number of stores per zip, volume\u001b[0m\u001b[1;33m\u001b[0m\u001b[1;33m\u001b[0m\u001b[1;33m\u001b[0m\u001b[0m\n\u001b[0;32m      2\u001b[0m \u001b[0mplt\u001b[0m\u001b[1;33m.\u001b[0m\u001b[0mscatter\u001b[0m\u001b[1;33m(\u001b[0m\u001b[0mpredictions\u001b[0m\u001b[1;33m,\u001b[0m \u001b[0my\u001b[0m\u001b[1;33m,\u001b[0m \u001b[0ms\u001b[0m\u001b[1;33m=\u001b[0m\u001b[1;36m30\u001b[0m\u001b[1;33m,\u001b[0m \u001b[0mc\u001b[0m\u001b[1;33m=\u001b[0m\u001b[1;34m'r'\u001b[0m\u001b[1;33m,\u001b[0m \u001b[0mmarker\u001b[0m\u001b[1;33m=\u001b[0m\u001b[1;34m'+'\u001b[0m\u001b[1;33m,\u001b[0m \u001b[0mzorder\u001b[0m\u001b[1;33m=\u001b[0m\u001b[1;36m10\u001b[0m\u001b[1;33m)\u001b[0m\u001b[1;33m;\u001b[0m\u001b[1;33m\u001b[0m\u001b[1;33m\u001b[0m\u001b[0m\n\u001b[1;32m----> 3\u001b[1;33m \u001b[0mplt\u001b[0m\u001b[1;33m.\u001b[0m\u001b[0mxlabel\u001b[0m\u001b[1;33m(\u001b[0m\u001b[1;34m'Predicted Sales'\u001b[0m\u001b[1;33m)\u001b[0m\u001b[1;33m\u001b[0m\u001b[1;33m\u001b[0m\u001b[0m\n\u001b[0m\u001b[0;32m      4\u001b[0m \u001b[0mplt\u001b[0m\u001b[1;33m.\u001b[0m\u001b[0mylabel\u001b[0m\u001b[1;33m(\u001b[0m\u001b[1;34m\"Actual Sales\"\u001b[0m\u001b[1;33m)\u001b[0m\u001b[1;33m\u001b[0m\u001b[1;33m\u001b[0m\u001b[0m\n\u001b[0;32m      5\u001b[0m \u001b[0mplt\u001b[0m\u001b[1;33m.\u001b[0m\u001b[0mshow\u001b[0m\u001b[1;33m(\u001b[0m\u001b[1;33m)\u001b[0m\u001b[1;33m\u001b[0m\u001b[1;33m\u001b[0m\u001b[0m\n",
      "\u001b[1;31mTypeError\u001b[0m: 'str' object is not callable"
     ]
    },
    {
     "data": {
      "image/png": "[encoded data removed]",
      "text/plain": [
       "<Figure size 576x396 with 1 Axes>"
      ]
     },
     "metadata": {},
     "output_type": "display_data"
    }
   ],
   "source": [
    "plt.scatter(predictions, y, s=30, c='r', marker='+', zorder=10);\n",
    "plt.xlabel('Predicted Sales')\n",
    "plt.ylabel(\"Actual Sales\")\n",
    "plt.show()"
   ]
  },
  {
   "cell_type": "code",
   "execution_count": 125,
   "metadata": {},
   "outputs": [
    {
     "name": "stdout",
     "output_type": "stream",
     "text": [
      "MSE: 1.3736339730587468e+16\n"
     ]
    }
   ],
   "source": [
    "print(\"MSE:\", model.mse_model)"
   ]
  },
  {
   "cell_type": "markdown",
   "metadata": {},
   "source": [
    "Training-Test Split "
   ]
  },
  {
   "cell_type": "code",
   "execution_count": 126,
   "metadata": {},
   "outputs": [],
   "source": [
    "from sklearn.model_selection import train_test_split\n",
    "from sklearn.model_selection import cross_val_score, cross_val_predict\n",
    "from sklearn import metrics\n",
    "from sklearn import linear_model"
   ]
  },
  {
   "cell_type": "markdown",
   "metadata": {},
   "source": [
    "Il seguente codice esegue un la validazione tramite il metodo dell'Holdout o Train/Test split"
   ]
  },
  {
   "cell_type": "code",
   "execution_count": 127,
   "metadata": {},
   "outputs": [],
   "source": [
    "X = zip_frame[['State profit per bottle', 'Number of Stores Per Zip', 'Volume Sold (Liters)', 'Bottles Sold', 'Sales Per Store']]\n",
    "y = zip_frame['Total Sales ($)']"
   ]
  },
  {
   "cell_type": "code",
   "execution_count": 128,
   "metadata": {},
   "outputs": [
    {
     "name": "stdout",
     "output_type": "stream",
     "text": [
      "(337, 5) (337,)\n",
      "(145, 5) (145,)\n"
     ]
    }
   ],
   "source": [
    "X_train, X_test, y_train, y_test = train_test_split(X, y, test_size=0.3) # test data will be 30% of entire df\n",
    "print(X_train.shape, y_train.shape)\n",
    "print(X_test.shape, y_test.shape)"
   ]
  },
  {
   "cell_type": "code",
   "execution_count": 129,
   "metadata": {},
   "outputs": [],
   "source": [
    "# fittiamo il modello\n",
    "lm = linear_model.LinearRegression()\n",
    "\n",
    "model = lm.fit(X_train, y_train)\n",
    "predictions = lm.predict(X_test)"
   ]
  },
  {
   "cell_type": "code",
   "execution_count": 130,
   "metadata": {},
   "outputs": [
    {
     "ename": "TypeError",
     "evalue": "'str' object is not callable",
     "output_type": "error",
     "traceback": [
      "\u001b[1;31m---------------------------------------------------------------------------\u001b[0m",
      "\u001b[1;31mTypeError\u001b[0m                                 Traceback (most recent call last)",
      "\u001b[1;32m<ipython-input-130-c8e4e0d4f0b7>\u001b[0m in \u001b[0;36m<module>\u001b[1;34m\u001b[0m\n\u001b[0;32m      1\u001b[0m \u001b[1;31m## The line / model\u001b[0m\u001b[1;33m\u001b[0m\u001b[1;33m\u001b[0m\u001b[1;33m\u001b[0m\u001b[0m\n\u001b[0;32m      2\u001b[0m \u001b[0mplt\u001b[0m\u001b[1;33m.\u001b[0m\u001b[0mscatter\u001b[0m\u001b[1;33m(\u001b[0m\u001b[0my_test\u001b[0m\u001b[1;33m,\u001b[0m \u001b[0mpredictions\u001b[0m\u001b[1;33m,\u001b[0m \u001b[0mmarker\u001b[0m\u001b[1;33m=\u001b[0m\u001b[1;34m'+'\u001b[0m\u001b[1;33m,\u001b[0m \u001b[0mcolor\u001b[0m\u001b[1;33m=\u001b[0m\u001b[1;34m'r'\u001b[0m\u001b[1;33m)\u001b[0m\u001b[1;33m\u001b[0m\u001b[1;33m\u001b[0m\u001b[0m\n\u001b[1;32m----> 3\u001b[1;33m \u001b[0mplt\u001b[0m\u001b[1;33m.\u001b[0m\u001b[0mxlabel\u001b[0m\u001b[1;33m(\u001b[0m\u001b[1;34m\"True Values\"\u001b[0m\u001b[1;33m)\u001b[0m\u001b[1;33m\u001b[0m\u001b[1;33m\u001b[0m\u001b[0m\n\u001b[0m\u001b[0;32m      4\u001b[0m \u001b[0mplt\u001b[0m\u001b[1;33m.\u001b[0m\u001b[0mylabel\u001b[0m\u001b[1;33m(\u001b[0m\u001b[1;34m\"Predictions\"\u001b[0m\u001b[1;33m)\u001b[0m\u001b[1;33m\u001b[0m\u001b[1;33m\u001b[0m\u001b[0m\n\u001b[0;32m      5\u001b[0m \u001b[0mprint\u001b[0m\u001b[1;33m(\u001b[0m\u001b[1;34m\"Score:\"\u001b[0m\u001b[1;33m,\u001b[0m \u001b[0mmodel\u001b[0m\u001b[1;33m.\u001b[0m\u001b[0mscore\u001b[0m\u001b[1;33m(\u001b[0m\u001b[0mX_test\u001b[0m\u001b[1;33m,\u001b[0m \u001b[0my_test\u001b[0m\u001b[1;33m)\u001b[0m\u001b[1;33m)\u001b[0m\u001b[1;33m\u001b[0m\u001b[1;33m\u001b[0m\u001b[0m\n",
      "\u001b[1;31mTypeError\u001b[0m: 'str' object is not callable"
     ]
    },
    {
     "data": {
      "image/png": "[encoded data removed]",
      "text/plain": [
       "<Figure size 576x396 with 1 Axes>"
      ]
     },
     "metadata": {},
     "output_type": "display_data"
    }
   ],
   "source": [
    "plt.scatter(y_test, predictions, marker='+', color='r')\n",
    "plt.xlabel(\"True Values\")\n",
    "plt.ylabel(\"Predictions\")\n",
    "print(\"Score:\", model.score(X_test, y_test))"
   ]
  },
  {
   "cell_type": "code",
   "execution_count": 131,
   "metadata": {},
   "outputs": [
    {
     "name": "stdout",
     "output_type": "stream",
     "text": [
      "Score: 0.9950996603907266\n"
     ]
    }
   ],
   "source": [
    "print(\"Score:\", model.score(X_test, y_test))"
   ]
  },
  {
   "cell_type": "markdown",
   "metadata": {},
   "source": [
    "Il codice sottostante esegue un Train-Test 10 Fold Cross Validation"
   ]
  },
  {
   "cell_type": "code",
   "execution_count": 132,
   "metadata": {},
   "outputs": [],
   "source": [
    "X = zip_frame[['State profit per bottle', 'Number of Stores Per Zip', 'Volume Sold (Liters)', 'Bottles Sold', 'Sales Per Store']]\n",
    "y = zip_frame['Total Sales ($)']"
   ]
  },
  {
   "cell_type": "code",
   "execution_count": 133,
   "metadata": {},
   "outputs": [
    {
     "name": "stdout",
     "output_type": "stream",
     "text": [
      "Cross-validated scores: [0.99279499 0.99286315 0.97961033 0.99122803 0.99606222 0.99771722\n",
      " 0.99574048 0.98824487 0.98928461 0.99633277]\n",
      "Average:  0.9919878687134543\n"
     ]
    }
   ],
   "source": [
    "#10-fold cross validation\n",
    "X_train, X_test, y_train, y_test = train_test_split(X, y, test_size=0.3)\n",
    "scores = cross_val_score(model, X_train, y_train, cv=10)\n",
    "print(\"Cross-validated scores:\", scores)\n",
    "print(\"Average: \", scores.mean())"
   ]
  },
  {
   "cell_type": "code",
   "execution_count": 134,
   "metadata": {},
   "outputs": [
    {
     "ename": "TypeError",
     "evalue": "'str' object is not callable",
     "output_type": "error",
     "traceback": [
      "\u001b[1;31m---------------------------------------------------------------------------\u001b[0m",
      "\u001b[1;31mTypeError\u001b[0m                                 Traceback (most recent call last)",
      "\u001b[1;32m<ipython-input-134-0fac4df11618>\u001b[0m in \u001b[0;36m<module>\u001b[1;34m\u001b[0m\n\u001b[0;32m      2\u001b[0m \u001b[0mpredictions\u001b[0m \u001b[1;33m=\u001b[0m \u001b[0mcross_val_predict\u001b[0m\u001b[1;33m(\u001b[0m\u001b[0mmodel\u001b[0m\u001b[1;33m,\u001b[0m \u001b[0mX\u001b[0m\u001b[1;33m,\u001b[0m \u001b[0my\u001b[0m\u001b[1;33m,\u001b[0m \u001b[0mcv\u001b[0m\u001b[1;33m=\u001b[0m\u001b[1;36m10\u001b[0m\u001b[1;33m)\u001b[0m\u001b[1;33m\u001b[0m\u001b[1;33m\u001b[0m\u001b[0m\n\u001b[0;32m      3\u001b[0m \u001b[0mplt\u001b[0m\u001b[1;33m.\u001b[0m\u001b[0mscatter\u001b[0m\u001b[1;33m(\u001b[0m\u001b[0my\u001b[0m\u001b[1;33m,\u001b[0m \u001b[0mpredictions\u001b[0m\u001b[1;33m,\u001b[0m \u001b[0mmarker\u001b[0m\u001b[1;33m=\u001b[0m\u001b[1;34m'+'\u001b[0m\u001b[1;33m)\u001b[0m\u001b[1;33m\u001b[0m\u001b[1;33m\u001b[0m\u001b[0m\n\u001b[1;32m----> 4\u001b[1;33m \u001b[0mplt\u001b[0m\u001b[1;33m.\u001b[0m\u001b[0mylabel\u001b[0m\u001b[1;33m(\u001b[0m\u001b[1;34m'True Sales'\u001b[0m\u001b[1;33m)\u001b[0m\u001b[1;33m\u001b[0m\u001b[1;33m\u001b[0m\u001b[0m\n\u001b[0m\u001b[0;32m      5\u001b[0m \u001b[0mplt\u001b[0m\u001b[1;33m.\u001b[0m\u001b[0mxlabel\u001b[0m\u001b[1;33m(\u001b[0m\u001b[1;34m'Predicted Sales'\u001b[0m\u001b[1;33m)\u001b[0m\u001b[1;33m\u001b[0m\u001b[1;33m\u001b[0m\u001b[0m\n\u001b[0;32m      6\u001b[0m \u001b[0mplt\u001b[0m\u001b[1;33m.\u001b[0m\u001b[0mtitle\u001b[0m\u001b[1;33m(\u001b[0m\u001b[1;34m'10-Fold CV Predicted Sales Scatter'\u001b[0m\u001b[1;33m)\u001b[0m\u001b[1;33m\u001b[0m\u001b[1;33m\u001b[0m\u001b[0m\n",
      "\u001b[1;31mTypeError\u001b[0m: 'str' object is not callable"
     ]
    },
    {
     "data": {
      "image/png": "[encoded data removed]",
      "text/plain": [
       "<Figure size 576x396 with 1 Axes>"
      ]
     },
     "metadata": {},
     "output_type": "display_data"
    }
   ],
   "source": [
    "predictions = cross_val_predict(model, X, y, cv=10)\n",
    "plt.scatter(y, predictions, marker='+')\n",
    "plt.ylabel('True Sales')\n",
    "plt.xlabel('Predicted Sales')\n",
    "plt.title('10-Fold CV Predicted Sales Scatter')"
   ]
  },
  {
   "cell_type": "code",
   "execution_count": 135,
   "metadata": {},
   "outputs": [
    {
     "name": "stdout",
     "output_type": "stream",
     "text": [
      "Cross-Predicted Accuracy: 0.9750868861638873\n"
     ]
    }
   ],
   "source": [
    "accuracy = metrics.r2_score(y, predictions)\n",
    "print(\"Cross-Predicted Accuracy:\", accuracy)"
   ]
  },
  {
   "cell_type": "markdown",
   "metadata": {},
   "source": [
    "# Ridge Regression Model"
   ]
  },
  {
   "cell_type": "code",
   "execution_count": 136,
   "metadata": {},
   "outputs": [],
   "source": [
    "from sklearn.linear_model import Ridge, RidgeCV\n",
    "from sklearn import metrics\n",
    "import numpy as np"
   ]
  },
  {
   "cell_type": "markdown",
   "metadata": {},
   "source": [
    "il seguente codice realizza una Ridge Regression "
   ]
  },
  {
   "cell_type": "code",
   "execution_count": 137,
   "metadata": {},
   "outputs": [],
   "source": [
    "X= zip_frame[['State profit per bottle', 'Volume Sold (Liters)' , 'Number of Stores Per Zip', 'Bottles Sold', 'Sales Per Store']]\n",
    "y= zip_frame['Total Sales ($)']\n",
    "X_train, X_test, y_train, y_test = train_test_split(X, y, test_size=0.3)"
   ]
  },
  {
   "cell_type": "code",
   "execution_count": 138,
   "metadata": {},
   "outputs": [
    {
     "data": {
      "text/plain": [
       "0.01"
      ]
     },
     "execution_count": 138,
     "metadata": {},
     "output_type": "execute_result"
    }
   ],
   "source": [
    "#selezione alpha ottimale per RidgeCV\n",
    "alpha_range = 10.**np.arange(-2, 3)\n",
    "ridgeregcv = RidgeCV(alphas=alpha_range, normalize=True, scoring='neg_mean_squared_error')\n",
    "ridgeregcv.fit(X_train, y_train)\n",
    "ridgeregcv.alpha_"
   ]
  },
  {
   "cell_type": "code",
   "execution_count": 139,
   "metadata": {},
   "outputs": [
    {
     "name": "stdout",
     "output_type": "stream",
     "text": [
      "1008545.5296931164\n"
     ]
    }
   ],
   "source": [
    "# Run Ridge regression \n",
    "ridgereg = Ridge(alpha=0.01, normalize=True)\n",
    "ridgereg.fit(X_train, y_train)\n",
    "y_pred = ridgereg.predict(X_test)\n",
    "print(np.sqrt(metrics.mean_squared_error(y_test, y_pred)))"
   ]
  },
  {
   "cell_type": "code",
   "execution_count": 140,
   "metadata": {},
   "outputs": [
    {
     "name": "stdout",
     "output_type": "stream",
     "text": [
      "[ 1.18229587e+00  1.01612460e+01 -1.82324166e+05  5.54660638e+00\n",
      "  1.99213590e-01]\n"
     ]
    }
   ],
   "source": [
    "# esaminando i coefficienti\n",
    "rc = ridgeregcv.coef_\n",
    "print(rc)"
   ]
  },
  {
   "cell_type": "code",
   "execution_count": 141,
   "metadata": {},
   "outputs": [
    {
     "name": "stdout",
     "output_type": "stream",
     "text": [
      "Index(['State profit per bottle', 'Volume Sold (Liters)',\n",
      "       'Number of Stores Per Zip', 'Bottles Sold', 'Sales Per Store'],\n",
      "      dtype='object') [ 1.18229587e+00  1.01612460e+01 -1.82324166e+05  5.54660638e+00\n",
      "  1.99213590e-01]\n"
     ]
    }
   ],
   "source": [
    "print(X.columns, rc)"
   ]
  },
  {
   "cell_type": "code",
   "execution_count": 142,
   "metadata": {},
   "outputs": [
    {
     "ename": "TypeError",
     "evalue": "'str' object is not callable",
     "output_type": "error",
     "traceback": [
      "\u001b[1;31m---------------------------------------------------------------------------\u001b[0m",
      "\u001b[1;31mTypeError\u001b[0m                                 Traceback (most recent call last)",
      "\u001b[1;32m<ipython-input-142-4f3caab2e35b>\u001b[0m in \u001b[0;36m<module>\u001b[1;34m\u001b[0m\n\u001b[0;32m      1\u001b[0m \u001b[0mplt\u001b[0m\u001b[1;33m.\u001b[0m\u001b[0mscatter\u001b[0m\u001b[1;33m(\u001b[0m\u001b[0my_test\u001b[0m\u001b[1;33m,\u001b[0m \u001b[0my_pred\u001b[0m\u001b[1;33m)\u001b[0m\u001b[1;33m\u001b[0m\u001b[1;33m\u001b[0m\u001b[0m\n\u001b[1;32m----> 2\u001b[1;33m \u001b[0mplt\u001b[0m\u001b[1;33m.\u001b[0m\u001b[0mxlabel\u001b[0m\u001b[1;33m(\u001b[0m\u001b[1;34m'Actual Sales'\u001b[0m\u001b[1;33m)\u001b[0m\u001b[1;33m\u001b[0m\u001b[1;33m\u001b[0m\u001b[0m\n\u001b[0m\u001b[0;32m      3\u001b[0m \u001b[0mplt\u001b[0m\u001b[1;33m.\u001b[0m\u001b[0mylabel\u001b[0m\u001b[1;33m(\u001b[0m\u001b[1;34m'Predicted Sales'\u001b[0m\u001b[1;33m)\u001b[0m\u001b[1;33m\u001b[0m\u001b[1;33m\u001b[0m\u001b[0m\n\u001b[0;32m      4\u001b[0m \u001b[0mplt\u001b[0m\u001b[1;33m.\u001b[0m\u001b[0mtitle\u001b[0m\u001b[1;33m(\u001b[0m\u001b[1;34m'Ridge Regression Predictor of Future Sales'\u001b[0m\u001b[1;33m,\u001b[0m \u001b[0mfontsize\u001b[0m\u001b[1;33m=\u001b[0m\u001b[1;34m'x-large'\u001b[0m\u001b[1;33m)\u001b[0m\u001b[1;33m\u001b[0m\u001b[1;33m\u001b[0m\u001b[0m\n",
      "\u001b[1;31mTypeError\u001b[0m: 'str' object is not callable"
     ]
    },
    {
     "data": {
      "image/png": "[encoded data removed]",
      "text/plain": [
       "<Figure size 576x396 with 1 Axes>"
      ]
     },
     "metadata": {},
     "output_type": "display_data"
    }
   ],
   "source": [
    "plt.scatter(y_test, y_pred)\n",
    "plt.xlabel('Actual Sales')\n",
    "plt.ylabel('Predicted Sales')\n",
    "plt.title('Ridge Regression Predictor of Future Sales', fontsize='x-large')"
   ]
  },
  {
   "cell_type": "markdown",
   "metadata": {},
   "source": [
    "# Lasso Regression Model"
   ]
  },
  {
   "cell_type": "code",
   "execution_count": 143,
   "metadata": {},
   "outputs": [],
   "source": [
    "from sklearn.linear_model import Lasso, LassoCV"
   ]
  },
  {
   "cell_type": "markdown",
   "metadata": {},
   "source": [
    "il seguente codice realizza una Lasso Regression "
   ]
  },
  {
   "cell_type": "code",
   "execution_count": 144,
   "metadata": {},
   "outputs": [],
   "source": [
    "X= zip_frame[['State profit per bottle', 'Number of Stores Per Zip', 'Volume Sold (Liters)', 'Bottles Sold', 'Sales Per Store']]\n",
    "y= zip_frame['Total Sales ($)']\n",
    "X_train, X_test, y_train, y_test = train_test_split(X, y, test_size=0.3)"
   ]
  },
  {
   "cell_type": "code",
   "execution_count": 145,
   "metadata": {},
   "outputs": [
    {
     "data": {
      "text/plain": [
       "1552.3553768130378"
      ]
     },
     "execution_count": 145,
     "metadata": {},
     "output_type": "execute_result"
    }
   ],
   "source": [
    "# selezione di alpha ottimale con LassoCV\n",
    "lassoregcv = LassoCV(n_alphas=10, normalize=True, random_state=1)\n",
    "lassoregcv.fit(X_train, y_train)\n",
    "lassoregcv.alpha_"
   ]
  },
  {
   "cell_type": "code",
   "execution_count": 146,
   "metadata": {},
   "outputs": [
    {
     "name": "stdout",
     "output_type": "stream",
     "text": [
      "Index(['State profit per bottle', 'Number of Stores Per Zip',\n",
      "       'Volume Sold (Liters)', 'Bottles Sold', 'Sales Per Store'],\n",
      "      dtype='object') [-9.29517385e-01 -1.35807071e+05  1.41089382e+01  2.25956760e+00\n",
      "  4.30773059e-01]\n"
     ]
    }
   ],
   "source": [
    "# esaminando i coefficienti\n",
    "lc = lassoregcv.coef_\n",
    "print(X.columns, lc)"
   ]
  },
  {
   "cell_type": "code",
   "execution_count": 147,
   "metadata": {},
   "outputs": [
    {
     "name": "stdout",
     "output_type": "stream",
     "text": [
      "1169097.77800607\n"
     ]
    }
   ],
   "source": [
    "# fit del modello usando il paramtetro alfa individuato \n",
    "y_pred = lassoregcv.predict(X_test)\n",
    "print(np.sqrt(metrics.mean_squared_error(y_test, y_pred)))"
   ]
  },
  {
   "cell_type": "code",
   "execution_count": 148,
   "metadata": {},
   "outputs": [
    {
     "data": {
      "text/plain": [
       "Lasso(alpha=135.61, copy_X=True, fit_intercept=True, max_iter=1000,\n",
       "      normalize=True, positive=False, precompute=False, random_state=None,\n",
       "      selection='cyclic', tol=0.0001, warm_start=False)"
      ]
     },
     "execution_count": 148,
     "metadata": {},
     "output_type": "execute_result"
    }
   ],
   "source": [
    "lassoreg = Lasso(alpha=135.61, normalize=True)\n",
    "lassoreg.fit(X_train, y_train)"
   ]
  },
  {
   "cell_type": "code",
   "execution_count": 149,
   "metadata": {},
   "outputs": [
    {
     "data": {
      "text/plain": [
       "<matplotlib.collections.PathCollection at 0x26e09586c88>"
      ]
     },
     "execution_count": 149,
     "metadata": {},
     "output_type": "execute_result"
    },
    {
     "data": {
      "image/png": "[encoded data removed]",
      "text/plain": [
       "<Figure size 576x396 with 1 Axes>"
      ]
     },
     "metadata": {},
     "output_type": "display_data"
    }
   ],
   "source": [
    "plt.scatter(y_test, y_pred)"
   ]
  },
  {
   "cell_type": "markdown",
   "metadata": {},
   "source": [
    "Sulla base dei predittori e dei vari modelli che sono stati formati, si può concludere che le bottiglie vendute, il numero di punti vendita per codice postale, il volume venduto, la media delle vendite per punto vendita in ogni codice postale sono fortemente correlati alle vendite totali. Tutti e quattro questi predittori sono stati presi in considerazione per prevedere le vendite totali. Particolari codici di avviamento postale per la costruzione di futuri negozi di liquori saranno scelti successivamente."
   ]
  },
  {
   "cell_type": "markdown",
   "metadata": {},
   "source": [
    "### Conclusioni:\n",
    "tra i metodi visti la RIDGE REGRESSION è il modello migliore considerano i  predittori di interesse. A questo punto analizziamo i coefficenti del ridge regression: \n",
    "\n",
    "State profit per bottle: 1.18229587e+00 = 1,18\n",
    "Volume sold: 1.01612460e+01 = 10.16\n",
    "Number of Stores per ZIP: -1.82324166e+05 = -182324.16\n",
    "Bottles sold: 5.54660638e+00 = 5.546\n",
    "Sales per store: 1.99213590e-01 = 0.199\n",
    "\n",
    "Questi coefficienti rappresentano la forza e la direzione dell'influenza che il predittore ha sulle vendite totali. Come dimostrato, se il numero di negozi in ogni codice di avviamento postale aumenta di una unità, le Vendite Totali per ogni negozio in quel codice di avviamento postale diminuiscono enormemente. In altre parole, man mano che un numero maggiore di concorrenti (negozi di liquori) si aggiunge al campo, i profitti per ogni concorrente esistente diminuiscono. Sulla base di questi predittori e coefficienti, quattro codici di avviamento postale in particolare sono stati ristretti come le migliori posizioni per aprire un futuro negozio di liquori. \n",
    "I codici di avviamento postale scelto sono: 52314, 52401, 50312, 52403. \n",
    "Rappresentano codici postali dove non ci sono molti negozi e quindi con pochi concorrenti in zona e le bottiglie vendute e il volume venduto è abbastanza alto, in accordo ai coefficienti trovati.\n"
   ]
  },
  {
   "cell_type": "markdown",
   "metadata": {},
   "source": [
    "## Analisi degli Zip Code scelti"
   ]
  },
  {
   "cell_type": "code",
   "execution_count": 154,
   "metadata": {},
   "outputs": [
    {
     "data": {
      "text/html": [
       "<div>\n",
       "<style scoped>\n",
       "    .dataframe tbody tr th:only-of-type {\n",
       "        vertical-align: middle;\n",
       "    }\n",
       "\n",
       "    .dataframe tbody tr th {\n",
       "        vertical-align: top;\n",
       "    }\n",
       "\n",
       "    .dataframe thead th {\n",
       "        text-align: right;\n",
       "    }\n",
       "</style>\n",
       "<table border=\"1\" class=\"dataframe\">\n",
       "  <thead>\n",
       "    <tr style=\"text-align: right;\">\n",
       "      <th></th>\n",
       "      <th>Invoice/Item Number</th>\n",
       "      <th>Date</th>\n",
       "      <th>Store Number</th>\n",
       "      <th>Store Name</th>\n",
       "      <th>Address</th>\n",
       "      <th>City</th>\n",
       "      <th>Zip Code</th>\n",
       "      <th>Store Location</th>\n",
       "      <th>County Number</th>\n",
       "      <th>County</th>\n",
       "      <th>...</th>\n",
       "      <th>Bottle Volume (ml)</th>\n",
       "      <th>State Bottle Cost</th>\n",
       "      <th>State Bottle Retail</th>\n",
       "      <th>Bottles Sold</th>\n",
       "      <th>Sale (Dollars)</th>\n",
       "      <th>Volume Sold (Liters)</th>\n",
       "      <th>Volume Sold (Gallons)</th>\n",
       "      <th>month</th>\n",
       "      <th>year</th>\n",
       "      <th>State profit per bottle</th>\n",
       "    </tr>\n",
       "  </thead>\n",
       "  <tbody>\n",
       "    <tr>\n",
       "      <th>0</th>\n",
       "      <td>INV-00020100009</td>\n",
       "      <td>2016-08-29</td>\n",
       "      <td>4256</td>\n",
       "      <td>Fareway Stores #912 / Sioux Center</td>\n",
       "      <td>115  1st Ave NW</td>\n",
       "      <td>Sioux Center</td>\n",
       "      <td>51250</td>\n",
       "      <td>POINT (-96.176959 43.078003)</td>\n",
       "      <td>84.0</td>\n",
       "      <td>SIOUX</td>\n",
       "      <td>...</td>\n",
       "      <td>750</td>\n",
       "      <td>8.66</td>\n",
       "      <td>12.99</td>\n",
       "      <td>6</td>\n",
       "      <td>12.99</td>\n",
       "      <td>4.50</td>\n",
       "      <td>1.18</td>\n",
       "      <td>8</td>\n",
       "      <td>2016</td>\n",
       "      <td>4.33</td>\n",
       "    </tr>\n",
       "    <tr>\n",
       "      <th>1</th>\n",
       "      <td>INV-00067000040</td>\n",
       "      <td>2016-08-31</td>\n",
       "      <td>4588</td>\n",
       "      <td>Sam's Mini Mart / Sioux City</td>\n",
       "      <td>923 W 7TH ST</td>\n",
       "      <td>Sioux City</td>\n",
       "      <td>51103</td>\n",
       "      <td>POINT (-96.419074 42.503495)</td>\n",
       "      <td>97.0</td>\n",
       "      <td>WOODBURY</td>\n",
       "      <td>...</td>\n",
       "      <td>375</td>\n",
       "      <td>2.74</td>\n",
       "      <td>4.11</td>\n",
       "      <td>1</td>\n",
       "      <td>98.64</td>\n",
       "      <td>0.37</td>\n",
       "      <td>0.09</td>\n",
       "      <td>8</td>\n",
       "      <td>2016</td>\n",
       "      <td>1.37</td>\n",
       "    </tr>\n",
       "    <tr>\n",
       "      <th>3</th>\n",
       "      <td>INV-00030600017</td>\n",
       "      <td>2016-08-30</td>\n",
       "      <td>2605</td>\n",
       "      <td>Hy-Vee Drugstore #5 / Cedar Rapids</td>\n",
       "      <td>2001 Blairs Ferry Road NE</td>\n",
       "      <td>Cedar Rapids</td>\n",
       "      <td>52402</td>\n",
       "      <td>POINT (-91.668909 42.034799)</td>\n",
       "      <td>57.0</td>\n",
       "      <td>LINN</td>\n",
       "      <td>...</td>\n",
       "      <td>750</td>\n",
       "      <td>32.48</td>\n",
       "      <td>48.72</td>\n",
       "      <td>3</td>\n",
       "      <td>48.72</td>\n",
       "      <td>2.25</td>\n",
       "      <td>0.59</td>\n",
       "      <td>8</td>\n",
       "      <td>2016</td>\n",
       "      <td>16.24</td>\n",
       "    </tr>\n",
       "    <tr>\n",
       "      <th>4</th>\n",
       "      <td>S33682700006</td>\n",
       "      <td>2016-08-01</td>\n",
       "      <td>4967</td>\n",
       "      <td>Jeff's Market / Blue Grass</td>\n",
       "      <td>102, W Mayne St</td>\n",
       "      <td>Blue Grass</td>\n",
       "      <td>52726</td>\n",
       "      <td>POINT (-90.766126 41.509119)</td>\n",
       "      <td>82.0</td>\n",
       "      <td>Scott</td>\n",
       "      <td>...</td>\n",
       "      <td>600</td>\n",
       "      <td>7.12</td>\n",
       "      <td>10.68</td>\n",
       "      <td>1</td>\n",
       "      <td>10.68</td>\n",
       "      <td>0.60</td>\n",
       "      <td>0.16</td>\n",
       "      <td>8</td>\n",
       "      <td>2016</td>\n",
       "      <td>3.56</td>\n",
       "    </tr>\n",
       "    <tr>\n",
       "      <th>5</th>\n",
       "      <td>INV-00025700015</td>\n",
       "      <td>2016-08-30</td>\n",
       "      <td>4829</td>\n",
       "      <td>Central City 2</td>\n",
       "      <td>1501 Michigan Ave</td>\n",
       "      <td>Des Moines</td>\n",
       "      <td>50314</td>\n",
       "      <td>POINT (-93.613739 41.60572)</td>\n",
       "      <td>77.0</td>\n",
       "      <td>POLK</td>\n",
       "      <td>...</td>\n",
       "      <td>750</td>\n",
       "      <td>8.26</td>\n",
       "      <td>12.39</td>\n",
       "      <td>1</td>\n",
       "      <td>148.68</td>\n",
       "      <td>0.75</td>\n",
       "      <td>0.19</td>\n",
       "      <td>8</td>\n",
       "      <td>2016</td>\n",
       "      <td>4.13</td>\n",
       "    </tr>\n",
       "  </tbody>\n",
       "</table>\n",
       "<p>5 rows × 27 columns</p>\n",
       "</div>"
      ],
      "text/plain": [
       "  Invoice/Item Number       Date  Store Number  \\\n",
       "0     INV-00020100009 2016-08-29          4256   \n",
       "1     INV-00067000040 2016-08-31          4588   \n",
       "3     INV-00030600017 2016-08-30          2605   \n",
       "4        S33682700006 2016-08-01          4967   \n",
       "5     INV-00025700015 2016-08-30          4829   \n",
       "\n",
       "                           Store Name                    Address  \\\n",
       "0  Fareway Stores #912 / Sioux Center            115  1st Ave NW   \n",
       "1        Sam's Mini Mart / Sioux City               923 W 7TH ST   \n",
       "3  Hy-Vee Drugstore #5 / Cedar Rapids  2001 Blairs Ferry Road NE   \n",
       "4          Jeff's Market / Blue Grass            102, W Mayne St   \n",
       "5                      Central City 2          1501 Michigan Ave   \n",
       "\n",
       "           City Zip Code                Store Location  County Number  \\\n",
       "0  Sioux Center    51250  POINT (-96.176959 43.078003)           84.0   \n",
       "1    Sioux City    51103  POINT (-96.419074 42.503495)           97.0   \n",
       "3  Cedar Rapids    52402  POINT (-91.668909 42.034799)           57.0   \n",
       "4    Blue Grass    52726  POINT (-90.766126 41.509119)           82.0   \n",
       "5    Des Moines    50314   POINT (-93.613739 41.60572)           77.0   \n",
       "\n",
       "     County  ...  Bottle Volume (ml) State Bottle Cost  State Bottle Retail  \\\n",
       "0     SIOUX  ...                 750              8.66                12.99   \n",
       "1  WOODBURY  ...                 375              2.74                 4.11   \n",
       "3      LINN  ...                 750             32.48                48.72   \n",
       "4     Scott  ...                 600              7.12                10.68   \n",
       "5      POLK  ...                 750              8.26                12.39   \n",
       "\n",
       "  Bottles Sold  Sale (Dollars) Volume Sold (Liters)  Volume Sold (Gallons)  \\\n",
       "0            6           12.99                 4.50                   1.18   \n",
       "1            1           98.64                 0.37                   0.09   \n",
       "3            3           48.72                 2.25                   0.59   \n",
       "4            1           10.68                 0.60                   0.16   \n",
       "5            1          148.68                 0.75                   0.19   \n",
       "\n",
       "   month  year  State profit per bottle  \n",
       "0      8  2016                     4.33  \n",
       "1      8  2016                     1.37  \n",
       "3      8  2016                    16.24  \n",
       "4      8  2016                     3.56  \n",
       "5      8  2016                     4.13  \n",
       "\n",
       "[5 rows x 27 columns]"
      ]
     },
     "execution_count": 154,
     "metadata": {},
     "output_type": "execute_result"
    }
   ],
   "source": [
    "df.head()"
   ]
  },
  {
   "cell_type": "code",
   "execution_count": 158,
   "metadata": {},
   "outputs": [
    {
     "data": {
      "text/html": [
       "<div>\n",
       "<style scoped>\n",
       "    .dataframe tbody tr th:only-of-type {\n",
       "        vertical-align: middle;\n",
       "    }\n",
       "\n",
       "    .dataframe tbody tr th {\n",
       "        vertical-align: top;\n",
       "    }\n",
       "\n",
       "    .dataframe thead th {\n",
       "        text-align: right;\n",
       "    }\n",
       "</style>\n",
       "<table border=\"1\" class=\"dataframe\">\n",
       "  <thead>\n",
       "    <tr style=\"text-align: right;\">\n",
       "      <th></th>\n",
       "      <th>Invoice/Item Number</th>\n",
       "      <th>Date</th>\n",
       "      <th>Store Number</th>\n",
       "      <th>Store Name</th>\n",
       "      <th>Address</th>\n",
       "      <th>City</th>\n",
       "      <th>Zip Code</th>\n",
       "      <th>Store Location</th>\n",
       "      <th>County Number</th>\n",
       "      <th>County</th>\n",
       "      <th>...</th>\n",
       "      <th>Bottle Volume (ml)</th>\n",
       "      <th>State Bottle Cost</th>\n",
       "      <th>State Bottle Retail</th>\n",
       "      <th>Bottles Sold</th>\n",
       "      <th>Sale (Dollars)</th>\n",
       "      <th>Volume Sold (Liters)</th>\n",
       "      <th>Volume Sold (Gallons)</th>\n",
       "      <th>month</th>\n",
       "      <th>year</th>\n",
       "      <th>State profit per bottle</th>\n",
       "    </tr>\n",
       "  </thead>\n",
       "  <tbody>\n",
       "    <tr>\n",
       "      <th>421</th>\n",
       "      <td>S33659600004</td>\n",
       "      <td>2016-08-01</td>\n",
       "      <td>5102</td>\n",
       "      <td>Wilkie Liquors</td>\n",
       "      <td>724 1st  St  SE</td>\n",
       "      <td>Mount Vernon</td>\n",
       "      <td>52314</td>\n",
       "      <td>POINT (-91.410401 41.918328)</td>\n",
       "      <td>57.0</td>\n",
       "      <td>Linn</td>\n",
       "      <td>...</td>\n",
       "      <td>750</td>\n",
       "      <td>14.17</td>\n",
       "      <td>21.26</td>\n",
       "      <td>6</td>\n",
       "      <td>127.56</td>\n",
       "      <td>4.5</td>\n",
       "      <td>1.19</td>\n",
       "      <td>8</td>\n",
       "      <td>2016</td>\n",
       "      <td>7.09</td>\n",
       "    </tr>\n",
       "    <tr>\n",
       "      <th>1155</th>\n",
       "      <td>INV-00010000022</td>\n",
       "      <td>2016-08-29</td>\n",
       "      <td>5102</td>\n",
       "      <td>Wilkie Liquors</td>\n",
       "      <td>724 1st  St  SE</td>\n",
       "      <td>Mount Vernon</td>\n",
       "      <td>52314</td>\n",
       "      <td>POINT (-91.410401 41.918328)</td>\n",
       "      <td>57.0</td>\n",
       "      <td>LINN</td>\n",
       "      <td>...</td>\n",
       "      <td>1000</td>\n",
       "      <td>18.82</td>\n",
       "      <td>28.23</td>\n",
       "      <td>2</td>\n",
       "      <td>338.76</td>\n",
       "      <td>2.0</td>\n",
       "      <td>0.52</td>\n",
       "      <td>8</td>\n",
       "      <td>2016</td>\n",
       "      <td>9.41</td>\n",
       "    </tr>\n",
       "    <tr>\n",
       "      <th>3320</th>\n",
       "      <td>S33673400020</td>\n",
       "      <td>2016-08-01</td>\n",
       "      <td>3829</td>\n",
       "      <td>Gary's Foods / Mt Vernon</td>\n",
       "      <td>715  1st Ave S</td>\n",
       "      <td>Mount Vernon</td>\n",
       "      <td>52314</td>\n",
       "      <td>POINT (-91.422487 41.916708)</td>\n",
       "      <td>57.0</td>\n",
       "      <td>Linn</td>\n",
       "      <td>...</td>\n",
       "      <td>750</td>\n",
       "      <td>8.26</td>\n",
       "      <td>12.39</td>\n",
       "      <td>6</td>\n",
       "      <td>74.34</td>\n",
       "      <td>4.5</td>\n",
       "      <td>1.19</td>\n",
       "      <td>8</td>\n",
       "      <td>2016</td>\n",
       "      <td>4.13</td>\n",
       "    </tr>\n",
       "    <tr>\n",
       "      <th>4013</th>\n",
       "      <td>S33673400025</td>\n",
       "      <td>2016-08-01</td>\n",
       "      <td>3829</td>\n",
       "      <td>Gary's Foods / Mt Vernon</td>\n",
       "      <td>715  1st Ave S</td>\n",
       "      <td>Mount Vernon</td>\n",
       "      <td>52314</td>\n",
       "      <td>POINT (-91.422487 41.916708)</td>\n",
       "      <td>57.0</td>\n",
       "      <td>Linn</td>\n",
       "      <td>...</td>\n",
       "      <td>750</td>\n",
       "      <td>6.83</td>\n",
       "      <td>10.25</td>\n",
       "      <td>4</td>\n",
       "      <td>41.00</td>\n",
       "      <td>3.0</td>\n",
       "      <td>0.79</td>\n",
       "      <td>8</td>\n",
       "      <td>2016</td>\n",
       "      <td>3.42</td>\n",
       "    </tr>\n",
       "    <tr>\n",
       "      <th>4556</th>\n",
       "      <td>S33673400024</td>\n",
       "      <td>2016-08-01</td>\n",
       "      <td>3829</td>\n",
       "      <td>Gary's Foods / Mt Vernon</td>\n",
       "      <td>715  1st Ave S</td>\n",
       "      <td>Mount Vernon</td>\n",
       "      <td>52314</td>\n",
       "      <td>POINT (-91.422487 41.916708)</td>\n",
       "      <td>57.0</td>\n",
       "      <td>Linn</td>\n",
       "      <td>...</td>\n",
       "      <td>750</td>\n",
       "      <td>6.83</td>\n",
       "      <td>10.25</td>\n",
       "      <td>4</td>\n",
       "      <td>41.00</td>\n",
       "      <td>3.0</td>\n",
       "      <td>0.79</td>\n",
       "      <td>8</td>\n",
       "      <td>2016</td>\n",
       "      <td>3.42</td>\n",
       "    </tr>\n",
       "  </tbody>\n",
       "</table>\n",
       "<p>5 rows × 27 columns</p>\n",
       "</div>"
      ],
      "text/plain": [
       "     Invoice/Item Number       Date  Store Number                Store Name  \\\n",
       "421         S33659600004 2016-08-01          5102            Wilkie Liquors   \n",
       "1155     INV-00010000022 2016-08-29          5102            Wilkie Liquors   \n",
       "3320        S33673400020 2016-08-01          3829  Gary's Foods / Mt Vernon   \n",
       "4013        S33673400025 2016-08-01          3829  Gary's Foods / Mt Vernon   \n",
       "4556        S33673400024 2016-08-01          3829  Gary's Foods / Mt Vernon   \n",
       "\n",
       "              Address          City Zip Code                Store Location  \\\n",
       "421   724 1st  St  SE  Mount Vernon    52314  POINT (-91.410401 41.918328)   \n",
       "1155  724 1st  St  SE  Mount Vernon    52314  POINT (-91.410401 41.918328)   \n",
       "3320   715  1st Ave S  Mount Vernon    52314  POINT (-91.422487 41.916708)   \n",
       "4013   715  1st Ave S  Mount Vernon    52314  POINT (-91.422487 41.916708)   \n",
       "4556   715  1st Ave S  Mount Vernon    52314  POINT (-91.422487 41.916708)   \n",
       "\n",
       "      County Number County  ...  Bottle Volume (ml) State Bottle Cost  \\\n",
       "421            57.0   Linn  ...                 750             14.17   \n",
       "1155           57.0   LINN  ...                1000             18.82   \n",
       "3320           57.0   Linn  ...                 750              8.26   \n",
       "4013           57.0   Linn  ...                 750              6.83   \n",
       "4556           57.0   Linn  ...                 750              6.83   \n",
       "\n",
       "      State Bottle Retail Bottles Sold  Sale (Dollars) Volume Sold (Liters)  \\\n",
       "421                 21.26            6          127.56                  4.5   \n",
       "1155                28.23            2          338.76                  2.0   \n",
       "3320                12.39            6           74.34                  4.5   \n",
       "4013                10.25            4           41.00                  3.0   \n",
       "4556                10.25            4           41.00                  3.0   \n",
       "\n",
       "      Volume Sold (Gallons)  month  year  State profit per bottle  \n",
       "421                    1.19      8  2016                     7.09  \n",
       "1155                   0.52      8  2016                     9.41  \n",
       "3320                   1.19      8  2016                     4.13  \n",
       "4013                   0.79      8  2016                     3.42  \n",
       "4556                   0.79      8  2016                     3.42  \n",
       "\n",
       "[5 rows x 27 columns]"
      ]
     },
     "execution_count": 158,
     "metadata": {},
     "output_type": "execute_result"
    }
   ],
   "source": [
    "primo_zip=df['Zip Code'] == '52314'\n",
    "zip1=df[primo_zip]\n",
    "# zip1.head()\n",
    "zip1['Category Name'].value_counts()"
   ]
  },
  {
   "cell_type": "code",
   "execution_count": 159,
   "metadata": {},
   "outputs": [
    {
     "data": {
      "text/plain": [
       "CANADIAN WHISKIES                       6511\n",
       "STRAIGHT BOURBON WHISKIES               5158\n",
       "AMERICAN VODKAS                         4949\n",
       "VODKA 80 PROOF                          4543\n",
       "TEQUILA                                 4386\n",
       "                                        ... \n",
       "AMERICAN VODKA                             9\n",
       "AMARETTO - IMPORTED                        3\n",
       "SCHNAPPS - IMPORTED                        2\n",
       "IMPORTED DISTILLED SPIRITS SPECIALTY       1\n",
       "COCKTAILS / RTD                            1\n",
       "Name: Category Name, Length: 98, dtype: int64"
      ]
     },
     "execution_count": 159,
     "metadata": {},
     "output_type": "execute_result"
    }
   ],
   "source": [
    "zip1['Category Name'].value_counts()"
   ]
  },
  {
   "cell_type": "code",
   "execution_count": null,
   "metadata": {},
   "outputs": [],
   "source": [
    "primo_zip=df['Zip Code'] == '52314'\n",
    "zip1=df[primo_zip]\n",
    "zip1['Category Name'].value_counts() "
   ]
  },
  {
   "cell_type": "code",
   "execution_count": 160,
   "metadata": {},
   "outputs": [
    {
     "data": {
      "text/plain": [
       "STRAIGHT BOURBON WHISKIES     5457\n",
       "CANADIAN WHISKIES             5055\n",
       "AMERICAN VODKAS               4526\n",
       "VODKA 80 PROOF                3515\n",
       "IMPORTED SCHNAPPS             2961\n",
       "                              ... \n",
       "DELISTED ITEMS                   3\n",
       "PEACH BRANDIES                   3\n",
       "HIGH PROOF BEER - AMERICAN       2\n",
       "IMPORTED GINS                    2\n",
       "OTHER PROOF VODKA                1\n",
       "Name: Category Name, Length: 104, dtype: int64"
      ]
     },
     "execution_count": 160,
     "metadata": {},
     "output_type": "execute_result"
    }
   ],
   "source": [
    "secondo_zip=df['Zip Code'] == '52401'\n",
    "zip2=df[secondo_zip]\n",
    "zip2['Category Name'].value_counts()"
   ]
  },
  {
   "cell_type": "code",
   "execution_count": 161,
   "metadata": {},
   "outputs": [
    {
     "data": {
      "text/plain": [
       "AMERICAN VODKAS                 8520\n",
       "STRAIGHT BOURBON WHISKIES       6120\n",
       "CANADIAN WHISKIES               5132\n",
       "VODKA 80 PROOF                  4359\n",
       "SCOTCH WHISKIES                 3441\n",
       "                                ... \n",
       "AMERICAN CORDIALS & LIQUEURS       4\n",
       "LOW PROOF VODKA                    2\n",
       "TROPICAL FRUIT SCHNAPPS            1\n",
       "AMERICAN VODKA                     1\n",
       "STRAWBERRY SCHNAPPS                1\n",
       "Name: Category Name, Length: 98, dtype: int64"
      ]
     },
     "execution_count": 161,
     "metadata": {},
     "output_type": "execute_result"
    }
   ],
   "source": [
    "terzo_zip=df['Zip Code'] == '50312'\n",
    "zip3=df[terzo_zip]\n",
    "zip3['Category Name'].value_counts()\n"
   ]
  },
  {
   "cell_type": "code",
   "execution_count": 162,
   "metadata": {},
   "outputs": [
    {
     "data": {
      "text/plain": [
       "VODKA 80 PROOF                          7633\n",
       "AMERICAN VODKAS                         7521\n",
       "CANADIAN WHISKIES                       7344\n",
       "STRAIGHT BOURBON WHISKIES               6846\n",
       "SPICED RUM                              4326\n",
       "                                        ... \n",
       "AMERICAN DISTILLED SPIRITS SPECIALTY       3\n",
       "JAPANESE WHISKY                            2\n",
       "IOWA DISTILLERY WHISKIES                   1\n",
       "DELISTED ITEMS                             1\n",
       "SPEARMINT SCHNAPPS                         1\n",
       "Name: Category Name, Length: 100, dtype: int64"
      ]
     },
     "execution_count": 162,
     "metadata": {},
     "output_type": "execute_result"
    }
   ],
   "source": [
    "# quarto_zip=df[df['Zip Code'] == 52403]\n",
    "# quarto_zip['Category Name'].value_counts()\n",
    "\n",
    "quarto_zip=df['Zip Code'] == '52403'\n",
    "zip4=df[quarto_zip]\n",
    "zip4['Category Name'].value_counts()"
   ]
  }
 ],
 "metadata": {
  "kernelspec": {
   "display_name": "Python 3 (ipykernel)",
   "language": "python",
   "name": "python3"
  },
  "language_info": {
   "codemirror_mode": {
    "name": "ipython",
    "version": 3
   },
   "file_extension": ".py",
   "mimetype": "text/x-python",
   "name": "python",
   "nbconvert_exporter": "python",
   "pygments_lexer": "ipython3",
   "version": "3.11.5"
  }
 },
 "nbformat": 4,
 "nbformat_minor": 4
}
